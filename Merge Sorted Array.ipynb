{
 "cells": [
  {
   "cell_type": "code",
   "execution_count": null,
   "metadata": {},
   "outputs": [],
   "source": [
    "nums1 = [1, 2, 3, 0, 0, 0]\n",
    "nums2 = [2, 5, 6]\n",
    "m = 3\n",
    "n = 3\n",
    "\n",
    "nums1 = [0,0,3,0,0,0,0,0,0]\n",
    "nums2 = [-1,1,1,1,2,3]\n",
    "m = 3\n",
    "n = 6"
   ]
  },
  {
   "cell_type": "code",
   "execution_count": null,
   "metadata": {},
   "outputs": [],
   "source": [
    "arr1 = nums1\n",
    "arr2 = nums2\n",
    "big = m+n-1\n",
    "c1 = m-1\n",
    "c2 = n-1\n",
    "\n",
    "while True:\n",
    "    if c2<0:\n",
    "        break            \n",
    "    elif c1<0:\n",
    "        arr1[big]=arr2[c2]\n",
    "        c2-=1\n",
    "        big-=1\n",
    "        continue\n",
    "    if arr1[c1]>arr2[c2]:\n",
    "        arr1[big] = arr1[c1]\n",
    "        c1-=1\n",
    "        big-=1\n",
    "    elif arr1[c1]<arr2[c2]:\n",
    "        arr1[big] = arr2[c2]\n",
    "        c2-=1\n",
    "        big-=1\n",
    "    else:\n",
    "        arr1[big] = arr1[c1]\n",
    "        arr1[big-1] = arr1[c1]    \n",
    "        c1-=1\n",
    "        c2-=1\n",
    "        big-=2"
   ]
  },
  {
   "cell_type": "code",
   "execution_count": 68,
   "metadata": {},
   "outputs": [
    {
     "data": {
      "text/plain": [
       "[-1, 0, 0, 1, 1, 1, 2, 3, 3]"
      ]
     },
     "execution_count": 68,
     "metadata": {},
     "output_type": "execute_result"
    }
   ],
   "source": [
    "arr1"
   ]
  },
  {
   "cell_type": "code",
   "execution_count": null,
   "metadata": {},
   "outputs": [],
   "source": []
  }
 ],
 "metadata": {
  "kernelspec": {
   "display_name": "Python 3",
   "language": "python",
   "name": "python3"
  },
  "language_info": {
   "codemirror_mode": {
    "name": "ipython",
    "version": 3
   },
   "file_extension": ".py",
   "mimetype": "text/x-python",
   "name": "python",
   "nbconvert_exporter": "python",
   "pygments_lexer": "ipython3",
   "version": "3.8.3"
  }
 },
 "nbformat": 4,
 "nbformat_minor": 4
}
