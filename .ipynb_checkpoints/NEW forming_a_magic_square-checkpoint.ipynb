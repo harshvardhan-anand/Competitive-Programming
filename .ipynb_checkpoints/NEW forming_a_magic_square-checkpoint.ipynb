{
 "cells": [
  {
   "cell_type": "code",
   "execution_count": 35,
   "metadata": {},
   "outputs": [
    {
     "name": "stdout",
     "output_type": "stream",
     "text": [
      "8 3 4 1 5 9 6 7 2\n"
     ]
    }
   ],
   "source": [
    "given_mat = list(map(int, input().split()))"
   ]
  },
  {
   "cell_type": "code",
   "execution_count": 36,
   "metadata": {},
   "outputs": [
    {
     "data": {
      "text/plain": [
       "[8, 3, 4, 1, 5, 9, 6, 7, 2]"
      ]
     },
     "execution_count": 36,
     "metadata": {},
     "output_type": "execute_result"
    }
   ],
   "source": [
    "given_mat"
   ]
  },
  {
   "cell_type": "markdown",
   "metadata": {},
   "source": [
    "temp_mat = []\n",
    "new_mat = []\n",
    "\n",
    "i = 0\n",
    "while any(given_mat):\n",
    "    \n",
    "    if len(temp_mat) == 3:\n",
    "        new_mat.append(temp_mat)\n",
    "        print(new_mat)\n",
    "        temp_mat = []\n",
    "    else:\n",
    "        temp_mat.append(given_mat[i])\n",
    "        given_mat.pop(i)\n",
    "else:\n",
    "    print(new_mat)"
   ]
  },
  {
   "cell_type": "code",
   "execution_count": 57,
   "metadata": {},
   "outputs": [
    {
     "name": "stdout",
     "output_type": "stream",
     "text": [
      "[[8, 3, 4], [1, 5, 9], [6, 7, 2]]\n"
     ]
    }
   ],
   "source": [
    "#Creating matrix from list of numbers\n",
    "\n",
    "temp_mat = []\n",
    "new_mat = []\n",
    "\n",
    "i = 0\n",
    "while i <= 8:\n",
    "    \n",
    "    if len(temp_mat) == 3:\n",
    "        new_mat.append(temp_mat)\n",
    "        temp_mat = []\n",
    "    else:\n",
    "        temp_mat.append(given_mat[i])\n",
    "        i += 1\n",
    "        \n",
    "        \n",
    "else:\n",
    "    magic_sum = sum(temp_mat)\n",
    "    new_mat.append(temp_mat)\n",
    "    del temp_mat\n",
    "    print(new_mat)"
   ]
  },
  {
   "cell_type": "code",
   "execution_count": null,
   "metadata": {},
   "outputs": [],
   "source": []
  }
 ],
 "metadata": {
  "kernelspec": {
   "display_name": "Python 3",
   "language": "python",
   "name": "python3"
  },
  "language_info": {
   "codemirror_mode": {
    "name": "ipython",
    "version": 3
   },
   "file_extension": ".py",
   "mimetype": "text/x-python",
   "name": "python",
   "nbconvert_exporter": "python",
   "pygments_lexer": "ipython3",
   "version": "3.7.1"
  }
 },
 "nbformat": 4,
 "nbformat_minor": 2
}
