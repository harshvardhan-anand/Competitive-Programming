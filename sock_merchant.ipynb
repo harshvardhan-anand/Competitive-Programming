{
 "cells": [
  {
   "cell_type": "code",
   "execution_count": 28,
   "metadata": {},
   "outputs": [],
   "source": [
    "#print(f\"i: {i}    activator: {activator}      ue: {ue}\")\n",
    "#print(f\"Entering else part for i: {i}    count:{count}    pair:{pair}\")"
   ]
  },
  {
   "cell_type": "code",
   "execution_count": 29,
   "metadata": {},
   "outputs": [
    {
     "name": "stdout",
     "output_type": "stream",
     "text": [
      "9\n",
      "10 20 20 10 10 30 50 10 20\n",
      "3\n"
     ]
    }
   ],
   "source": [
    "n=int(input())\n",
    "arr=input().split()\n",
    "ue=[]\n",
    "activator=0\n",
    "count=0\n",
    "pair=0\n",
    "for i in arr:\n",
    "    i=int(i)\n",
    "    if (i not in ue):\n",
    "        ue.append(i)\n",
    "        activator=1\n",
    "    if activator:\n",
    "        activator=0\n",
    "        for j in arr:\n",
    "            j=int(j)\n",
    "            if i==j:\n",
    "                count+=1\n",
    "        if count%2==0:\n",
    "            pair=pair+(count/2)\n",
    "        else:\n",
    "            count=(count-1)/2\n",
    "            pair=pair+count\n",
    "        count=0\n",
    "print(int(pair))"
   ]
  },
  {
   "cell_type": "code",
   "execution_count": null,
   "metadata": {},
   "outputs": [],
   "source": []
  }
 ],
 "metadata": {
  "kernelspec": {
   "display_name": "Python 3",
   "language": "python",
   "name": "python3"
  },
  "language_info": {
   "codemirror_mode": {
    "name": "ipython",
    "version": 3
   },
   "file_extension": ".py",
   "mimetype": "text/x-python",
   "name": "python",
   "nbconvert_exporter": "python",
   "pygments_lexer": "ipython3",
   "version": "3.7.1"
  }
 },
 "nbformat": 4,
 "nbformat_minor": 2
}
