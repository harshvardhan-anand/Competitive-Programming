{
 "cells": [
  {
   "cell_type": "code",
   "execution_count": 4,
   "id": "032e3780",
   "metadata": {},
   "outputs": [],
   "source": [
    "a = [ [1, 2, 2], [3, 1, 4], [0,0,0] ]"
   ]
  },
  {
   "cell_type": "code",
   "execution_count": 5,
   "id": "d59adcbf",
   "metadata": {},
   "outputs": [
    {
     "data": {
      "text/plain": [
       "1"
      ]
     },
     "execution_count": 5,
     "metadata": {},
     "output_type": "execute_result"
    }
   ],
   "source": [
    "d = {}\n",
    "for i in a:\n",
    "    for j in set(i):\n",
    "        if d.get(j) is None:\n",
    "            d[j] = 1\n",
    "        else:\n",
    "            d[j]+=1\n",
    "            \n",
    "c = 0\n",
    "for i in d:\n",
    "    if d.get(i)>1:\n",
    "        c+=1\n",
    "c "
   ]
  },
  {
   "cell_type": "code",
   "execution_count": null,
   "id": "e240457a",
   "metadata": {},
   "outputs": [],
   "source": [
    "lft, rgt = 1, (A+B)//4\n",
    "result = 0\n",
    "\n",
    "while lft <= rgt:\n",
    "\n",
    "    mid = (lft+rgt)//2\n",
    "\n",
    "    if (A//mid)+(B//mid) >= 4:\n",
    "        result = mid\n",
    "\n",
    "    if (A//mid)+(B//mid) >= 4:\n",
    "        lft = mid + 1\n",
    "    else:\n",
    "        rgt = mid - 1\n",
    "print(result)"
   ]
  }
 ],
 "metadata": {
  "kernelspec": {
   "display_name": "Python 3 (ipykernel)",
   "language": "python",
   "name": "python3"
  },
  "language_info": {
   "codemirror_mode": {
    "name": "ipython",
    "version": 3
   },
   "file_extension": ".py",
   "mimetype": "text/x-python",
   "name": "python",
   "nbconvert_exporter": "python",
   "pygments_lexer": "ipython3",
   "version": "3.9.7"
  }
 },
 "nbformat": 4,
 "nbformat_minor": 5
}
