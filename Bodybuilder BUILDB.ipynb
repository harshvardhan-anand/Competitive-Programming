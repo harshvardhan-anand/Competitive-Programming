{
 "cells": [
  {
   "cell_type": "code",
   "execution_count": 93,
   "metadata": {},
   "outputs": [
    {
     "name": "stdout",
     "output_type": "stream",
     "text": [
      "0\n",
      "0\n"
     ]
    }
   ],
   "source": [
    "try:\n",
    "    output = 0\n",
    "    def find_output(n,time):\n",
    "        max_tension = []\n",
    "        if not n:\n",
    "            return 0, 0\n",
    "        i = 0\n",
    "        current_tension = 0\n",
    "        while i<n-1:\n",
    "            current_tension = tension[i]\n",
    "            time_diff = time[i+1]-time[i]\n",
    "            tension_released = time_diff*r\n",
    "            current_tension-=tension_released\n",
    "            if current_tension<0:\n",
    "                current_tension = 0\n",
    "            i+=1\n",
    "            max_tension.append(current_tension)\n",
    "        current_tension+=tension[-1]\n",
    "        max_tension.append(current_tension)\n",
    "        return current_tension, max_tension\n",
    "\n",
    "    n = 0\n",
    "    r = 10000\n",
    "    time = [1, 2, 30]\n",
    "    # time=[]\n",
    "    tension = [1, 40, 3]\n",
    "    # tension = []\n",
    "    if not n:\n",
    "        print(0)\n",
    "    output, max_tension = find_output(n,time)\n",
    "    \n",
    "    print((max_tension))\n",
    "    \n",
    "except:\n",
    "    pass"
   ]
  },
  {
   "cell_type": "code",
   "execution_count": 68,
   "metadata": {},
   "outputs": [
    {
     "data": {
      "text/plain": [
       "-2"
      ]
     },
     "execution_count": 68,
     "metadata": {},
     "output_type": "execute_result"
    }
   ],
   "source": [
    "released_tension"
   ]
  },
  {
   "cell_type": "code",
   "execution_count": 71,
   "metadata": {},
   "outputs": [],
   "source": [
    "i = 0\n",
    "current_tension = 0\n",
    "while i<n-1:\n",
    "    current_tension = tension[i]\n",
    "    time_diff = time[i+1]-time[i]\n",
    "    tension_released = time_diff*r\n",
    "    current_tension-=tension_released\n",
    "    if current_tension<0:\n",
    "        current_tension = 0\n",
    "    i+=1\n",
    "current_tension+=tension[-1]"
   ]
  },
  {
   "cell_type": "code",
   "execution_count": 72,
   "metadata": {},
   "outputs": [
    {
     "data": {
      "text/plain": [
       "4"
      ]
     },
     "execution_count": 72,
     "metadata": {},
     "output_type": "execute_result"
    }
   ],
   "source": [
    "current_tension"
   ]
  },
  {
   "cell_type": "markdown",
   "metadata": {},
   "source": [
    "#### Submission"
   ]
  },
  {
   "cell_type": "code",
   "execution_count": 74,
   "metadata": {},
   "outputs": [
    {
     "name": "stdout",
     "output_type": "stream",
     "text": [
      "0\n",
      "d\n"
     ]
    }
   ],
   "source": [
    "try:\n",
    "    output = 0\n",
    "    def find_output(n,time):\n",
    "        max_tension = []\n",
    "        if not n:\n",
    "            return 0\n",
    "        i = 0\n",
    "        current_tension = 0\n",
    "        while i<n-1:\n",
    "            current_tension = tension[i]\n",
    "            time_diff = time[i+1]-time[i]\n",
    "            tension_released = time_diff*r\n",
    "            current_tension-=tension_released\n",
    "            if current_tension<0:\n",
    "                current_tension = 0\n",
    "            i+=1\n",
    "            max_tension.append(current_tension)\n",
    "        current_tension+=tension[-1]\n",
    "        max_tension.append(current_tension)\n",
    "        return current_tension, max_tension\n",
    "\n",
    "    testc = input()\n",
    "    for _ in range(int(testc)):\n",
    "        n, r = list(map(int, input().split()))\n",
    "        time = list(map(int, input().split()))\n",
    "        tension = list(map(int, input().split()))\n",
    "        if not n:\n",
    "            print(0)\n",
    "            continue\n",
    "        output,max_tension = find_output(n,time)\n",
    "\n",
    "        print(max(max_tension))\n",
    "except:\n",
    "    print(0)"
   ]
  },
  {
   "cell_type": "code",
   "execution_count": null,
   "metadata": {},
   "outputs": [],
   "source": []
  }
 ],
 "metadata": {
  "kernelspec": {
   "display_name": "Python 3",
   "language": "python",
   "name": "python3"
  },
  "language_info": {
   "codemirror_mode": {
    "name": "ipython",
    "version": 3
   },
   "file_extension": ".py",
   "mimetype": "text/x-python",
   "name": "python",
   "nbconvert_exporter": "python",
   "pygments_lexer": "ipython3",
   "version": "3.8.3"
  }
 },
 "nbformat": 4,
 "nbformat_minor": 4
}
