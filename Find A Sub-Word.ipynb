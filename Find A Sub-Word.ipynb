{
 "cells": [
  {
   "cell_type": "code",
   "execution_count": 28,
   "metadata": {},
   "outputs": [],
   "source": [
    "import re"
   ]
  },
  {
   "cell_type": "code",
   "execution_count": 29,
   "metadata": {},
   "outputs": [],
   "source": [
    "def check(pattern, string):\n",
    "    regex = re.compile(pattern)\n",
    "    \n",
    "    try:\n",
    "        return re.findall(regex, string)\n",
    "    except Exception  as E:\n",
    "        print(E)"
   ]
  },
  {
   "cell_type": "code",
   "execution_count": 30,
   "metadata": {},
   "outputs": [
    {
     "data": {
      "text/plain": [
       "3"
      ]
     },
     "execution_count": 30,
     "metadata": {},
     "output_type": "execute_result"
    }
   ],
   "source": [
    "pattern = r'(?:(?<=\\w)){}(?:(?=\\w))'.format('is')\n",
    "string = 'existing pessimist optimist this is'\n",
    "\n",
    "len(check(pattern, string))"
   ]
  },
  {
   "cell_type": "code",
   "execution_count": 32,
   "metadata": {
    "scrolled": true
   },
   "outputs": [
    {
     "name": "stdout",
     "output_type": "stream",
     "text": [
      "1\n",
      "existing pessimist optimist this is\n",
      "1\n",
      "is\n",
      "3\n"
     ]
    }
   ],
   "source": [
    "# Enter your code here. Read input from STDIN. Print output to STDOUT\n",
    "import re\n",
    "\n",
    "def check(pattern, string):\n",
    "    regex = re.compile(pattern)\n",
    "    \n",
    "    try:\n",
    "        return re.findall(regex, string)\n",
    "    except Exception  as E:\n",
    "        print(E)\n",
    "\n",
    "def reuse():\n",
    "    lines = []\n",
    "    n = int(input())\n",
    "    for _ in range(n):\n",
    "        l = input()\n",
    "        lines.append(l)\n",
    "    return lines\n",
    "\n",
    "lines = reuse()\n",
    "queries = reuse()\n",
    "\n",
    "lines = ' '.join(lines)\n",
    "for query in queries:\n",
    "    pattern = r'(?:(?<=\\w)){}(?:(?=\\w))'.format(query)\n",
    "    print(len(check(pattern, lines)))"
   ]
  },
  {
   "cell_type": "code",
   "execution_count": null,
   "metadata": {},
   "outputs": [],
   "source": []
  }
 ],
 "metadata": {
  "kernelspec": {
   "display_name": "Python 3",
   "language": "python",
   "name": "python3"
  },
  "language_info": {
   "codemirror_mode": {
    "name": "ipython",
    "version": 3
   },
   "file_extension": ".py",
   "mimetype": "text/x-python",
   "name": "python",
   "nbconvert_exporter": "python",
   "pygments_lexer": "ipython3",
   "version": "3.7.6"
  }
 },
 "nbformat": 4,
 "nbformat_minor": 4
}
