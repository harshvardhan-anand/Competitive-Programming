{
 "cells": [
  {
   "cell_type": "code",
   "execution_count": 2,
   "metadata": {},
   "outputs": [],
   "source": [
    "import re"
   ]
  },
  {
   "cell_type": "code",
   "execution_count": 3,
   "metadata": {},
   "outputs": [],
   "source": [
    "def check(pattern, string):\n",
    "    regex = re.compile(pattern)\n",
    "    \n",
    "    try:\n",
    "        return re.findall(regex, string)\n",
    "    except Exception as E:\n",
    "        print(E)"
   ]
  },
  {
   "cell_type": "code",
   "execution_count": 10,
   "metadata": {},
   "outputs": [],
   "source": [
    "# https://regex101.com/r/cllguv/1\n",
    "# https://regex101.com/r/9WMdkv/1  \n",
    "# https://regex101.com/r/9WMdkv/2     \n",
    "# https://regex101.com/r/6tXo1c/1    #Perfect "
   ]
  },
  {
   "cell_type": "code",
   "execution_count": 5,
   "metadata": {},
   "outputs": [],
   "source": [
    "str1='''<div class=\"portal\" role=\"navigation\" id='p-lang'>\n",
    "<h3>Languages</h3>\n",
    "<div class=\"body\">\n",
    "<ul>\n",
    "<li class=\"interwiki-simple\"><a href=\"//simple.wikipedia.org/wiki/\" title=\"\" lang=\"simple\" hreflang=\"simple\">Simple English</a></li>\n",
    "<li class=\"interwiki-ar\"><a href=\"//ar.wikipedia.org/wiki/\" title=\"\" lang=\"ar\" hreflang=\"ar\"></a></li>\n",
    "<li class=\"interwiki-id\"><a href=\"//id.wikipedia.org/wiki/\" title=\"\" lang=\"id\" hreflang=\"id\">Bahasa Indonesia</a></li>\n",
    "<li class=\"interwiki-ms\"><a href=\"//ms.wikipedia.org/wiki/\" title=\"\" lang=\"ms\" hreflang=\"ms\">Bahasa Melayu</a></li>\n",
    "<li class=\"interwiki-bg\"><a href=\"//bg.wikipedia.org/wiki/\" title=\"\" lang=\"bg\" hreflang=\"bg\"></a></li>\n",
    "<li class=\"interwiki-ca\"><a href=\"//ca.wikipedia.org/wiki/\" title=\"\" lang=\"ca\" hreflang=\"ca\">Catal</a></li>\n",
    "<li class=\"interwiki-cs\"><a href=\"//cs.wikipedia.org/wiki/\" title=\"\" lang=\"cs\" hreflang=\"cs\">esky</a></li>\n",
    "<li class=\"interwiki-da\"><a href=\"//da.wikipedia.org/wiki/\" title=\"\" lang=\"da\" hreflang=\"da\"><b>Dansk</b></a></li>\n",
    "<li class=\"interwiki-de\"><a href=\"//de.wikipedia.org/wiki/\" title=\"\" lang=\"de\" hreflang=\"de\">Deutsch</a></li>\n",
    "<li class=\"interwiki-et\"><a href=\"//et.wikipedia.org/wiki/\" title=\"\" lang=\"et\" hreflang=\"et\">Eesti</a></li>\n",
    "<li class=\"interwiki-el\"><a href=\"//el.wikipedia.org/wiki/\" title=\"\" lang=\"el\" hreflang=\"el\"></a></li>\n",
    "<li class=\"interwiki-es\"><a href=\"//es.wikipedia.org/wiki/\" title=\"\" lang=\"es\" hreflang=\"es\">Espaol</a></li>\n",
    "<li class=\"interwiki-eo\"><a href=\"//eo.wikipedia.org/wiki/\" title=\"\" lang=\"eo\" hreflang=\"eo\">Esperanto</a></li>\n",
    "<li class=\"interwiki-eu\"><a href=\"//eu.wikipedia.org/wiki/\" title=\"\" lang=\"eu\" hreflang=\"eu\">Euskara</a></li>\n",
    "<li class=\"interwiki-fa\"><a href=\"//fa.wikipedia.org/wiki/\" title=\"\" lang=\"fa\" hreflang=\"fa\"></a></li>\n",
    "<li class=\"interwiki-fr\"><a href=\"//fr.wikipedia.org/wiki/\" title=\"\" lang=\"fr\" hreflang=\"fr\">Franais</a></li>\n",
    "<li class=\"interwiki-gl\"><a href=\"//gl.wikipedia.org/wiki/\" title=\"\" lang=\"gl\" hreflang=\"gl\">Galego</a></li>\n",
    "<li class=\"interwiki-ko\"><a href=\"//ko.wikipedia.org/wiki/\" title=\"\" lang=\"ko\" hreflang=\"ko\"></a></li>\n",
    "<li class=\"interwiki-he\"><a href=\"//he.wikipedia.org/wiki/\" title=\"\" lang=\"he\" hreflang=\"he\"></a></li>\n",
    "<li class=\"interwiki-hr\"><a href=\"//hr.wikipedia.org/wiki/\" title=\"\" lang=\"hr\" hreflang=\"hr\">Hrvatski</a></li>\n",
    "<li class=\"interwiki-it\"><a href=\"//it.wikipedia.org/wiki/\" title=\"\" lang=\"it\" hreflang=\"it\">Italiano</a></li>\n",
    "<li class=\"interwiki-lt\"><a href=\"//lt.wikipedia.org/wiki/\" title=\"\" lang=\"lt\" hreflang=\"lt\">Lietuvi</a></li>\n",
    "<li class=\"interwiki-hu\"><a href=\"//hu.wikipedia.org/wiki/\" title=\"\" lang=\"hu\" hreflang=\"hu\">Magyar</a></li>\n",
    "<li class=\"interwiki-nl\"><a href=\"//nl.wikipedia.org/wiki/\" title=\"\" lang=\"nl\" hreflang=\"nl\">Nederlands</a></li>\n",
    "<li class=\"interwiki-ja\"><a href=\"//ja.wikipedia.org/wiki/\" title=\"\" lang=\"ja\" hreflang=\"ja\"></a></li>\n",
    "<li class=\"interwiki-no\"><a href=\"//no.wikipedia.org/wiki/\" title=\"\" lang=\"no\" hreflang=\"no\">Norsk bokml</a></li>\n",
    "<li class=\"interwiki-nn\"><a href=\"//nn.wikipedia.org/wiki/\" title=\"\" lang=\"nn\" hreflang=\"nn\">Norsk nynorsk</a></li>\n",
    "<li class=\"interwiki-pl\"><a href=\"//pl.wikipedia.org/wiki/\" title=\"\" lang=\"pl\" hreflang=\"pl\">Polski</a></li>\n",
    "<li class=\"interwiki-pt\"><a href=\"//pt.wikipedia.org/wiki/\" title=\"\" lang=\"pt\" hreflang=\"pt\">Portugus</a></li>\n",
    "<li class=\"interwiki-ro\"><a href=\"//ro.wikipedia.org/wiki/\" title=\"\" lang=\"ro\" hreflang=\"ro\">Romn</a></li>\n",
    "<li class=\"interwiki-ru\"><a href=\"//ru.wikipedia.org/wiki/\" title=\"\" lang=\"ru\" hreflang=\"ru\"></a></li>\n",
    "<li class=\"interwiki-sk\"><a href=\"//sk.wikipedia.org/wiki/\" title=\"\" lang=\"sk\" hreflang=\"sk\">Slovenina</a></li>\n",
    "<li class=\"interwiki-sl\"><a href=\"//sl.wikipedia.org/wiki/\" title=\"\" lang=\"sl\" hreflang=\"sl\">Slovenina</a></li>\n",
    "<li class=\"interwiki-sr\"><a href=\"//sr.wikipedia.org/wiki/\" title=\"\" lang=\"sr\" hreflang=\"sr\"> / srpski</a></li>\n",
    "<li class=\"interwiki-sh\"><a href=\"//sh.wikipedia.org/wiki/\" title=\"\" lang=\"sh\" hreflang=\"sh\">Srpskohrvatski / </a></li>\n",
    "<li class=\"interwiki-fi\"><a href=\"//fi.wikipedia.org/wiki/\" title=\"\" lang=\"fi\" hreflang=\"fi\">Suomi</a></li>\n",
    "<li class=\"interwiki-sv\"><a href=\"//sv.wikipedia.org/wiki/\" title=\"\" lang=\"sv\" hreflang=\"sv\">Svenska</a></li>\n",
    "<li class=\"interwiki-th\"><a href=\"//th.wikipedia.org/wiki/\" title=\"\" lang=\"th\" hreflang=\"th\"></a></li>\n",
    "<li class=\"interwiki-vi\"><a href=\"//vi.wikipedia.org/wiki/\" title=\"\" lang=\"vi\" hreflang=\"vi\">Ting Vit</a></li>\n",
    "<li class=\"interwiki-tr\"><a href=\"//tr.wikipedia.org/wiki/\" title=\"\" lang=\"tr\" hreflang=\"tr\">Trke</a></li>\n",
    "<li class=\"interwiki-uk\"><a href=\"//uk.wikipedia.org/wiki/\" title=\"\" lang=\"uk\" hreflang=\"uk\"></a></li>\n",
    "<li class=\"interwiki-zh\"><a href=\"//zh.wikipedia.org/wiki/\" title=\"\" lang=\"zh\" hreflang=\"zh\"></a></li>\n",
    "</ul>\n",
    "</div>\n",
    "</div>\n",
    "'''"
   ]
  },
  {
   "cell_type": "code",
   "execution_count": 18,
   "metadata": {},
   "outputs": [
    {
     "data": {
      "text/plain": [
       "[('//simple.wikipedia.org/wiki/', 'Simple English'),\n",
       " ('//ar.wikipedia.org/wiki/', ''),\n",
       " ('//id.wikipedia.org/wiki/', 'Bahasa Indonesia'),\n",
       " ('//ms.wikipedia.org/wiki/', 'Bahasa Melayu'),\n",
       " ('//bg.wikipedia.org/wiki/', ''),\n",
       " ('//ca.wikipedia.org/wiki/', 'Catal'),\n",
       " ('//cs.wikipedia.org/wiki/', 'esky'),\n",
       " ('//da.wikipedia.org/wiki/', ''),\n",
       " ('//de.wikipedia.org/wiki/', 'Deutsch'),\n",
       " ('//et.wikipedia.org/wiki/', 'Eesti'),\n",
       " ('//el.wikipedia.org/wiki/', ''),\n",
       " ('//es.wikipedia.org/wiki/', 'Espaol'),\n",
       " ('//eo.wikipedia.org/wiki/', 'Esperanto'),\n",
       " ('//eu.wikipedia.org/wiki/', 'Euskara'),\n",
       " ('//fa.wikipedia.org/wiki/', ''),\n",
       " ('//fr.wikipedia.org/wiki/', 'Franais'),\n",
       " ('//gl.wikipedia.org/wiki/', 'Galego'),\n",
       " ('//ko.wikipedia.org/wiki/', ''),\n",
       " ('//he.wikipedia.org/wiki/', ''),\n",
       " ('//hr.wikipedia.org/wiki/', 'Hrvatski'),\n",
       " ('//it.wikipedia.org/wiki/', 'Italiano'),\n",
       " ('//lt.wikipedia.org/wiki/', 'Lietuvi'),\n",
       " ('//hu.wikipedia.org/wiki/', 'Magyar'),\n",
       " ('//nl.wikipedia.org/wiki/', 'Nederlands'),\n",
       " ('//ja.wikipedia.org/wiki/', ''),\n",
       " ('//no.wikipedia.org/wiki/', 'Norsk bokml'),\n",
       " ('//nn.wikipedia.org/wiki/', 'Norsk nynorsk'),\n",
       " ('//pl.wikipedia.org/wiki/', 'Polski'),\n",
       " ('//pt.wikipedia.org/wiki/', 'Portugus'),\n",
       " ('//ro.wikipedia.org/wiki/', 'Romn'),\n",
       " ('//ru.wikipedia.org/wiki/', ''),\n",
       " ('//sk.wikipedia.org/wiki/', 'Slovenina'),\n",
       " ('//sl.wikipedia.org/wiki/', 'Slovenina'),\n",
       " ('//sr.wikipedia.org/wiki/', ' / srpski'),\n",
       " ('//sh.wikipedia.org/wiki/', 'Srpskohrvatski / '),\n",
       " ('//fi.wikipedia.org/wiki/', 'Suomi'),\n",
       " ('//sv.wikipedia.org/wiki/', 'Svenska'),\n",
       " ('//th.wikipedia.org/wiki/', ''),\n",
       " ('//vi.wikipedia.org/wiki/', 'Ting Vit'),\n",
       " ('//tr.wikipedia.org/wiki/', 'Trke'),\n",
       " ('//uk.wikipedia.org/wiki/', ''),\n",
       " ('//zh.wikipedia.org/wiki/', '')]"
      ]
     },
     "execution_count": 18,
     "metadata": {},
     "output_type": "execute_result"
    }
   ],
   "source": [
    "pattern = r'(?:<a href(?:.)?=(?:.)?\\\")(.*?)(?:\\\"(?: ?))(?:.*?)(?:>)(?:<.*>)?(.*?)(?:<)'\n",
    "string = '<a href=\"http://www.hackerrank.com\">HackerRank</a>'\n",
    "string = str1\n",
    "ret = check(pattern, string)\n",
    "ret"
   ]
  },
  {
   "cell_type": "code",
   "execution_count": 19,
   "metadata": {},
   "outputs": [
    {
     "name": "stdout",
     "output_type": "stream",
     "text": [
      "//simple.wikipedia.org/wiki/,Simple English\n",
      "//ar.wikipedia.org/wiki/,\n",
      "//id.wikipedia.org/wiki/,Bahasa Indonesia\n",
      "//ms.wikipedia.org/wiki/,Bahasa Melayu\n",
      "//bg.wikipedia.org/wiki/,\n",
      "//ca.wikipedia.org/wiki/,Catal\n",
      "//cs.wikipedia.org/wiki/,esky\n",
      "//da.wikipedia.org/wiki/,\n",
      "//de.wikipedia.org/wiki/,Deutsch\n",
      "//et.wikipedia.org/wiki/,Eesti\n",
      "//el.wikipedia.org/wiki/,\n",
      "//es.wikipedia.org/wiki/,Espaol\n",
      "//eo.wikipedia.org/wiki/,Esperanto\n",
      "//eu.wikipedia.org/wiki/,Euskara\n",
      "//fa.wikipedia.org/wiki/,\n",
      "//fr.wikipedia.org/wiki/,Franais\n",
      "//gl.wikipedia.org/wiki/,Galego\n",
      "//ko.wikipedia.org/wiki/,\n",
      "//he.wikipedia.org/wiki/,\n",
      "//hr.wikipedia.org/wiki/,Hrvatski\n",
      "//it.wikipedia.org/wiki/,Italiano\n",
      "//lt.wikipedia.org/wiki/,Lietuvi\n",
      "//hu.wikipedia.org/wiki/,Magyar\n",
      "//nl.wikipedia.org/wiki/,Nederlands\n",
      "//ja.wikipedia.org/wiki/,\n",
      "//no.wikipedia.org/wiki/,Norsk bokml\n",
      "//nn.wikipedia.org/wiki/,Norsk nynorsk\n",
      "//pl.wikipedia.org/wiki/,Polski\n",
      "//pt.wikipedia.org/wiki/,Portugus\n",
      "//ro.wikipedia.org/wiki/,Romn\n",
      "//ru.wikipedia.org/wiki/,\n",
      "//sk.wikipedia.org/wiki/,Slovenina\n",
      "//sl.wikipedia.org/wiki/,Slovenina\n",
      "//sr.wikipedia.org/wiki/,/ srpski\n",
      "//sh.wikipedia.org/wiki/,Srpskohrvatski /\n",
      "//fi.wikipedia.org/wiki/,Suomi\n",
      "//sv.wikipedia.org/wiki/,Svenska\n",
      "//th.wikipedia.org/wiki/,\n",
      "//vi.wikipedia.org/wiki/,Ting Vit\n",
      "//tr.wikipedia.org/wiki/,Trke\n",
      "//uk.wikipedia.org/wiki/,\n",
      "//zh.wikipedia.org/wiki/,\n"
     ]
    }
   ],
   "source": [
    "for link, name in ret:\n",
    "    print(f'{link.strip()},{name.strip()}')"
   ]
  },
  {
   "cell_type": "code",
   "execution_count": 13,
   "metadata": {},
   "outputs": [],
   "source": [
    "r1 = '''//simple.wikipedia.org/wiki/,Simple English\n",
    "//ar.wikipedia.org/wiki/,\n",
    "//id.wikipedia.org/wiki/,Bahasa Indonesia\n",
    "//ms.wikipedia.org/wiki/,Bahasa Melayu\n",
    "//bg.wikipedia.org/wiki/,\n",
    "//ca.wikipedia.org/wiki/,Catal\n",
    "//cs.wikipedia.org/wiki/,esky\n",
    "//da.wikipedia.org/wiki/,Dansk\n",
    "//de.wikipedia.org/wiki/,Deutsch\n",
    "//et.wikipedia.org/wiki/,Eesti\n",
    "//el.wikipedia.org/wiki/,\n",
    "//es.wikipedia.org/wiki/,Espaol\n",
    "//eo.wikipedia.org/wiki/,Esperanto\n",
    "//eu.wikipedia.org/wiki/,Euskara\n",
    "//fa.wikipedia.org/wiki/,\n",
    "//fr.wikipedia.org/wiki/,Franais\n",
    "//gl.wikipedia.org/wiki/,Galego\n",
    "//ko.wikipedia.org/wiki/,\n",
    "//he.wikipedia.org/wiki/,\n",
    "//hr.wikipedia.org/wiki/,Hrvatski\n",
    "//it.wikipedia.org/wiki/,Italiano\n",
    "//lt.wikipedia.org/wiki/,Lietuvi\n",
    "//hu.wikipedia.org/wiki/,Magyar\n",
    "//nl.wikipedia.org/wiki/,Nederlands\n",
    "//ja.wikipedia.org/wiki/,\n",
    "//no.wikipedia.org/wiki/,Norsk bokml\n",
    "//nn.wikipedia.org/wiki/,Norsk nynorsk\n",
    "//pl.wikipedia.org/wiki/,Polski\n",
    "//pt.wikipedia.org/wiki/,Portugus\n",
    "//ro.wikipedia.org/wiki/,Romn\n",
    "//ru.wikipedia.org/wiki/,\n",
    "//sk.wikipedia.org/wiki/,Slovenina\n",
    "//sl.wikipedia.org/wiki/,Slovenina\n",
    "//sr.wikipedia.org/wiki/,/ srpski\n",
    "//sh.wikipedia.org/wiki/,Srpskohrvatski /\n",
    "//fi.wikipedia.org/wiki/,Suomi\n",
    "//sv.wikipedia.org/wiki/,Svenska\n",
    "//th.wikipedia.org/wiki/,\n",
    "//vi.wikipedia.org/wiki/,Ting Vit\n",
    "//tr.wikipedia.org/wiki/,Trke\n",
    "//uk.wikipedia.org/wiki/,\n",
    "//zh.wikipedia.org/wiki/,'''"
   ]
  },
  {
   "cell_type": "code",
   "execution_count": 20,
   "metadata": {},
   "outputs": [],
   "source": [
    "r2 = '''//simple.wikipedia.org/wiki/,Simple English\n",
    "//ar.wikipedia.org/wiki/,\n",
    "//id.wikipedia.org/wiki/,Bahasa Indonesia\n",
    "//ms.wikipedia.org/wiki/,Bahasa Melayu\n",
    "//bg.wikipedia.org/wiki/,\n",
    "//ca.wikipedia.org/wiki/,Catal\n",
    "//cs.wikipedia.org/wiki/,esky\n",
    "//da.wikipedia.org/wiki/,\n",
    "//de.wikipedia.org/wiki/,Deutsch\n",
    "//et.wikipedia.org/wiki/,Eesti\n",
    "//el.wikipedia.org/wiki/,\n",
    "//es.wikipedia.org/wiki/,Espaol\n",
    "//eo.wikipedia.org/wiki/,Esperanto\n",
    "//eu.wikipedia.org/wiki/,Euskara\n",
    "//fa.wikipedia.org/wiki/,\n",
    "//fr.wikipedia.org/wiki/,Franais\n",
    "//gl.wikipedia.org/wiki/,Galego\n",
    "//ko.wikipedia.org/wiki/,\n",
    "//he.wikipedia.org/wiki/,\n",
    "//hr.wikipedia.org/wiki/,Hrvatski\n",
    "//it.wikipedia.org/wiki/,Italiano\n",
    "//lt.wikipedia.org/wiki/,Lietuvi\n",
    "//hu.wikipedia.org/wiki/,Magyar\n",
    "//nl.wikipedia.org/wiki/,Nederlands\n",
    "//ja.wikipedia.org/wiki/,\n",
    "//no.wikipedia.org/wiki/,Norsk bokml\n",
    "//nn.wikipedia.org/wiki/,Norsk nynorsk\n",
    "//pl.wikipedia.org/wiki/,Polski\n",
    "//pt.wikipedia.org/wiki/,Portugus\n",
    "//ro.wikipedia.org/wiki/,Romn\n",
    "//ru.wikipedia.org/wiki/,\n",
    "//sk.wikipedia.org/wiki/,Slovenina\n",
    "//sl.wikipedia.org/wiki/,Slovenina\n",
    "//sr.wikipedia.org/wiki/,/ srpski\n",
    "//sh.wikipedia.org/wiki/,Srpskohrvatski /\n",
    "//fi.wikipedia.org/wiki/,Suomi\n",
    "//sv.wikipedia.org/wiki/,Svenska\n",
    "//th.wikipedia.org/wiki/,\n",
    "//vi.wikipedia.org/wiki/,Ting Vit\n",
    "//tr.wikipedia.org/wiki/,Trke\n",
    "//uk.wikipedia.org/wiki/,\n",
    "//zh.wikipedia.org/wiki/,'''"
   ]
  },
  {
   "cell_type": "code",
   "execution_count": 21,
   "metadata": {},
   "outputs": [
    {
     "data": {
      "text/plain": [
       "False"
      ]
     },
     "execution_count": 21,
     "metadata": {},
     "output_type": "execute_result"
    }
   ],
   "source": [
    "len(r1)==len(r2)"
   ]
  },
  {
   "cell_type": "code",
   "execution_count": 22,
   "metadata": {},
   "outputs": [
    {
     "data": {
      "text/plain": [
       "True"
      ]
     },
     "execution_count": 22,
     "metadata": {},
     "output_type": "execute_result"
    }
   ],
   "source": [
    "len(r1.split()) == len(r2.split())"
   ]
  },
  {
   "cell_type": "code",
   "execution_count": 23,
   "metadata": {},
   "outputs": [
    {
     "name": "stdout",
     "output_type": "stream",
     "text": [
      "//da.wikipedia.org/wiki/,Dansk --- //da.wikipedia.org/wiki/,\n"
     ]
    }
   ],
   "source": [
    "for i in range(len(r1.split())):\n",
    "    if (r1.split()[i]!=r2.split()[i]):\n",
    "        print(r1.split()[i], '---', r2.split()[i])"
   ]
  },
  {
   "cell_type": "code",
   "execution_count": null,
   "metadata": {},
   "outputs": [],
   "source": []
  }
 ],
 "metadata": {
  "kernelspec": {
   "display_name": "Python 3",
   "language": "python",
   "name": "python3"
  },
  "language_info": {
   "codemirror_mode": {
    "name": "ipython",
    "version": 3
   },
   "file_extension": ".py",
   "mimetype": "text/x-python",
   "name": "python",
   "nbconvert_exporter": "python",
   "pygments_lexer": "ipython3",
   "version": "3.7.6"
  }
 },
 "nbformat": 4,
 "nbformat_minor": 4
}
