{
 "cells": [
  {
   "cell_type": "markdown",
   "metadata": {},
   "source": [
    "Preorder - **https://www.techiedelight.com/preorder-tree-traversal-iterative-recursive/**\n",
    "\n",
    "\n",
    "Postorder - **https://www.techiedelight.com/postorder-tree-traversal-iterative-recursive/**"
   ]
  },
  {
   "cell_type": "code",
   "execution_count": 231,
   "metadata": {},
   "outputs": [],
   "source": [
    "from collections import deque"
   ]
  },
  {
   "cell_type": "code",
   "execution_count": 232,
   "metadata": {},
   "outputs": [],
   "source": [
    "class Node:\n",
    "    def __init__(self, data):\n",
    "        self.data = data\n",
    "        self.right = None\n",
    "        self.left = None\n",
    "        \n",
    "class BinaryTree:\n",
    "    \n",
    "    def __init__(self):\n",
    "        self.root = None\n",
    "        self.search_step_count = 0\n",
    "    \n",
    "    def insert(self, *args):\n",
    "        for data in args:\n",
    "            if self.root==None:\n",
    "                self.root = Node(data)\n",
    "            else:\n",
    "                self.insert_child(data, self.root)\n",
    "            \n",
    "    def insert_child(self, data, node):\n",
    "        if data<node.data:\n",
    "            # left tree\n",
    "            if node.left == None:\n",
    "                node.left = Node(data)\n",
    "            else:\n",
    "                node = node.left\n",
    "                self.insert_child(data, node)\n",
    "        elif data>node.data:\n",
    "            # right tree\n",
    "            if node.right == None:\n",
    "                node.right = Node(data)\n",
    "            else:\n",
    "                node = node.right\n",
    "                self.insert_child(data, node)\n",
    "                \n",
    "    def search(self, data):\n",
    "        node = self.root\n",
    "        self.search_data(data, node)\n",
    "    \n",
    "    def search_data(self,data, node):\n",
    "        self.search_step_count+=1\n",
    "        \n",
    "        try:\n",
    "            if data<node.data:\n",
    "                # left tree\n",
    "                node = node.left\n",
    "                self.search_data(data, node)\n",
    "            elif data>node.data:\n",
    "                node = node.right\n",
    "                self.search_data(data, node)\n",
    "            elif data == node.data:\n",
    "                print(f'Data found in {self.search_step_count} step.')\n",
    "                self.search_step_count = 0            \n",
    "        except:\n",
    "            print('Data Not found.')\n",
    "            self.search_step_count = 0   \n",
    "            \n",
    "    def traverse(self, traverse_type):\n",
    "        # left root right\n",
    "        node = self.root\n",
    "        traverse_type = traverse_type.lower()\n",
    "        self.stack = []\n",
    "        \n",
    "        if traverse_type=='inorder':\n",
    "            print('Traversing inorder fashion...\\n')\n",
    "            self.traverse_inorder(node)\n",
    "            \n",
    "        elif traverse_type=='preorder':\n",
    "            print('Traversing inorder fashion...\\n')\n",
    "            self.traverse_preorder(node)\n",
    "            \n",
    "        elif traverse_type=='postorder':\n",
    "            print('Traversing inorder fashion...\\n')\n",
    "            self.traverse_postorder(node)\n",
    "            \n",
    "            \n",
    "    def traverse_inorder(self, node):\n",
    "        current = node\n",
    "        stack = []\n",
    "        traversed_data = []\n",
    "        while True:\n",
    "            if current is not None:\n",
    "                stack.append(current)\n",
    "                current = current.left\n",
    "                \n",
    "            elif (stack):\n",
    "                current = stack.pop()\n",
    "                traversed_data.append(current.data)\n",
    "                \n",
    "                current = current.right\n",
    "            else:\n",
    "                break\n",
    "        print(' '.join(list(map(str, traversed_data))))\n",
    "        \n",
    "    def inorder(self):\n",
    "        current = self.root\n",
    "        stack = []\n",
    "        data = []\n",
    "        \n",
    "        while True:\n",
    "            if current is not None:\n",
    "                stack.append(current)\n",
    "                current = current.left\n",
    "                \n",
    "            elif stack:\n",
    "                current = stack.pop()\n",
    "                data.append(current.data)\n",
    "                \n",
    "                current = current.right\n",
    "            else:\n",
    "                break\n",
    "        return data\n",
    "    \n",
    "    def traverse_preorder(self, node):\n",
    "        stack = deque()\n",
    "        stack.append(node)\n",
    "        data = []\n",
    "        while stack: #till stack is empty\n",
    "            current_node = stack.pop()\n",
    "            data.append(current_node.data)\n",
    "            \n",
    "            if current_node.right:\n",
    "                stack.append(current_node.right)\n",
    "                \n",
    "            if current_node.left:\n",
    "                stack.append(current_node.left)\n",
    "        print(data)\n",
    "        \n",
    "    def traverse_postorder(self, node):\n",
    "        stack = deque()\n",
    "        t = deque()\n",
    "        data = []\n",
    "        stack.append(node)\n",
    "        \n",
    "        while stack:\n",
    "            current_node = stack.pop()\n",
    "            t.append(current_node)\n",
    "            \n",
    "            if current_node.left:\n",
    "                stack.append(current_node.left)\n",
    "                \n",
    "            if current_node.right:\n",
    "                stack.append(current_node.right)\n",
    "                \n",
    "        while t:\n",
    "            data.append(t.pop().data)\n",
    "        print(data)"
   ]
  },
  {
   "cell_type": "code",
   "execution_count": 233,
   "metadata": {},
   "outputs": [],
   "source": [
    "bt = BinaryTree()"
   ]
  },
  {
   "cell_type": "code",
   "execution_count": 234,
   "metadata": {},
   "outputs": [],
   "source": [
    "bt.insert(9)"
   ]
  },
  {
   "cell_type": "code",
   "execution_count": 235,
   "metadata": {},
   "outputs": [],
   "source": [
    "bt.insert(8)"
   ]
  },
  {
   "cell_type": "code",
   "execution_count": 236,
   "metadata": {},
   "outputs": [
    {
     "data": {
      "text/plain": [
       "9"
      ]
     },
     "execution_count": 236,
     "metadata": {},
     "output_type": "execute_result"
    }
   ],
   "source": [
    "bt.root.data"
   ]
  },
  {
   "cell_type": "code",
   "execution_count": 237,
   "metadata": {},
   "outputs": [
    {
     "data": {
      "text/plain": [
       "8"
      ]
     },
     "execution_count": 237,
     "metadata": {},
     "output_type": "execute_result"
    }
   ],
   "source": [
    "bt.root.left.data"
   ]
  },
  {
   "cell_type": "code",
   "execution_count": 238,
   "metadata": {},
   "outputs": [],
   "source": [
    "bt.root.right"
   ]
  },
  {
   "cell_type": "code",
   "execution_count": 239,
   "metadata": {},
   "outputs": [],
   "source": [
    "bt.insert(10)"
   ]
  },
  {
   "cell_type": "code",
   "execution_count": 240,
   "metadata": {},
   "outputs": [
    {
     "data": {
      "text/plain": [
       "10"
      ]
     },
     "execution_count": 240,
     "metadata": {},
     "output_type": "execute_result"
    }
   ],
   "source": [
    "bt.root.right.data"
   ]
  },
  {
   "cell_type": "code",
   "execution_count": 241,
   "metadata": {},
   "outputs": [],
   "source": [
    "bt.insert(7)"
   ]
  },
  {
   "cell_type": "code",
   "execution_count": 242,
   "metadata": {},
   "outputs": [
    {
     "data": {
      "text/plain": [
       "7"
      ]
     },
     "execution_count": 242,
     "metadata": {},
     "output_type": "execute_result"
    }
   ],
   "source": [
    "bt.root.left.left.data"
   ]
  },
  {
   "cell_type": "code",
   "execution_count": 243,
   "metadata": {},
   "outputs": [],
   "source": [
    "bt.insert(8.5)"
   ]
  },
  {
   "cell_type": "code",
   "execution_count": 244,
   "metadata": {},
   "outputs": [
    {
     "data": {
      "text/plain": [
       "8.5"
      ]
     },
     "execution_count": 244,
     "metadata": {},
     "output_type": "execute_result"
    }
   ],
   "source": [
    "bt.root.left.right.data"
   ]
  },
  {
   "cell_type": "code",
   "execution_count": 245,
   "metadata": {},
   "outputs": [],
   "source": [
    "bt.insert(9.5)"
   ]
  },
  {
   "cell_type": "code",
   "execution_count": 246,
   "metadata": {},
   "outputs": [
    {
     "data": {
      "text/plain": [
       "9.5"
      ]
     },
     "execution_count": 246,
     "metadata": {},
     "output_type": "execute_result"
    }
   ],
   "source": [
    "bt.root.right.left.data"
   ]
  },
  {
   "cell_type": "code",
   "execution_count": 247,
   "metadata": {},
   "outputs": [
    {
     "name": "stdout",
     "output_type": "stream",
     "text": [
      "Data found in 1 step.\n"
     ]
    }
   ],
   "source": [
    "bt.search(9)"
   ]
  },
  {
   "cell_type": "code",
   "execution_count": 248,
   "metadata": {},
   "outputs": [
    {
     "name": "stdout",
     "output_type": "stream",
     "text": [
      "Data found in 3 step.\n"
     ]
    }
   ],
   "source": [
    "bt.search(8.5)"
   ]
  },
  {
   "cell_type": "code",
   "execution_count": 249,
   "metadata": {},
   "outputs": [
    {
     "name": "stdout",
     "output_type": "stream",
     "text": [
      "Data found in 3 step.\n"
     ]
    }
   ],
   "source": [
    "bt.search(9.5)"
   ]
  },
  {
   "cell_type": "code",
   "execution_count": 250,
   "metadata": {},
   "outputs": [
    {
     "name": "stdout",
     "output_type": "stream",
     "text": [
      "Data Not found.\n"
     ]
    }
   ],
   "source": [
    "bt.search(100)"
   ]
  },
  {
   "cell_type": "code",
   "execution_count": 251,
   "metadata": {},
   "outputs": [
    {
     "name": "stdout",
     "output_type": "stream",
     "text": [
      "Traversing inorder fashion...\n",
      "\n",
      "7 8 8.5 9 9.5 10\n"
     ]
    }
   ],
   "source": [
    "bt.traverse('inorder')"
   ]
  },
  {
   "cell_type": "code",
   "execution_count": 252,
   "metadata": {},
   "outputs": [
    {
     "data": {
      "text/plain": [
       "[7, 8, 8.5, 9, 9.5, 10]"
      ]
     },
     "execution_count": 252,
     "metadata": {},
     "output_type": "execute_result"
    }
   ],
   "source": [
    "bt.inorder()"
   ]
  },
  {
   "cell_type": "code",
   "execution_count": 253,
   "metadata": {},
   "outputs": [
    {
     "name": "stdout",
     "output_type": "stream",
     "text": [
      "Traversing inorder fashion...\n",
      "\n",
      "[9, 8, 7, 8.5, 10, 9.5]\n"
     ]
    }
   ],
   "source": [
    "bt.traverse('preorder')"
   ]
  },
  {
   "cell_type": "code",
   "execution_count": 254,
   "metadata": {},
   "outputs": [
    {
     "name": "stdout",
     "output_type": "stream",
     "text": [
      "Traversing inorder fashion...\n",
      "\n",
      "[7, 8.5, 8, 9.5, 10, 9]\n"
     ]
    }
   ],
   "source": [
    "bt.traverse('postorder')"
   ]
  },
  {
   "cell_type": "code",
   "execution_count": null,
   "metadata": {},
   "outputs": [],
   "source": []
  }
 ],
 "metadata": {
  "kernelspec": {
   "display_name": "Python 3",
   "language": "python",
   "name": "python3"
  },
  "language_info": {
   "codemirror_mode": {
    "name": "ipython",
    "version": 3
   },
   "file_extension": ".py",
   "mimetype": "text/x-python",
   "name": "python",
   "nbconvert_exporter": "python",
   "pygments_lexer": "ipython3",
   "version": "3.8.3"
  }
 },
 "nbformat": 4,
 "nbformat_minor": 4
}
