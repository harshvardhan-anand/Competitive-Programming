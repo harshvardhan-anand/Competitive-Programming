{
 "cells": [
  {
   "cell_type": "code",
   "execution_count": 30,
   "id": "5d38b9a2",
   "metadata": {},
   "outputs": [],
   "source": [
    "from heapq import heapify, heappush, heappop"
   ]
  },
  {
   "cell_type": "code",
   "execution_count": 38,
   "id": "6de8b7aa",
   "metadata": {},
   "outputs": [
    {
     "name": "stdout",
     "output_type": "stream",
     "text": [
      "14 22\n"
     ]
    }
   ],
   "source": [
    "arr = [10,2,3,4,5]\n",
    "\n",
    "heapmax = []\n",
    "heapmin = []\n",
    "heapify(heapmax)\n",
    "heapify(heapmin)\n",
    "for i in arr:\n",
    "    heappush(heapmin, i)\n",
    "    heappush(heapmax, -i)\n",
    "    \n",
    "mx = mn=0\n",
    "    \n",
    "for i in range(4):\n",
    "    mx += -heappop(heapmax)\n",
    "    mn += heappop(heapmin)\n",
    "print(f\"{mn} {mx}\")"
   ]
  },
  {
   "cell_type": "code",
   "execution_count": 43,
   "id": "723c1bf1",
   "metadata": {},
   "outputs": [
    {
     "name": "stdout",
     "output_type": "stream",
     "text": [
      "14 22\n"
     ]
    }
   ],
   "source": [
    "mx = arr[0]\n",
    "mn = arr[0]\n",
    "s = 0\n",
    "for i in arr:\n",
    "    if i<mn:\n",
    "        mn = i\n",
    "    elif i>mx:\n",
    "        mx = i\n",
    "    s += i\n",
    "    \n",
    "print(f\"{s-mx} {s-mn}\")"
   ]
  },
  {
   "cell_type": "code",
   "execution_count": 49,
   "id": "d28e4e2d",
   "metadata": {},
   "outputs": [
    {
     "name": "stdout",
     "output_type": "stream",
     "text": [
      "5\n"
     ]
    }
   ],
   "source": [
    "for i in d:\n",
    "    print(i)"
   ]
  },
  {
   "cell_type": "code",
   "execution_count": null,
   "id": "c5d1b3e7",
   "metadata": {},
   "outputs": [],
   "source": []
  }
 ],
 "metadata": {
  "kernelspec": {
   "display_name": "Python 3 (ipykernel)",
   "language": "python",
   "name": "python3"
  },
  "language_info": {
   "codemirror_mode": {
    "name": "ipython",
    "version": 3
   },
   "file_extension": ".py",
   "mimetype": "text/x-python",
   "name": "python",
   "nbconvert_exporter": "python",
   "pygments_lexer": "ipython3",
   "version": "3.9.7"
  }
 },
 "nbformat": 4,
 "nbformat_minor": 5
}
