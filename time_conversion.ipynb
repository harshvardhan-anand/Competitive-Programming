{
 "cells": [
  {
   "cell_type": "markdown",
   "metadata": {},
   "source": [
    "# Warning:\n",
    "you might get error when you call str(). This is because if u have defined str as variable. so just do {del str}"
   ]
  },
  {
   "cell_type": "code",
   "execution_count": 117,
   "metadata": {},
   "outputs": [
    {
     "name": "stdout",
     "output_type": "stream",
     "text": [
      "07:05:45PM\n"
     ]
    }
   ],
   "source": [
    "time=input()"
   ]
  },
  {
   "cell_type": "code",
   "execution_count": 118,
   "metadata": {},
   "outputs": [],
   "source": [
    "am=0"
   ]
  },
  {
   "cell_type": "code",
   "execution_count": 119,
   "metadata": {},
   "outputs": [],
   "source": [
    "if time[8:]=='am' or time[8:]=='AM':\n",
    "    am=1    "
   ]
  },
  {
   "cell_type": "code",
   "execution_count": 120,
   "metadata": {},
   "outputs": [],
   "source": [
    "if am==1:\n",
    "    if int(time[0:2])==12:\n",
    "        #print(f'00{time[2:8]}')\n",
    "        returned_val='00'+time[2:8]\n",
    "    else:\n",
    "        #print(time[0:8])\n",
    "        returned_val=time[0:8]\n",
    "else:\n",
    "    if time[0:2]=='12':\n",
    "        #print(time[0:8])\n",
    "        returned_val=time[0:8]\n",
    "    else:\n",
    "        twelve_hr=int(time[0:2])\n",
    "        hrs=12+twelve_hr\n",
    "        #print(f'{hrs}{time[2:8]}')\n",
    "        returned_val=str(hrs)+time[2:8]"
   ]
  },
  {
   "cell_type": "code",
   "execution_count": 121,
   "metadata": {},
   "outputs": [
    {
     "data": {
      "text/plain": [
       "'19:05:45'"
      ]
     },
     "execution_count": 121,
     "metadata": {},
     "output_type": "execute_result"
    }
   ],
   "source": [
    "returned_val"
   ]
  },
  {
   "cell_type": "code",
   "execution_count": null,
   "metadata": {},
   "outputs": [],
   "source": []
  }
 ],
 "metadata": {
  "kernelspec": {
   "display_name": "Python 3",
   "language": "python",
   "name": "python3"
  },
  "language_info": {
   "codemirror_mode": {
    "name": "ipython",
    "version": 3
   },
   "file_extension": ".py",
   "mimetype": "text/x-python",
   "name": "python",
   "nbconvert_exporter": "python",
   "pygments_lexer": "ipython3",
   "version": "3.7.1"
  }
 },
 "nbformat": 4,
 "nbformat_minor": 2
}
