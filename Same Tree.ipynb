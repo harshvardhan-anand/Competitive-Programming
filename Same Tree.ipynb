{
 "cells": [
  {
   "cell_type": "code",
   "execution_count": 17,
   "id": "a8a002cc",
   "metadata": {
    "ExecuteTime": {
     "end_time": "2022-03-14T11:39:37.838995Z",
     "start_time": "2022-03-14T11:39:37.823367Z"
    }
   },
   "outputs": [],
   "source": [
    "class Node:\n",
    "    def __init__(self, val=None, left=None, right=None):\n",
    "        self.val = val\n",
    "        self.left = left\n",
    "        self.right = right\n",
    "        \n",
    "        \n",
    "class Tree:\n",
    "    def __init__(self):\n",
    "        self.root = None\n",
    "    def insert(self, val):\n",
    "        node = Node(val)\n",
    "        if not self.root:\n",
    "            self.root = node\n",
    "            return\n",
    "        \n",
    "        ptr = self.root\n",
    "        while True:\n",
    "            if val < ptr.val:\n",
    "                if ptr.left:\n",
    "                    ptr = ptr.left\n",
    "                else: \n",
    "                    ptr.left = node\n",
    "                    break\n",
    "            \n",
    "            elif val > ptr.val:\n",
    "                if ptr.right:\n",
    "                    ptr = ptr.right\n",
    "                else: \n",
    "                    ptr.right = node\n",
    "                    break\n",
    "            else:break\n",
    "    def bfs(self):\n",
    "        ptr = self.root\n",
    "        ans = []\n",
    "        q = [ptr]\n",
    "        while q:\n",
    "            ptr = q.pop(0)\n",
    "            ans.append(ptr.val)\n",
    "            if ptr.left:q.append(ptr.left)\n",
    "            if ptr.right:q.append(ptr.right)\n",
    "                \n",
    "        return ans"
   ]
  },
  {
   "cell_type": "code",
   "execution_count": 59,
   "id": "c0a65f0d",
   "metadata": {
    "ExecuteTime": {
     "end_time": "2022-03-14T12:52:16.491566Z",
     "start_time": "2022-03-14T12:52:16.475849Z"
    }
   },
   "outputs": [],
   "source": [
    "t1 = Tree()\n",
    "t2 = Tree()\n",
    "\n",
    "t1a = []\n",
    "t2a = [1,1,3]\n",
    "\n",
    "for i in t1a:\n",
    "    t1.insert(i)\n",
    "    \n",
    "for i in t2a:\n",
    "    t2.insert(i)"
   ]
  },
  {
   "cell_type": "code",
   "execution_count": 60,
   "id": "4c9d317d",
   "metadata": {
    "ExecuteTime": {
     "end_time": "2022-03-14T12:52:16.685250Z",
     "start_time": "2022-03-14T12:52:16.668136Z"
    }
   },
   "outputs": [],
   "source": [
    "    def isSameTree( p, q) -> bool:\n",
    "        ptr1 = p\n",
    "        ptr2 = q\n",
    "        q1 = [ptr1]\n",
    "        q2 = [ptr2]\n",
    "        while (q1 or q2):\n",
    "            ptr1 = q1.pop(0)\n",
    "            ptr2 = q2.pop(0)\n",
    "            if ptr1 and ptr2:\n",
    "                if ptr1.val!=ptr2.val: \n",
    "                    return False\n",
    "\n",
    "                if ptr1.left and ptr2.left:\n",
    "                    q1.append(ptr1.left)\n",
    "                    q2.append(ptr2.left)\n",
    "                elif ptr1.left==ptr2.left:\n",
    "                    pass\n",
    "                else:\n",
    "                    return False\n",
    "\n",
    "                if ptr1.right and ptr2.right:\n",
    "                    q1.append(ptr1.right)\n",
    "                    q2.append(ptr2.right)\n",
    "                elif ptr1.right==ptr2.right:\n",
    "                    pass\n",
    "                else:\n",
    "                    return False         \n",
    "            elif ptr1 == ptr2:\n",
    "                return True\n",
    "            else: return False\n",
    "        return True"
   ]
  },
  {
   "cell_type": "code",
   "execution_count": 61,
   "id": "0fb7fa93",
   "metadata": {
    "ExecuteTime": {
     "end_time": "2022-03-14T12:52:17.082410Z",
     "start_time": "2022-03-14T12:52:17.076406Z"
    }
   },
   "outputs": [
    {
     "data": {
      "text/plain": [
       "True"
      ]
     },
     "execution_count": 61,
     "metadata": {},
     "output_type": "execute_result"
    }
   ],
   "source": [
    "isSameTree(t1.root, t2.root)"
   ]
  },
  {
   "cell_type": "code",
   "execution_count": null,
   "id": "5ba72cea",
   "metadata": {},
   "outputs": [],
   "source": []
  }
 ],
 "metadata": {
  "kernelspec": {
   "display_name": "Python 3 (ipykernel)",
   "language": "python",
   "name": "python3"
  },
  "language_info": {
   "codemirror_mode": {
    "name": "ipython",
    "version": 3
   },
   "file_extension": ".py",
   "mimetype": "text/x-python",
   "name": "python",
   "nbconvert_exporter": "python",
   "pygments_lexer": "ipython3",
   "version": "3.9.7"
  },
  "varInspector": {
   "cols": {
    "lenName": 16,
    "lenType": 16,
    "lenVar": 40
   },
   "kernels_config": {
    "python": {
     "delete_cmd_postfix": "",
     "delete_cmd_prefix": "del ",
     "library": "var_list.py",
     "varRefreshCmd": "print(var_dic_list())"
    },
    "r": {
     "delete_cmd_postfix": ") ",
     "delete_cmd_prefix": "rm(",
     "library": "var_list.r",
     "varRefreshCmd": "cat(var_dic_list()) "
    }
   },
   "types_to_exclude": [
    "module",
    "function",
    "builtin_function_or_method",
    "instance",
    "_Feature"
   ],
   "window_display": true
  }
 },
 "nbformat": 4,
 "nbformat_minor": 5
}
