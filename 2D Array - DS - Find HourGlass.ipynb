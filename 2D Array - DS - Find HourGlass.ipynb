{
 "cells": [
  {
   "cell_type": "code",
   "execution_count": 25,
   "metadata": {},
   "outputs": [],
   "source": [
    "import numpy as np"
   ]
  },
  {
   "cell_type": "code",
   "execution_count": 18,
   "metadata": {},
   "outputs": [],
   "source": [
    "mat =  [[1, 1, 1, 0, 0, 0],\n",
    "        [0, 1, 0, 0, 0, 0],\n",
    "        [1, 1, 1, 0, 0, 0],\n",
    "        [0, 0, 0, 0, 0, 0],\n",
    "        [0, 0, 0, 0, 0, 0],\n",
    "        [0, 0, 0, 0, 0, 0]]"
   ]
  },
  {
   "cell_type": "code",
   "execution_count": 20,
   "metadata": {},
   "outputs": [],
   "source": [
    "# mat = []\n",
    "# for i in range(0,6):\n",
    "#     row = list(map(int, input().split()))\n",
    "#     mat.append(row)"
   ]
  },
  {
   "cell_type": "code",
   "execution_count": 19,
   "metadata": {},
   "outputs": [],
   "source": [
    "kernel = [[1,1,1],\n",
    "[0,1,0],\n",
    "[1,1,1]]"
   ]
  },
  {
   "cell_type": "code",
   "execution_count": 21,
   "metadata": {},
   "outputs": [],
   "source": [
    "def flatten_list(lst):\n",
    "    flat = []\n",
    "    for arr in lst:\n",
    "        flat+=[*arr]\n",
    "    return flat"
   ]
  },
  {
   "cell_type": "code",
   "execution_count": 23,
   "metadata": {},
   "outputs": [],
   "source": [
    "def element_wise_multiplication(arr, kernel):\n",
    "    mlp = []\n",
    "    for i in range(0, 9):\n",
    "        mlp.append(arr[i]*kernel[i])\n",
    "    return mlp"
   ]
  },
  {
   "cell_type": "code",
   "execution_count": 24,
   "metadata": {},
   "outputs": [
    {
     "name": "stdout",
     "output_type": "stream",
     "text": [
      "7\n"
     ]
    }
   ],
   "source": [
    "output = []\n",
    "kernel = flatten_list(kernel)\n",
    "for row in range(0,4):\n",
    "    for col in range(0,4):\n",
    "        arr_to_multiply = []\n",
    "        for temp_row in mat[row:row+3]:\n",
    "            arr_to_multiply.append(temp_row[col:col+3])\n",
    "        flat = flatten_list(arr_to_multiply)\n",
    "        multiplied = element_wise_multiplication(flat, kernel)\n",
    "        output.append(sum(multiplied))\n",
    "#         print(flat, sum(flat))\n",
    "#         print(arr_to_multiply, end='\\n\\n')\n",
    "\n",
    "output = max(output)\n",
    "print(output)"
   ]
  },
  {
   "cell_type": "code",
   "execution_count": null,
   "metadata": {},
   "outputs": [],
   "source": []
  }
 ],
 "metadata": {
  "kernelspec": {
   "display_name": "Python 3",
   "language": "python",
   "name": "python3"
  },
  "language_info": {
   "codemirror_mode": {
    "name": "ipython",
    "version": 3
   },
   "file_extension": ".py",
   "mimetype": "text/x-python",
   "name": "python",
   "nbconvert_exporter": "python",
   "pygments_lexer": "ipython3",
   "version": "3.8.3"
  }
 },
 "nbformat": 4,
 "nbformat_minor": 4
}
