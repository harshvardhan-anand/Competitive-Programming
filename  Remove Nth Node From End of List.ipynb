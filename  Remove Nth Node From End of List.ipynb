{
 "cells": [
  {
   "cell_type": "code",
   "execution_count": 1,
   "metadata": {},
   "outputs": [],
   "source": [
    "class Node:\n",
    "    def __init__(self, value):\n",
    "        self.value = value\n",
    "        self.next = None\n",
    "        \n",
    "class List:\n",
    "    def __init__(self, value):\n",
    "        self.head = Node(value)\n",
    "        self.tail = self.head\n",
    "        \n",
    "    def push(self, value):\n",
    "        curr = Node(value)\n",
    "        self.tail.next = curr\n",
    "        self.tail = curr\n",
    "        \n",
    "    def traverse(self):\n",
    "        ptr = self.head\n",
    "        ans = []\n",
    "        while ptr:\n",
    "            ans.append(ptr.value)\n",
    "            ptr = ptr.next\n",
    "        return ans\n",
    "    def delete(self, n):\n",
    "        step = 0\n",
    "        p1 = self.head\n",
    "        p2 = self.head\n",
    "        while p1.next:\n",
    "            p1 = p1.next\n",
    "            step +=1\n",
    "            if step<=n:\n",
    "                continue\n",
    "            p2 = p2.next\n",
    "        else:\n",
    "            p2.next = p1\n",
    "        \n",
    "        if p2.next==p1:\n",
    "            \n",
    "            "
   ]
  },
  {
   "cell_type": "code",
   "execution_count": 2,
   "metadata": {},
   "outputs": [],
   "source": [
    "l = List(1)"
   ]
  },
  {
   "cell_type": "code",
   "execution_count": 3,
   "metadata": {},
   "outputs": [],
   "source": [
    "for i in [2,3,4,5]:\n",
    "    l.push(i)"
   ]
  },
  {
   "cell_type": "code",
   "execution_count": 4,
   "metadata": {},
   "outputs": [
    {
     "data": {
      "text/plain": [
       "[1, 2, 3, 4, 5]"
      ]
     },
     "execution_count": 4,
     "metadata": {},
     "output_type": "execute_result"
    }
   ],
   "source": [
    "l.traverse()"
   ]
  },
  {
   "cell_type": "code",
   "execution_count": null,
   "metadata": {},
   "outputs": [],
   "source": []
  }
 ],
 "metadata": {
  "kernelspec": {
   "display_name": "Python 3",
   "language": "python",
   "name": "python3"
  },
  "language_info": {
   "codemirror_mode": {
    "name": "ipython",
    "version": 3
   },
   "file_extension": ".py",
   "mimetype": "text/x-python",
   "name": "python",
   "nbconvert_exporter": "python",
   "pygments_lexer": "ipython3",
   "version": "3.8.3"
  }
 },
 "nbformat": 4,
 "nbformat_minor": 4
}
