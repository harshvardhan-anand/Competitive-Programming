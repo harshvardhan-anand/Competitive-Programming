{
 "cells": [
  {
   "cell_type": "markdown",
   "metadata": {},
   "source": [
    "Q1. You have write a function that accepts, a string which length is “len”, the string has some “#”, in it you have to move all the hashes to the front of the string and return the whole string back and print it."
   ]
  },
  {
   "cell_type": "code",
   "execution_count": 3,
   "metadata": {},
   "outputs": [],
   "source": [
    "s = 'Move#Hash#to#Front'\n",
    "c = s.count('#')\n",
    "res = '#'*c\n",
    "res = res+s.replace('#', '')"
   ]
  },
  {
   "cell_type": "code",
   "execution_count": 4,
   "metadata": {},
   "outputs": [
    {
     "data": {
      "text/plain": [
       "'###MoveHashtoFront'"
      ]
     },
     "execution_count": 4,
     "metadata": {},
     "output_type": "execute_result"
    }
   ],
   "source": [
    "res"
   ]
  },
  {
   "cell_type": "markdown",
   "metadata": {},
   "source": [
    "Q2. Capgemini in its online written test have a coding question, wherein the students are given a string with multiple characters that are repeated consecutively. You’re supposed to reduce the size of this string using mathematical logic given as in the example below :"
   ]
  },
  {
   "cell_type": "code",
   "execution_count": 18,
   "metadata": {},
   "outputs": [],
   "source": [
    "s = 'aabbbbeeeeffggg'\n",
    "s = 'a'\n",
    "s = ''"
   ]
  },
  {
   "cell_type": "code",
   "execution_count": 21,
   "metadata": {},
   "outputs": [
    {
     "name": "stdout",
     "output_type": "stream",
     "text": [
      "0\n"
     ]
    }
   ],
   "source": [
    "prev = s[0] if s else ''\n",
    "c = 0\n",
    "i = 0\n",
    "res = ''\n",
    "while i<len(s) :\n",
    "    curr = s[i]\n",
    "    if prev == curr:\n",
    "        i+=1\n",
    "        c+=1\n",
    "        continue\n",
    "    else:\n",
    "        res = res+prev+str(c)\n",
    "        prev = curr\n",
    "        c = 1\n",
    "        i+=1\n",
    "        \n",
    "else:\n",
    "    res += prev+str(c)\n",
    "print(res)"
   ]
  },
  {
   "cell_type": "markdown",
   "metadata": {},
   "source": [
    "Q3. You’re given an array of integers, print the number of times each integer has occurred in the array."
   ]
  },
  {
   "cell_type": "code",
   "execution_count": 40,
   "metadata": {},
   "outputs": [
    {
     "name": "stdout",
     "output_type": "stream",
     "text": [
      "1 3\n",
      "2 2\n",
      "3 2\n",
      "4 2\n",
      "5 1\n"
     ]
    }
   ],
   "source": [
    "s = '1 2 3 3 4 1 4 5 1 2'\n",
    "n = list(map(int, s.split()))\n",
    "sn = set(n)\n",
    "for i in sn:\n",
    "    print(i, n.count(i))"
   ]
  },
  {
   "cell_type": "code",
   "execution_count": 46,
   "metadata": {},
   "outputs": [
    {
     "data": {
      "text/plain": [
       "['a']"
      ]
     },
     "execution_count": 46,
     "metadata": {},
     "output_type": "execute_result"
    }
   ],
   "source": [
    "s = 'aabc'\n",
    "s = ''\n",
    "s = 'a'\n",
    "\n",
    "d = []\n",
    "\n",
    "for i in range(len(s)):\n",
    "    for j in range(i, len(s)):\n",
    "        d.append(s[i:j+1])\n",
    "d"
   ]
  },
  {
   "cell_type": "code",
   "execution_count": 3,
   "metadata": {},
   "outputs": [
    {
     "name": "stdout",
     "output_type": "stream",
     "text": [
      "m****@g*********.com\n"
     ]
    }
   ],
   "source": [
    "s = 'mohan@gmhgjklail.com'\n",
    "\n",
    "s = s.split('@')\n",
    "un = s[0]\n",
    "domain = s[1].split('.')[0]\n",
    "\n",
    "print(f\"{un[0]}{'*'*(len(un)-1)}@{domain[0]}{'*'*(len(domain)-1)}.com\")"
   ]
  },
  {
   "cell_type": "code",
   "execution_count": 5,
   "metadata": {},
   "outputs": [
    {
     "data": {
      "text/plain": [
       "[5, 5, 4, 2, 1]"
      ]
     },
     "execution_count": 5,
     "metadata": {},
     "output_type": "execute_result"
    }
   ],
   "source": [
    "def bs(num):\n",
    "    for i in range(len(num)-1, 0, -1):\n",
    "        for i in range(i):\n",
    "            if num[i]<num[i+1]:\n",
    "                num[i], num[i+1] = num[i+1], num[i]\n",
    "    return num\n",
    "\n",
    "bs([1,2,5,4,5])"
   ]
  },
  {
   "cell_type": "code",
   "execution_count": 20,
   "metadata": {},
   "outputs": [
    {
     "data": {
      "text/plain": [
       "False"
      ]
     },
     "execution_count": 20,
     "metadata": {},
     "output_type": "execute_result"
    }
   ],
   "source": [
    "def checkprime(num):\n",
    "    for i in range(2, int(num/2)+1):\n",
    "        if (num%i)==0:\n",
    "            return False\n",
    "    return True\n",
    "            \n",
    "\n",
    "checkprime(12)"
   ]
  },
  {
   "cell_type": "code",
   "execution_count": 30,
   "metadata": {},
   "outputs": [
    {
     "data": {
      "text/plain": [
       "True"
      ]
     },
     "execution_count": 30,
     "metadata": {},
     "output_type": "execute_result"
    }
   ],
   "source": [
    "def ipld(s, l, h):\n",
    "    while l<h:\n",
    "        if s[l]!=s[h]:\n",
    "            return False\n",
    "        else:\n",
    "            l+=1\n",
    "            h-=1\n",
    "    return True\n",
    "\n",
    "s = 'abba'\n",
    "s = 'abaaba'\n",
    "s = 'aba'\n",
    "s = 'abbba'\n",
    "s = 'abaa'\n",
    "ipld(s, 0, len(s)-1)"
   ]
  },
  {
   "cell_type": "code",
   "execution_count": 41,
   "metadata": {},
   "outputs": [],
   "source": [
    "def apu(ap, cp, start, n, string):\n",
    "    if start>=n:\n",
    "        x = cp.copy()\n",
    "        ap.append(x)\n",
    "        return \n",
    "    for i in range(start, n):\n",
    "        if ipld(string, start, i):\n",
    "            print(cp, end='--->')\n",
    "            cp.append(string[start:i+1])\n",
    "            print(cp)\n",
    "            apu(ap, cp, i+1, n, string)\n",
    "            cp.pop()\n",
    "            \n",
    "def pat(s):\n",
    "    n = len(s)\n",
    "    ap = []\n",
    "    cp = []\n",
    "    apu(ap, cp, 0, n, s)\n",
    "    return ap"
   ]
  },
  {
   "cell_type": "code",
   "execution_count": 44,
   "metadata": {},
   "outputs": [
    {
     "name": "stdout",
     "output_type": "stream",
     "text": [
      "[]--->['r']\n",
      "['r']--->['r', 'o']\n",
      "['r', 'o']--->['r', 'o', 't']\n",
      "['r', 'o', 't']--->['r', 'o', 't', 'o']\n",
      "['r', 'o', 't', 'o']--->['r', 'o', 't', 'o', 'r']\n",
      "['r']--->['r', 'oto']\n",
      "['r', 'oto']--->['r', 'oto', 'r']\n",
      "[]--->['rotor']\n"
     ]
    },
    {
     "data": {
      "text/plain": [
       "[['r', 'o', 't', 'o', 'r'], ['r', 'oto', 'r'], ['rotor']]"
      ]
     },
     "execution_count": 44,
     "metadata": {},
     "output_type": "execute_result"
    }
   ],
   "source": [
    "pat('rotor')"
   ]
  },
  {
   "cell_type": "code",
   "execution_count": 73,
   "metadata": {},
   "outputs": [
    {
     "name": "stdout",
     "output_type": "stream",
     "text": [
      "11538.0\n"
     ]
    },
    {
     "data": {
      "text/plain": [
       "False"
      ]
     },
     "execution_count": 73,
     "metadata": {},
     "output_type": "execute_result"
    }
   ],
   "source": [
    "import math\n",
    "def pn(n):\n",
    "    s = 1\n",
    "    for i in range(2,math.ceil(math.sqrt(n))):\n",
    "        if n%i == 0:\n",
    "            s = s+(n/i)+i\n",
    "    if int(s)==n:\n",
    "        return True\n",
    "    return False\n",
    "\n",
    "pn(8118)"
   ]
  },
  {
   "cell_type": "code",
   "execution_count": null,
   "metadata": {},
   "outputs": [],
   "source": []
  }
 ],
 "metadata": {
  "kernelspec": {
   "display_name": "Python 3",
   "language": "python",
   "name": "python3"
  },
  "language_info": {
   "codemirror_mode": {
    "name": "ipython",
    "version": 3
   },
   "file_extension": ".py",
   "mimetype": "text/x-python",
   "name": "python",
   "nbconvert_exporter": "python",
   "pygments_lexer": "ipython3",
   "version": "3.8.3"
  }
 },
 "nbformat": 4,
 "nbformat_minor": 4
}
