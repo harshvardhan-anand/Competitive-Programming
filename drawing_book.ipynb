{
 "cells": [
  {
   "cell_type": "code",
   "execution_count": 4,
   "metadata": {},
   "outputs": [],
   "source": [
    "#algo \n",
    "#''''difference between 1 and page no. or difference between last page and page number \n",
    "#jo bhi chota ho then we will decide ki start kahan se karna hai start se ya end se''' "
   ]
  },
  {
   "cell_type": "code",
   "execution_count": 9,
   "metadata": {},
   "outputs": [
    {
     "name": "stdout",
     "output_type": "stream",
     "text": [
      "14\n",
      "11\n",
      "2\n"
     ]
    }
   ],
   "source": [
    "n=int(input())  \n",
    "p=int(input())  \n",
    "diff_start=p-1\n",
    "diff_end=n-p\n",
    "if diff_start<diff_end:\n",
    "    if diff_start%2==0:\n",
    "        turn=diff_start/2\n",
    "    else:\n",
    "        turn=(diff_start+1)/2\n",
    "\n",
    "if diff_start>=diff_end:\n",
    "    if diff_end%2==0:\n",
    "        turn=diff_end/2\n",
    "    else:\n",
    "        if diff_end==diff_start:\n",
    "            if (n%2==0) and (p%2 != 0):\n",
    "                turn=(diff_end+1)/2\n",
    "            if (n%2!=0) and (p%2 == 0):\n",
    "                turn=(diff_end-1)/2\n",
    "        else:\n",
    "            if (n%2==0) and (p%2 != 0):\n",
    "                turn=(diff_end+1)/2\n",
    "            if (n%2!=0) and (p%2 == 0):\n",
    "                turn=(diff_end-1)/2\n",
    "print(int(turn))"
   ]
  },
  {
   "cell_type": "code",
   "execution_count": 8,
   "metadata": {},
   "outputs": [],
   "source": [
    "#test case"
   ]
  },
  {
   "cell_type": "code",
   "execution_count": null,
   "metadata": {},
   "outputs": [],
   "source": [
    "14 11 "
   ]
  },
  {
   "cell_type": "code",
   "execution_count": null,
   "metadata": {},
   "outputs": [],
   "source": [
    "8 5"
   ]
  },
  {
   "cell_type": "code",
   "execution_count": null,
   "metadata": {},
   "outputs": [],
   "source": [
    "7 4"
   ]
  }
 ],
 "metadata": {
  "kernelspec": {
   "display_name": "Python 3",
   "language": "python",
   "name": "python3"
  },
  "language_info": {
   "codemirror_mode": {
    "name": "ipython",
    "version": 3
   },
   "file_extension": ".py",
   "mimetype": "text/x-python",
   "name": "python",
   "nbconvert_exporter": "python",
   "pygments_lexer": "ipython3",
   "version": "3.7.1"
  }
 },
 "nbformat": 4,
 "nbformat_minor": 2
}
