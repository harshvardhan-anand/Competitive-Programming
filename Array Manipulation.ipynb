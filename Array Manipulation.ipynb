{
 "cells": [
  {
   "cell_type": "markdown",
   "metadata": {},
   "source": [
    "**https://stackoverflow.com/questions/18713321/element-wise-addition-of-2-lists**"
   ]
  },
  {
   "cell_type": "markdown",
   "metadata": {},
   "source": [
    "from tcase.tcase import input, create_input\n",
    "create_input()"
   ]
  },
  {
   "cell_type": "markdown",
   "metadata": {},
   "source": [
    "n = 10\n",
    "m = 3\n",
    "\n",
    "q = [[1,5,3], [4,8,7], [6,9,1]]"
   ]
  },
  {
   "cell_type": "markdown",
   "metadata": {},
   "source": [
    "<br>"
   ]
  },
  {
   "cell_type": "markdown",
   "metadata": {},
   "source": [
    "# Inefficient Approach - 1"
   ]
  },
  {
   "cell_type": "markdown",
   "metadata": {},
   "source": [
    "from operator import add"
   ]
  },
  {
   "cell_type": "markdown",
   "metadata": {},
   "source": [
    "n, m = list(map(int, input().split()))"
   ]
  },
  {
   "cell_type": "markdown",
   "metadata": {},
   "source": [
    "q = []\n",
    "for i in range(m):\n",
    "    q.append(list(map(int, input().split())))"
   ]
  },
  {
   "cell_type": "markdown",
   "metadata": {},
   "source": [
    "mat = []\n",
    "\n",
    "for _ in range(m):\n",
    "    mat.append([0]*n)"
   ]
  },
  {
   "cell_type": "markdown",
   "metadata": {},
   "source": [
    "def operate(mat, a, b, k):\n",
    "    c = 0\n",
    "    mat[0][0] = 5\n",
    "    temp = len(mat[c][a:b])\n",
    "    while c<m:\n",
    "        mat[c][a:b] = list(map(add, mat[c][a:b], [k]*(b-a)))\n",
    "        c+=1\n",
    "    return mat"
   ]
  },
  {
   "cell_type": "markdown",
   "metadata": {},
   "source": [
    "def flatten(mat):\n",
    "    op = []\n",
    "    for i in mat:\n",
    "        op+=i\n",
    "    return op"
   ]
  },
  {
   "cell_type": "markdown",
   "metadata": {},
   "source": [
    "for arr in q:\n",
    "    a,b,k = arr\n",
    "    a-=1\n",
    "    mat = operate(mat, a, b, k)\n",
    "op = flatten(mat)\n",
    "print(max(op))"
   ]
  },
  {
   "cell_type": "markdown",
   "metadata": {},
   "source": [
    "<br>"
   ]
  },
  {
   "cell_type": "code",
   "execution_count": 42,
   "metadata": {},
   "outputs": [],
   "source": [
    "from tcase.tcase import input, create_input\n",
    "create_input()"
   ]
  },
  {
   "cell_type": "code",
   "execution_count": 43,
   "metadata": {},
   "outputs": [],
   "source": [
    "n, m = list(map(int, input().split()))"
   ]
  },
  {
   "cell_type": "code",
   "execution_count": 44,
   "metadata": {},
   "outputs": [],
   "source": [
    "queries = []\n",
    "arr = [0]*n"
   ]
  },
  {
   "cell_type": "code",
   "execution_count": 45,
   "metadata": {},
   "outputs": [],
   "source": [
    "for _ in range(m):\n",
    "    queries.append(list(map(int, input().split())))"
   ]
  },
  {
   "cell_type": "code",
   "execution_count": 46,
   "metadata": {},
   "outputs": [
    {
     "data": {
      "text/plain": [
       "200"
      ]
     },
     "execution_count": 46,
     "metadata": {},
     "output_type": "execute_result"
    }
   ],
   "source": [
    "for q in queries:\n",
    "    a,b,k = q\n",
    "    a = a-1\n",
    "    b = b-1\n",
    "    while(a<=b):\n",
    "        arr[a]+=k\n",
    "        a+=1\n",
    "print(max(arr))"
   ]
  },
  {
   "cell_type": "markdown",
   "metadata": {},
   "source": [
    "# Efficient - Using prefix sum algorithm"
   ]
  },
  {
   "cell_type": "code",
   "execution_count": 197,
   "metadata": {},
   "outputs": [
    {
     "name": "stdout",
     "output_type": "stream",
     "text": [
      "1233644\n",
      "4.7757203578948975\n"
     ]
    }
   ],
   "source": [
    "from tcase.tcase import input, create_input\n",
    "create_input()\n",
    "\n",
    "import time\n",
    "\n",
    "n, m = list(map(int, input().split()))\n",
    "\n",
    "queries = []\n",
    "arr = [0]*(n+1)\n",
    "\n",
    "for _ in range(m):\n",
    "    queries.append(list(map(int, input().split())))\n",
    "\n",
    "s = time.time()\n",
    "for a, b, k in queries:\n",
    "    try:\n",
    "        arr[a]+=k\n",
    "    except:\n",
    "        arr[a] = k\n",
    "    try:\n",
    "        arr[b+1]-=k\n",
    "    except:\n",
    "        arr[b+1]-=k\n",
    "\n",
    "# Prefix sum algo\n",
    "c=1\n",
    "while c<len(arr):\n",
    "    arr[c]+=arr[c-1]\n",
    "    c+=1\n",
    "    \n",
    "print(max(arr))\n",
    "e = time.time()\n",
    "\n",
    "print(e-s)"
   ]
  },
  {
   "cell_type": "markdown",
   "metadata": {},
   "source": [
    "# More Efficent"
   ]
  },
  {
   "cell_type": "code",
   "execution_count": 211,
   "metadata": {},
   "outputs": [
    {
     "name": "stdout",
     "output_type": "stream",
     "text": [
      "2497169732\n",
      "0.3316328525543213\n"
     ]
    }
   ],
   "source": [
    "from tcase.tcase import input, create_input\n",
    "create_input()\n",
    "import time\n",
    "\n",
    "from collections import Counter\n",
    "n, m = list(map(int, input().split()))\n",
    "\n",
    "queries = []\n",
    "arr = Counter()\n",
    "# arr = [0]*(n+1)\n",
    "\n",
    "for _ in range(m):\n",
    "    queries.append(list(map(int, input().split())))\n",
    "\n",
    "s = time.time()\n",
    "for a, b, k in queries:\n",
    "    arr[a]+=k\n",
    "    arr[b+1]-=k\n",
    "\n",
    "# Prefix sum algo\n",
    "arrSum = 0\n",
    "maxSum = 0\n",
    "for i in sorted(arr)[:-1]:\n",
    "    arrSum+= arr[i]\n",
    "    maxSum = max(maxSum,arrSum)\n",
    "    \n",
    "print(maxSum)\n",
    "e = time.time()\n",
    "\n",
    "print(e-s)"
   ]
  },
  {
   "cell_type": "code",
   "execution_count": null,
   "metadata": {},
   "outputs": [],
   "source": []
  },
  {
   "cell_type": "code",
   "execution_count": null,
   "metadata": {},
   "outputs": [],
   "source": []
  }
 ],
 "metadata": {
  "kernelspec": {
   "display_name": "Python 3",
   "language": "python",
   "name": "python3"
  },
  "language_info": {
   "codemirror_mode": {
    "name": "ipython",
    "version": 3
   },
   "file_extension": ".py",
   "mimetype": "text/x-python",
   "name": "python",
   "nbconvert_exporter": "python",
   "pygments_lexer": "ipython3",
   "version": "3.8.3"
  }
 },
 "nbformat": 4,
 "nbformat_minor": 4
}
