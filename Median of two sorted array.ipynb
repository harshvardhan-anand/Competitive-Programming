{
 "cells": [
  {
   "cell_type": "markdown",
   "metadata": {},
   "source": [
    "# Approach 1"
   ]
  },
  {
   "cell_type": "markdown",
   "metadata": {},
   "source": [
    "### Merging 2 sorted array with  TC : O(m+n)  and SC : O(m+n)"
   ]
  },
  {
   "cell_type": "code",
   "execution_count": 1,
   "metadata": {},
   "outputs": [],
   "source": [
    "c1 = [900]\n",
    "c2 = [5, 8, 10, 20]"
   ]
  },
  {
   "cell_type": "code",
   "execution_count": 2,
   "metadata": {},
   "outputs": [
    {
     "data": {
      "text/plain": [
       "[5, 8, 10, 20, 900, 20]"
      ]
     },
     "execution_count": 2,
     "metadata": {},
     "output_type": "execute_result"
    }
   ],
   "source": [
    "def merge_func(c1, c2):\n",
    "    merge = []\n",
    "    i = j = 0\n",
    "    while True:\n",
    "        n1_flag = True if i < len(c1) else False\n",
    "        n2_flag = True if j < len(c2) else False\n",
    "\n",
    "        if (n1_flag==False and n2_flag==False):break\n",
    "            \n",
    "        if n1_flag:\n",
    "            n1 = c1[i]\n",
    "        if n2_flag:\n",
    "            n2 = c2[j]\n",
    "\n",
    "        if n1<n2 and n1_flag:\n",
    "            merge.append(n1)\n",
    "            i+=1\n",
    "            \n",
    "        elif n2<n1 and n2_flag:\n",
    "            merge.append(n2)\n",
    "            j+=1\n",
    "            \n",
    "        else:\n",
    "            merge.append(n1)\n",
    "            merge.append(n2)\n",
    "            i+=1\n",
    "            j+=1\n",
    "            \n",
    "    return merge\n",
    "        \n",
    "merge_func(c1, c2)"
   ]
  },
  {
   "cell_type": "code",
   "execution_count": 3,
   "metadata": {},
   "outputs": [
    {
     "data": {
      "text/plain": [
       "5"
      ]
     },
     "execution_count": 3,
     "metadata": {},
     "output_type": "execute_result"
    }
   ],
   "source": [
    "len(c1)+len(c2)"
   ]
  },
  {
   "cell_type": "markdown",
   "metadata": {},
   "source": [
    "### Finding Median\n",
    "\n",
    "**TC - O(m+n/2)** <br>\n",
    "**SC - O(m+n/2)**"
   ]
  },
  {
   "cell_type": "code",
   "execution_count": 4,
   "metadata": {},
   "outputs": [
    {
     "name": "stdout",
     "output_type": "stream",
     "text": [
      "3\n"
     ]
    },
    {
     "data": {
      "text/plain": [
       "(10, 'odd')"
      ]
     },
     "execution_count": 4,
     "metadata": {},
     "output_type": "execute_result"
    }
   ],
   "source": [
    "merge = []\n",
    "i = j = 0\n",
    "m = len(c1)\n",
    "n = len(c2)\n",
    "median = int(((m+n)/2)+1 if (m+n)%2==0 else (m+n+1)/2)\n",
    "print(median)\n",
    "status = 'even' if (m+n)%2==0 else 'odd'\n",
    "while True:\n",
    "    n1_flag = True if i < len(c1) else False\n",
    "    n2_flag = True if j < len(c2) else False\n",
    "    \n",
    "    if len(merge)==median:\n",
    "        if status=='even':\n",
    "            median = (merge[-2]+merge[-1])/2\n",
    "        else:\n",
    "            median = merge[-1]\n",
    "            \n",
    "        break\n",
    "\n",
    "    if not (n1_flag and n2_flag):break\n",
    "    if n1_flag:\n",
    "        n1 = c1[i]\n",
    "    if n2_flag:\n",
    "        n2 = c2[j]\n",
    "\n",
    "    if n1<n2 and n1_flag:\n",
    "        merge.append(n1)\n",
    "        i+=1\n",
    "    elif n2<n1 and n2_flag:\n",
    "        merge.append(n2)\n",
    "        j+=1\n",
    "    else:\n",
    "        merge.append(n1)\n",
    "        merge.append(n2)\n",
    "        i+=1\n",
    "        j+=1\n",
    "\n",
    "merge\n",
    "median, status"
   ]
  },
  {
   "cell_type": "markdown",
   "metadata": {},
   "source": [
    "### Finding Median\n",
    "\n",
    "**TC - O(m+n/2)** <br>\n",
    "**SC - O(1)**"
   ]
  },
  {
   "cell_type": "code",
   "execution_count": 5,
   "metadata": {},
   "outputs": [
    {
     "data": {
      "text/plain": [
       "(10, 'odd')"
      ]
     },
     "execution_count": 5,
     "metadata": {},
     "output_type": "execute_result"
    }
   ],
   "source": [
    "count = 0\n",
    "i = j = 0\n",
    "m = len(c1)\n",
    "n = len(c2)\n",
    "median = int(((m+n)/2)+1 if (m+n)%2==0 else (m+n+1)/2)\n",
    "status = 'even' if (m+n)%2==0 else 'odd'\n",
    "while True:\n",
    "    n1_flag = True if i < len(c1) else False\n",
    "    n2_flag = True if j < len(c2) else False\n",
    "    \n",
    "    if count==median:\n",
    "        if status=='even':\n",
    "            median = (prev_temp+temp)/2\n",
    "        else:#odd\n",
    "            median = temp  \n",
    "        break\n",
    "\n",
    "    if not (n1_flag and n2_flag):break\n",
    "        \n",
    "    if n1_flag:\n",
    "        n1 = c1[i]\n",
    "    if n2_flag:\n",
    "        n2 = c2[j]\n",
    "\n",
    "    if n1<n2 and n1_flag:\n",
    "        temp = n1\n",
    "        count+=1\n",
    "        i+=1\n",
    "    elif n2<n1 and n2_flag:\n",
    "        temp = n2\n",
    "        count+=1\n",
    "        j+=1\n",
    "    else:\n",
    "        temp = n1\n",
    "        prev_temp = n1\n",
    "        count+=2\n",
    "        i+=1\n",
    "        j+=1\n",
    "        continue\n",
    "        \n",
    "    if count%2!=0:\n",
    "        prev_temp = temp\n",
    "\n",
    "median, status"
   ]
  },
  {
   "cell_type": "code",
   "execution_count": null,
   "metadata": {},
   "outputs": [],
   "source": []
  }
 ],
 "metadata": {
  "kernelspec": {
   "display_name": "Python 3",
   "language": "python",
   "name": "python3"
  },
  "language_info": {
   "codemirror_mode": {
    "name": "ipython",
    "version": 3
   },
   "file_extension": ".py",
   "mimetype": "text/x-python",
   "name": "python",
   "nbconvert_exporter": "python",
   "pygments_lexer": "ipython3",
   "version": "3.8.3"
  }
 },
 "nbformat": 4,
 "nbformat_minor": 4
}
