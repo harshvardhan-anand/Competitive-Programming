{
 "cells": [
  {
   "cell_type": "code",
   "execution_count": 7,
   "metadata": {},
   "outputs": [],
   "source": [
    "x = [1,1]\n",
    "x.remove(1)"
   ]
  },
  {
   "cell_type": "code",
   "execution_count": 8,
   "metadata": {},
   "outputs": [
    {
     "data": {
      "text/plain": [
       "[1]"
      ]
     },
     "execution_count": 8,
     "metadata": {},
     "output_type": "execute_result"
    }
   ],
   "source": [
    "x"
   ]
  },
  {
   "cell_type": "code",
   "execution_count": 9,
   "metadata": {},
   "outputs": [
    {
     "name": "stdout",
     "output_type": "stream",
     "text": [
      "df\n",
      "[3] df\n"
     ]
    }
   ],
   "source": [
    "maxA = []\n",
    "minA = []\n",
    "\n",
    "def findmed():\n",
    "#     print('Output', end=': ')\n",
    "    r = None\n",
    "    try:\n",
    "        if len(maxA)>len(minA):\n",
    "            r = max(maxA)\n",
    "#             print(r)\n",
    "        else:\n",
    "            r = (max(maxA)+min(minA))/2\n",
    "#             print(r)\n",
    "    except: pass\n",
    "    return r\n",
    "\n",
    "def addnum(n):\n",
    "    print('df')\n",
    "    global maxA, minA\n",
    "    currmed = findmed()\n",
    "    maxA.append(n)\n",
    "    print(maxA, 'df')\n",
    "    if currmed==None: return\n",
    "    if n>=currmed:\n",
    "        minA.append(max(maxA))\n",
    "        val = maxA.remove(max(maxA))\n",
    "    else:\n",
    "        maxA.append(n)\n",
    "    if len(maxA)<len(minA):\n",
    "        maxA.append(min(minA))\n",
    "        val = minA.remove(min(minA))\n",
    "        \n",
    "addnum(3)"
   ]
  },
  {
   "cell_type": "code",
   "execution_count": 10,
   "metadata": {},
   "outputs": [
    {
     "data": {
      "text/plain": [
       "3"
      ]
     },
     "execution_count": 10,
     "metadata": {},
     "output_type": "execute_result"
    }
   ],
   "source": [
    "for i in range(-1,-5):\n",
    "    addnum(i)\n",
    "\n",
    "findmed()"
   ]
  },
  {
   "cell_type": "code",
   "execution_count": 11,
   "metadata": {},
   "outputs": [
    {
     "data": {
      "text/plain": [
       "[3]"
      ]
     },
     "execution_count": 11,
     "metadata": {},
     "output_type": "execute_result"
    }
   ],
   "source": [
    "maxA"
   ]
  },
  {
   "cell_type": "code",
   "execution_count": 12,
   "metadata": {},
   "outputs": [
    {
     "data": {
      "text/plain": [
       "[]"
      ]
     },
     "execution_count": 12,
     "metadata": {},
     "output_type": "execute_result"
    }
   ],
   "source": [
    "minA"
   ]
  },
  {
   "cell_type": "code",
   "execution_count": null,
   "metadata": {},
   "outputs": [],
   "source": []
  },
  {
   "cell_type": "code",
   "execution_count": null,
   "metadata": {},
   "outputs": [],
   "source": []
  }
 ],
 "metadata": {
  "kernelspec": {
   "display_name": "Python 3",
   "language": "python",
   "name": "python3"
  },
  "language_info": {
   "codemirror_mode": {
    "name": "ipython",
    "version": 3
   },
   "file_extension": ".py",
   "mimetype": "text/x-python",
   "name": "python",
   "nbconvert_exporter": "python",
   "pygments_lexer": "ipython3",
   "version": "3.8.3"
  }
 },
 "nbformat": 4,
 "nbformat_minor": 4
}
