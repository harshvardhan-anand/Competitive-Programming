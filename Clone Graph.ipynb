{
 "cells": [
  {
   "cell_type": "code",
   "execution_count": 6,
   "id": "440a1f25",
   "metadata": {},
   "outputs": [],
   "source": [
    "adj = [[2,4],[1,3],[2,4],[1,3]]"
   ]
  },
  {
   "cell_type": "code",
   "execution_count": 2,
   "id": "1581fb00",
   "metadata": {},
   "outputs": [],
   "source": [
    "from queue import Queue"
   ]
  },
  {
   "cell_type": "code",
   "execution_count": 4,
   "id": "1ec1a0c8",
   "metadata": {},
   "outputs": [],
   "source": [
    "s = 0\n",
    "q = Queue()\n",
    "q.put(s)"
   ]
  },
  {
   "cell_type": "code",
   "execution_count": null,
   "id": "41da6ae8",
   "metadata": {},
   "outputs": [],
   "source": []
  }
 ],
 "metadata": {
  "kernelspec": {
   "display_name": "Python 3 (ipykernel)",
   "language": "python",
   "name": "python3"
  },
  "language_info": {
   "codemirror_mode": {
    "name": "ipython",
    "version": 3
   },
   "file_extension": ".py",
   "mimetype": "text/x-python",
   "name": "python",
   "nbconvert_exporter": "python",
   "pygments_lexer": "ipython3",
   "version": "3.9.7"
  }
 },
 "nbformat": 4,
 "nbformat_minor": 5
}
