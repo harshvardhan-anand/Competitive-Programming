{
 "cells": [
  {
   "cell_type": "markdown",
   "metadata": {},
   "source": [
    "## Count and find all the pairs with sum as odd"
   ]
  },
  {
   "cell_type": "markdown",
   "metadata": {},
   "source": [
    "**Approach is**\n",
    "\n",
    "odd+odd=even\n",
    "\n",
    "odd+even=odd\n",
    "\n",
    "even+even=even"
   ]
  },
  {
   "cell_type": "code",
   "execution_count": 180,
   "metadata": {},
   "outputs": [],
   "source": [
    "import time\n",
    "start=time.time()"
   ]
  },
  {
   "cell_type": "code",
   "execution_count": 181,
   "metadata": {},
   "outputs": [],
   "source": [
    "a=[9,14,6,2,11]"
   ]
  },
  {
   "cell_type": "code",
   "execution_count": 182,
   "metadata": {},
   "outputs": [],
   "source": [
    "b=[8,4,7,20]"
   ]
  },
  {
   "cell_type": "code",
   "execution_count": 183,
   "metadata": {},
   "outputs": [],
   "source": [
    "#took two array with for odd nos and even nos in both list \n",
    "odd=[]\n",
    "even=[]"
   ]
  },
  {
   "cell_type": "code",
   "execution_count": 184,
   "metadata": {},
   "outputs": [
    {
     "name": "stdout",
     "output_type": "stream",
     "text": [
      "Length is:  18\n"
     ]
    }
   ],
   "source": [
    "count=0\n",
    "# if number is odd in 'a' then push them to 'odd' list\n",
    "for i in a:\n",
    "    if i%2 != 0:\n",
    "        for j in odd:\n",
    "            if(j==i):\n",
    "                count += 1\n",
    "        if(count == 0):\n",
    "            odd.append(i)\n",
    "    count=0\n",
    "    # if number is even in 'a' then push them to 'even' list\n",
    "    if i%2 == 0:\n",
    "        for j in even:\n",
    "            if(j==i):\n",
    "                count=+ 1\n",
    "        if(count==0):\n",
    "            even.append(i)\n",
    "    count=0\n",
    "# if number is odd in 'b' then push them to 'odd' list\n",
    "for i in b:\n",
    "    if i%2 != 0:\n",
    "        for j in odd:\n",
    "            if(j==i):\n",
    "                count += 1\n",
    "        if(count == 0):\n",
    "            odd.append(i)\n",
    "    count=0\n",
    "    # if number is even in 'b' then push them to 'even' list\n",
    "    if i%2 == 0:\n",
    "        for j in even:\n",
    "            if(j==i):\n",
    "                count=+ 1\n",
    "        if(count==0):\n",
    "            even.append(i)\n",
    "    count=0\n",
    "#creating tuples\n",
    "odd_sum=[]\n",
    "for i in odd:\n",
    "    for j in even:\n",
    "        odd_sum.append((i,j))\n",
    "print(\"Length is: \", len(odd_sum))"
   ]
  },
  {
   "cell_type": "code",
   "execution_count": 185,
   "metadata": {},
   "outputs": [
    {
     "name": "stdout",
     "output_type": "stream",
     "text": [
      "Odd:  [9, 11, 7]\n",
      "Even:  [14, 6, 2, 8, 4, 20]\n",
      "Length:  [(9, 14), (9, 6), (9, 2), (9, 8), (9, 4), (9, 20), (11, 14), (11, 6), (11, 2), (11, 8), (11, 4), (11, 20), (7, 14), (7, 6), (7, 2), (7, 8), (7, 4), (7, 20)]\n"
     ]
    }
   ],
   "source": [
    "print(\"Odd: \",odd)\n",
    "print(\"Even: \",even)\n",
    "print(\"Length: \", odd_sum)"
   ]
  },
  {
   "cell_type": "code",
   "execution_count": 186,
   "metadata": {},
   "outputs": [],
   "source": [
    "end=time.time()"
   ]
  },
  {
   "cell_type": "code",
   "execution_count": 187,
   "metadata": {},
   "outputs": [
    {
     "name": "stdout",
     "output_type": "stream",
     "text": [
      "Execution time:  0.16698908805847168 s\n"
     ]
    }
   ],
   "source": [
    "print(\"Execution time: \", end-start, 's')"
   ]
  }
 ],
 "metadata": {
  "kernelspec": {
   "display_name": "Python 3",
   "language": "python",
   "name": "python3"
  },
  "language_info": {
   "codemirror_mode": {
    "name": "ipython",
    "version": 3
   },
   "file_extension": ".py",
   "mimetype": "text/x-python",
   "name": "python",
   "nbconvert_exporter": "python",
   "pygments_lexer": "ipython3",
   "version": "3.7.1"
  }
 },
 "nbformat": 4,
 "nbformat_minor": 2
}
