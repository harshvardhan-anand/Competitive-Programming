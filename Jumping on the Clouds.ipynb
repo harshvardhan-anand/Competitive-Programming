{
 "cells": [
  {
   "cell_type": "code",
   "execution_count": 17,
   "metadata": {},
   "outputs": [
    {
     "name": "stdout",
     "output_type": "stream",
     "text": [
      "6\n",
      "0 0 0 1 0 0\n",
      "3\n"
     ]
    }
   ],
   "source": [
    "n = int(input())\n",
    "c = [int(x) for x in input().split()]\n",
    "steps = 0\n",
    "cloud_idx = 0\n",
    "while cloud_idx!=n-1:\n",
    "    try:\n",
    "        if c[cloud_idx+2]==0:\n",
    "            steps+=1\n",
    "            cloud_idx+=2\n",
    "        else:\n",
    "            steps+=1\n",
    "            cloud_idx+=1\n",
    "    except:\n",
    "        steps+=1\n",
    "        cloud_idx+=1        \n",
    "print(steps)"
   ]
  },
  {
   "cell_type": "code",
   "execution_count": null,
   "metadata": {},
   "outputs": [],
   "source": []
  }
 ],
 "metadata": {
  "kernelspec": {
   "display_name": "Python 3",
   "language": "python",
   "name": "python3"
  },
  "language_info": {
   "codemirror_mode": {
    "name": "ipython",
    "version": 3
   },
   "file_extension": ".py",
   "mimetype": "text/x-python",
   "name": "python",
   "nbconvert_exporter": "python",
   "pygments_lexer": "ipython3",
   "version": "3.8.3"
  }
 },
 "nbformat": 4,
 "nbformat_minor": 4
}
