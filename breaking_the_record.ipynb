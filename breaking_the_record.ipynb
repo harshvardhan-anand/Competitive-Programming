{
 "cells": [
  {
   "cell_type": "code",
   "execution_count": 5,
   "metadata": {},
   "outputs": [
    {
     "name": "stdout",
     "output_type": "stream",
     "text": [
      "10 5 20 20 4 5 2 25 1\n",
      "2 4\n"
     ]
    }
   ],
   "source": [
    "#x=input()\n",
    "score=input().split()\n",
    "mini=int(score[0])\n",
    "maxi=int(score[0])\n",
    "loose=0\n",
    "beat=0\n",
    "for i in score:\n",
    "    i=int(i)\n",
    "    if i>maxi:\n",
    "        maxi=i\n",
    "        beat+=1\n",
    "    if i<mini:\n",
    "        mini=i\n",
    "        loose+=1\n",
    "print(beat, loose)"
   ]
  },
  {
   "cell_type": "code",
   "execution_count": null,
   "metadata": {},
   "outputs": [],
   "source": []
  }
 ],
 "metadata": {
  "kernelspec": {
   "display_name": "Python 3",
   "language": "python",
   "name": "python3"
  },
  "language_info": {
   "codemirror_mode": {
    "name": "ipython",
    "version": 3
   },
   "file_extension": ".py",
   "mimetype": "text/x-python",
   "name": "python",
   "nbconvert_exporter": "python",
   "pygments_lexer": "ipython3",
   "version": "3.7.1"
  }
 },
 "nbformat": 4,
 "nbformat_minor": 2
}
