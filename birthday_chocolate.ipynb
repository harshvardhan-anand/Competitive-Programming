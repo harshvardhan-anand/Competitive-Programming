{
 "cells": [
  {
   "cell_type": "code",
   "execution_count": 16,
   "metadata": {},
   "outputs": [
    {
     "name": "stdout",
     "output_type": "stream",
     "text": [
      "1\n"
     ]
    }
   ],
   "source": [
    "                                #worst code\n",
    "\n",
    "#bars=input()\n",
    "#bar_num=input().split()\n",
    "#sum, slab=input().split()\n",
    "bars=1\n",
    "bar_num=[4]\n",
    "sum, slab=[4,1]\n",
    "i=0\n",
    "k=0\n",
    "count=0\n",
    "set_bar=0\n",
    "add=0\n",
    "while (i<=bars-1) :\n",
    "    count+=1\n",
    "    if count<=slab:\n",
    "        k+=1\n",
    "        add=add + bar_num[i]\n",
    "    if k==slab and add==sum:\n",
    "        #print(f\"i:{i}  a[{i}]:{bar_num[i]}  add:{add}    count: {count}\")\n",
    "        set_bar+=1\n",
    "    if count==slab:\n",
    "        count=0\n",
    "        k=0\n",
    "        add=0\n",
    "        if bars>slab:\n",
    "            continue\n",
    "    i+=1\n",
    "print(set_bar)"
   ]
  },
  {
   "cell_type": "code",
   "execution_count": 18,
   "metadata": {},
   "outputs": [
    {
     "name": "stdout",
     "output_type": "stream",
     "text": [
      "1\n"
     ]
    }
   ],
   "source": [
    "                            #GOOD CODE\n",
    "\n",
    "#len=int(input())\n",
    "#a=input().split()\n",
    "#sum, slab=input().split()\n",
    "len=1\n",
    "a=[4]\n",
    "sum, slab=[4, 1]\n",
    "count=0\n",
    "added=0\n",
    "for i in range((len-slab)+1):\n",
    "    sum=int(sum)\n",
    "    slab=int(slab)\n",
    "    for j in range(slab):\n",
    "        k=i+j\n",
    "        added=added+int(a[k])\n",
    "    if(added==sum):\n",
    "        count+=1\n",
    "        k=0\n",
    "        added=0\n",
    "    k=0\n",
    "    added=0\n",
    "print(count)"
   ]
  },
  {
   "cell_type": "code",
   "execution_count": null,
   "metadata": {},
   "outputs": [],
   "source": []
  }
 ],
 "metadata": {
  "kernelspec": {
   "display_name": "Python 3",
   "language": "python",
   "name": "python3"
  },
  "language_info": {
   "codemirror_mode": {
    "name": "ipython",
    "version": 3
   },
   "file_extension": ".py",
   "mimetype": "text/x-python",
   "name": "python",
   "nbconvert_exporter": "python",
   "pygments_lexer": "ipython3",
   "version": "3.7.1"
  }
 },
 "nbformat": 4,
 "nbformat_minor": 2
}
