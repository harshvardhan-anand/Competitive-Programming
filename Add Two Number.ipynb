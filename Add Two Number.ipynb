{
 "cells": [
  {
   "cell_type": "code",
   "execution_count": 151,
   "metadata": {},
   "outputs": [],
   "source": [
    "class Node:\n",
    "    def __init__(self, val=0):\n",
    "        self.val = val\n",
    "        self.next = None"
   ]
  },
  {
   "cell_type": "code",
   "execution_count": 152,
   "metadata": {},
   "outputs": [],
   "source": [
    "class SinglyLinkedList:\n",
    "    def __init__(self):\n",
    "        self.head = None\n",
    "        self.tail = self.head\n",
    "    def insert(self, val):\n",
    "        curr = Node(val)\n",
    "        if not self.head:\n",
    "            self.head = curr\n",
    "        else:\n",
    "            self.tail.next = curr\n",
    "        self.tail = curr\n",
    "    def traverse(self):\n",
    "        curr = self.head\n",
    "        data = []\n",
    "        while curr:\n",
    "            data.append(curr.val)\n",
    "            curr = curr.next\n",
    "        return data"
   ]
  },
  {
   "cell_type": "code",
   "execution_count": 153,
   "metadata": {},
   "outputs": [],
   "source": [
    "ss1 = SinglyLinkedList()"
   ]
  },
  {
   "cell_type": "code",
   "execution_count": 154,
   "metadata": {},
   "outputs": [],
   "source": [
    "# d = [5,6,4]\n",
    "d = [9,9,9,9,9,9,9]\n",
    "# d = [2,4,3]\n",
    "for i in d:\n",
    "    ss1.insert(i)"
   ]
  },
  {
   "cell_type": "code",
   "execution_count": 155,
   "metadata": {},
   "outputs": [],
   "source": [
    "ss2 = SinglyLinkedList()"
   ]
  },
  {
   "cell_type": "code",
   "execution_count": 156,
   "metadata": {},
   "outputs": [],
   "source": [
    "# d = [2,4,3]\n",
    "d = [9,9,9,9]\n",
    "# d = [5,6,4]\n",
    "for i in d:\n",
    "    ss2.insert(i)"
   ]
  },
  {
   "cell_type": "code",
   "execution_count": 157,
   "metadata": {},
   "outputs": [],
   "source": [
    "        curr1 = ss1.head\n",
    "        curr2 = ss2.head\n",
    "\n",
    "        c = 1\n",
    "\n",
    "        num1 = 0\n",
    "        num2 = 0\n",
    "\n",
    "\n",
    "        while curr1 or curr2:\n",
    "            if curr1:\n",
    "                val1 = curr1.val\n",
    "                num1 = val1*c + num1\n",
    "                curr1 = curr1.next\n",
    "            if curr2:\n",
    "                val2 = curr2.val\n",
    "                num2 = val2*c+num2\n",
    "                curr2 = curr2.next\n",
    "            c*=10\n",
    "\n",
    "        sum = num1+num2"
   ]
  },
  {
   "cell_type": "code",
   "execution_count": 158,
   "metadata": {},
   "outputs": [
    {
     "data": {
      "text/plain": [
       "10009998"
      ]
     },
     "execution_count": 158,
     "metadata": {},
     "output_type": "execute_result"
    }
   ],
   "source": [
    "sum"
   ]
  }
 ],
 "metadata": {
  "kernelspec": {
   "display_name": "Python 3",
   "language": "python",
   "name": "python3"
  },
  "language_info": {
   "codemirror_mode": {
    "name": "ipython",
    "version": 3
   },
   "file_extension": ".py",
   "mimetype": "text/x-python",
   "name": "python",
   "nbconvert_exporter": "python",
   "pygments_lexer": "ipython3",
   "version": "3.8.3"
  }
 },
 "nbformat": 4,
 "nbformat_minor": 4
}
