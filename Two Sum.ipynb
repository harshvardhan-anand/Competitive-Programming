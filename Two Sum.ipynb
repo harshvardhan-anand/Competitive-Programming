{
 "cells": [
  {
   "cell_type": "markdown",
   "metadata": {},
   "source": [
    "# Efficient 1"
   ]
  },
  {
   "cell_type": "markdown",
   "metadata": {},
   "source": [
    "<code>\n",
    "Sort the array\n",
    "for element in array:\n",
    "    num = target - element\n",
    "    search_for_num_using_binary_search(num)\n",
    "    if found break and output\n",
    "    \n",
    "Time complexity - O(n log n)\n",
    "</code>"
   ]
  },
  {
   "cell_type": "code",
   "execution_count": 47,
   "metadata": {},
   "outputs": [],
   "source": [
    "# nums = [2, 7, 11, 15]\n",
    "# target = 9\n",
    "\n",
    "nums = [3, 2, 4]\n",
    "target = 6"
   ]
  },
  {
   "cell_type": "code",
   "execution_count": 48,
   "metadata": {},
   "outputs": [],
   "source": [
    "import bisect"
   ]
  },
  {
   "cell_type": "code",
   "execution_count": 49,
   "metadata": {},
   "outputs": [
    {
     "name": "stdout",
     "output_type": "stream",
     "text": [
      "1 2 "
     ]
    }
   ],
   "source": [
    "length = len(nums)\n",
    "ori_nums = list(nums)\n",
    "nums = sorted(nums)\n",
    "\n",
    "ans_num = []\n",
    "\n",
    "c = 0\n",
    "while c<length:\n",
    "    a = nums[c]\n",
    "    num = target-a\n",
    "    idx = bisect.bisect(nums, num)\n",
    "    idx = idx-1\n",
    "    if c==idx:\n",
    "        c+=1\n",
    "        continue\n",
    "    elif ((idx !=0) and (idx<length) and (nums[idx]==num)):\n",
    "        ans_num.append(num) \n",
    "        ans_num.append(a)\n",
    "        break\n",
    "    elif idx==-1:\n",
    "        if nums[0]==num:\n",
    "            ans_num.append(num)  \n",
    "            ans_num.append(a)\n",
    "            break\n",
    "    elif idx==length-1:\n",
    "        if nums[-1]==num:\n",
    "            ans_num.append(num)\n",
    "            ans_num.append(a)\n",
    "            break\n",
    "        \n",
    "    c+=1\n",
    "i = 0\n",
    "found = 0\n",
    "while found<2:\n",
    "    if ori_nums[i]==ans_num[0]:\n",
    "        print(i, end=' ')\n",
    "        found+=1\n",
    "    elif ori_nums[i]==ans_num[1]:\n",
    "        print(i, end=' ')\n",
    "        found+=1\n",
    "    i+=1"
   ]
  },
  {
   "cell_type": "code",
   "execution_count": null,
   "metadata": {},
   "outputs": [],
   "source": []
  },
  {
   "cell_type": "markdown",
   "metadata": {},
   "source": [
    "# Efficient 2\n",
    "Time complexity - O(n) Using dynamic programming"
   ]
  },
  {
   "cell_type": "code",
   "execution_count": 1,
   "metadata": {},
   "outputs": [],
   "source": [
    "nums = [2, 7, 11, 15]\n",
    "target = 9\n",
    "\n",
    "nums = [3, 2, 3]\n",
    "target = 6\n",
    "\n",
    "# nums = [1,1,1,1,1,4,1,1,1,1,1,7,1,1,1,1,1]\n",
    "# target = 11"
   ]
  },
  {
   "cell_type": "code",
   "execution_count": 27,
   "metadata": {},
   "outputs": [
    {
     "name": "stdout",
     "output_type": "stream",
     "text": [
      "0 2\n"
     ]
    }
   ],
   "source": [
    "length = len(nums)\n",
    "track = {}\n",
    "\n",
    "c = 0\n",
    "while c<length:\n",
    "    curr_ele = nums[c]\n",
    "    diff = target - curr_ele\n",
    "    \n",
    "    try:\n",
    "        idx = track[curr_ele]\n",
    "        if idx==None:\n",
    "            # Unique number found\n",
    "            track[curr_ele] = c\n",
    "            idx_of_diff = track[diff]\n",
    "            print(c, idx_of_diff)\n",
    "            break\n",
    "        # Number is repeating\n",
    "        elif diff == curr_ele:\n",
    "            idx_of_diff = track[diff]\n",
    "            print(idx_of_diff, c)\n",
    "            break\n",
    "        \n",
    "    except:\n",
    "        track[curr_ele] = c\n",
    "        if not(curr_ele==diff):\n",
    "            track[diff] = None\n",
    "    c+=1"
   ]
  },
  {
   "cell_type": "markdown",
   "metadata": {},
   "source": [
    "# Inefficient 1\n",
    "\n",
    "O(n^2)"
   ]
  },
  {
   "cell_type": "code",
   "execution_count": 4,
   "metadata": {},
   "outputs": [
    {
     "name": "stdout",
     "output_type": "stream",
     "text": [
      "0 1\n"
     ]
    }
   ],
   "source": [
    "c = 0\n",
    "while True:\n",
    "    try:\n",
    "        num1 = nums[c]\n",
    "        d = 0\n",
    "        break_through = False\n",
    "        while True:\n",
    "            try:\n",
    "                if (d==c):\n",
    "                    d+=1\n",
    "                    continue\n",
    "                elif (nums[c]+nums[d])==target:\n",
    "                    print (c, d)\n",
    "                    break_through = True\n",
    "                    break\n",
    "                else:d+=1\n",
    "            except:\n",
    "                break\n",
    "        if break_through:\n",
    "            break\n",
    "        c+=1\n",
    "    except:\n",
    "        break  "
   ]
  },
  {
   "cell_type": "code",
   "execution_count": 8,
   "metadata": {},
   "outputs": [],
   "source": [
    "s = 'abcbbb'"
   ]
  },
  {
   "cell_type": "code",
   "execution_count": 9,
   "metadata": {},
   "outputs": [
    {
     "name": "stdout",
     "output_type": "stream",
     "text": [
      "1\n",
      "1\n",
      "1\n"
     ]
    },
    {
     "data": {
      "text/plain": [
       "3"
      ]
     },
     "execution_count": 9,
     "metadata": {},
     "output_type": "execute_result"
    }
   ],
   "source": [
    "pos = {}\n",
    "start = 0\n",
    "alllens = []\n",
    "for i, c in enumerate(s):\n",
    "    if c in pos and pos[c] >= start:\n",
    "        print(1)\n",
    "        alllens.append(i - start)\n",
    "        start = pos[c] + 1\n",
    "    pos[c] = i\n",
    "alllens.append(len(s) - start)\n",
    "max(alllens)"
   ]
  }
 ],
 "metadata": {
  "kernelspec": {
   "display_name": "Python 3",
   "language": "python",
   "name": "python3"
  },
  "language_info": {
   "codemirror_mode": {
    "name": "ipython",
    "version": 3
   },
   "file_extension": ".py",
   "mimetype": "text/x-python",
   "name": "python",
   "nbconvert_exporter": "python",
   "pygments_lexer": "ipython3",
   "version": "3.8.3"
  }
 },
 "nbformat": 4,
 "nbformat_minor": 4
}
