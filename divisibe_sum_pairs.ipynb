{
 "cells": [
  {
   "cell_type": "code",
   "execution_count": 67,
   "metadata": {},
   "outputs": [
    {
     "name": "stdout",
     "output_type": "stream",
     "text": [
      "5\n"
     ]
    }
   ],
   "source": [
    "#n, k=input().split()\n",
    "#a=input().split()\n",
    "n, k=[6, 3]\n",
    "a=[1, 3, 2, 6, 1, 2]\n",
    "count=0\n",
    "n=int(n)\n",
    "for i in range(n-1):\n",
    "    j=i+1\n",
    "    while(j<n):\n",
    "        sum=int(a[i])+int(a[j])\n",
    "        if((sum%int(k))==0):\n",
    "            count+=1\n",
    "        sum=0\n",
    "        j+=1\n",
    "    j=0\n",
    "print(count)"
   ]
  },
  {
   "cell_type": "code",
   "execution_count": null,
   "metadata": {},
   "outputs": [],
   "source": [
    "#print(f\"a[{i}]: {a[i]}      a[{j}]: {a[j]}      sum: {sum}    sum%k: {sum%k}\")"
   ]
  }
 ],
 "metadata": {
  "kernelspec": {
   "display_name": "Python 3",
   "language": "python",
   "name": "python3"
  },
  "language_info": {
   "codemirror_mode": {
    "name": "ipython",
    "version": 3
   },
   "file_extension": ".py",
   "mimetype": "text/x-python",
   "name": "python",
   "nbconvert_exporter": "python",
   "pygments_lexer": "ipython3",
   "version": "3.7.1"
  }
 },
 "nbformat": 4,
 "nbformat_minor": 2
}
