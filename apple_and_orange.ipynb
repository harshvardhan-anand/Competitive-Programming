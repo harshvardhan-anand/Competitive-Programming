{
 "cells": [
  {
   "cell_type": "code",
   "execution_count": null,
   "metadata": {},
   "outputs": [],
   "source": [
    "house_start, house_end=input().split()\n",
    "apple_tree_loc, orange_tree_loc=input().split()\n",
    "x=input()\n",
    "apple_dist=input().split()\n",
    "orange_dist=input().split()\n",
    "orange_count=0\n",
    "apple_count=0\n",
    "for i in range(len(apple_dist)):\n",
    "    apple_dist[i]=int(apple_dist[i])\n",
    "    if (apple_dist[i]+int(apple_tree_loc))>=int(house_start) and (apple_dist[i]+int(apple_tree_loc))<=int(house_end):\n",
    "        apple_count+=1\n",
    "for i in range(len(orange_dist)):\n",
    "    orange_dist[i]=int(orange_dist[i])\n",
    "    if (orange_dist[i]+int(orange_tree_loc))>=int(house_start) and (orange_dist[i]+int(orange_tree_loc))<=int(house_end):\n",
    "        orange_count+=1\n",
    "print(apple_count,'\\n',orange_count)"
   ]
  }
 ],
 "metadata": {
  "kernelspec": {
   "display_name": "Python 3",
   "language": "python",
   "name": "python3"
  },
  "language_info": {
   "codemirror_mode": {
    "name": "ipython",
    "version": 3
   },
   "file_extension": ".py",
   "mimetype": "text/x-python",
   "name": "python",
   "nbconvert_exporter": "python",
   "pygments_lexer": "ipython3",
   "version": "3.5.4"
  }
 },
 "nbformat": 4,
 "nbformat_minor": 2
}
