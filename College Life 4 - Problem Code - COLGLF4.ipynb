{
 "cells": [
  {
   "cell_type": "markdown",
   "metadata": {},
   "source": [
    "#### https://www.codechef.com/MARCH21C/problems/COLGLF4"
   ]
  },
  {
   "cell_type": "markdown",
   "metadata": {},
   "source": [
    "N , E, H, A, B, C."
   ]
  },
  {
   "attachments": {
    "image.png": {
     "image/png": "[encoded data removed]"
    }
   },
   "cell_type": "markdown",
   "metadata": {},
   "source": [
    "![image.png](attachment:image.png)"
   ]
  },
  {
   "attachments": {
    "image.png": {
     "image/png": "[encoded data removed]"
    }
   },
   "cell_type": "markdown",
   "metadata": {},
   "source": [
    "![image.png](attachment:image.png)"
   ]
  },
  {
   "cell_type": "markdown",
   "metadata": {},
   "source": [
    "5 4 4 2 2 2\n",
    "\n",
    "4 5 5 1 2 3\n",
    "\n",
    "4 5 5 3 2 1"
   ]
  },
  {
   "cell_type": "code",
   "execution_count": 19,
   "metadata": {
    "scrolled": true
   },
   "outputs": [
    {
     "name": "stdout",
     "output_type": "stream",
     "text": [
      "10 10 10 2 4 5\n"
     ]
    }
   ],
   "source": [
    "n, e, h, a, b, c = [int(i) for i in input().split()]"
   ]
  },
  {
   "cell_type": "code",
   "execution_count": 20,
   "metadata": {},
   "outputs": [
    {
     "data": {
      "text/plain": [
       "['om', 'msk', 'ck']"
      ]
     },
     "execution_count": 20,
     "metadata": {},
     "output_type": "execute_result"
    }
   ],
   "source": [
    "item_price = {\n",
    "    'om':a,\n",
    "    'msk':b,\n",
    "    'ck':c\n",
    "}\n",
    "\n",
    "s_d = list(dict(sorted(item_price.items(), key=lambda x:x[1])).keys())  # min ---> max\n",
    "s_d"
   ]
  },
  {
   "cell_type": "code",
   "execution_count": 21,
   "metadata": {},
   "outputs": [],
   "source": [
    "possible_items = {}"
   ]
  },
  {
   "cell_type": "code",
   "execution_count": 22,
   "metadata": {},
   "outputs": [],
   "source": [
    "def prep_om():\n",
    "    global e, possible_items\n",
    "    possible_om = int(e/2)\n",
    "    e = e%2\n",
    "    possible_items['om'] = (possible_om)\n",
    "    print(f'omelette:egg = {e}, possible = {possible_om}')\n",
    "\n",
    "def prep_choko_msk():\n",
    "    global h, possible_items\n",
    "    possible_msk = int(h/3)\n",
    "    h = h%3\n",
    "    possible_items['msk'] = (possible_msk)\n",
    "    print(f'milkshake:choko = {h}, possible = {possible_msk}')\n",
    "    \n",
    "\n",
    "def prep_cake():\n",
    "    global e, h, possible_items\n",
    "    possible_cake = int(min(e, h))\n",
    "    e = e-possible_cake\n",
    "    h = h-possible_cake\n",
    "    possible_items['ck'] = (possible_cake)\n",
    "    print(f'cake:egg = {e}, choko={h}, possible = {possible_cake}')"
   ]
  },
  {
   "cell_type": "code",
   "execution_count": 23,
   "metadata": {},
   "outputs": [],
   "source": [
    "prep_items = {\n",
    "    'om':prep_om,\n",
    "    'msk':prep_choko_msk,\n",
    "    'ck':prep_cake\n",
    "}"
   ]
  },
  {
   "cell_type": "code",
   "execution_count": 24,
   "metadata": {},
   "outputs": [
    {
     "name": "stdout",
     "output_type": "stream",
     "text": [
      "omelette:egg = 0, possible = 5\n",
      "milkshake:choko = 1, possible = 3\n",
      "cake:egg = 0, choko=1, possible = 0\n"
     ]
    }
   ],
   "source": [
    "for item in s_d:\n",
    "    prep_items[item]()\n",
    "    remaining = n-sum(possible_items.values())\n",
    "    if sum(possible_items.values())>=n:\n",
    "        possible_items[item]+=remaining\n",
    "        break    "
   ]
  },
  {
   "cell_type": "code",
   "execution_count": 25,
   "metadata": {},
   "outputs": [
    {
     "data": {
      "text/plain": [
       "8"
      ]
     },
     "execution_count": 25,
     "metadata": {},
     "output_type": "execute_result"
    }
   ],
   "source": [
    "sum(possible_items.values())"
   ]
  },
  {
   "cell_type": "code",
   "execution_count": 18,
   "metadata": {},
   "outputs": [
    {
     "name": "stdout",
     "output_type": "stream",
     "text": [
      "-1\n"
     ]
    }
   ],
   "source": [
    "total = 0\n",
    "if sum(possible_items.values())<n:\n",
    "    total = -1\n",
    "else:\n",
    "    for item in s_d:\n",
    "        try:\n",
    "            total = total+(item_price[item]*possible_items[item])\n",
    "        except:\n",
    "            pass    \n",
    "    \n",
    "print(total)"
   ]
  },
  {
   "cell_type": "markdown",
   "metadata": {},
   "source": [
    "<br>"
   ]
  },
  {
   "cell_type": "markdown",
   "metadata": {},
   "source": [
    "<br>"
   ]
  },
  {
   "cell_type": "markdown",
   "metadata": {},
   "source": [
    "<br>"
   ]
  },
  {
   "cell_type": "code",
   "execution_count": 1,
   "metadata": {
    "scrolled": true
   },
   "outputs": [
    {
     "name": "stdout",
     "output_type": "stream",
     "text": [
      "3\n",
      "10 10 10 2 4 5\n",
      "-1\n",
      "50 60 80 9 5 3\n",
      "150\n",
      "900 1500 700 10 13 11\n",
      "9150\n"
     ]
    }
   ],
   "source": [
    "test_case = int(input())\n",
    "\n",
    "for _ in range(test_case):\n",
    "    n, e, h, a, b, c = [int(i) for i in input().split()]\n",
    "\n",
    "    item_price = {\n",
    "        'om':a,\n",
    "        'msk':b,\n",
    "        'ck':c\n",
    "    }\n",
    "\n",
    "    s_d = list(dict(sorted(item_price.items(), key=lambda x:x[1])).keys())  # min ---> max\n",
    "\n",
    "    possible_items = {}\n",
    "\n",
    "    def prep_om():\n",
    "        global e, possible_items\n",
    "        possible_om = int(e/2)\n",
    "        e = e%2\n",
    "        possible_items['om'] = (possible_om)\n",
    "\n",
    "    def prep_choko_msk():\n",
    "        global h, possible_items\n",
    "        possible_msk = int(h/3)\n",
    "        h = h%2\n",
    "        possible_items['msk'] = (possible_msk)\n",
    "\n",
    "\n",
    "    def prep_cake():\n",
    "        global e, h, possible_items\n",
    "        possible_cake = int(max(e, h))\n",
    "        e = e-possible_cake\n",
    "        h = h-possible_cake\n",
    "        possible_items['ck'] = (possible_cake)\n",
    "\n",
    "    prep_items = {\n",
    "        'om':prep_om,\n",
    "        'msk':prep_choko_msk,\n",
    "        'ck':prep_cake\n",
    "    }\n",
    "\n",
    "    for item in s_d:\n",
    "        prep_items[item]()\n",
    "        remaining = n-sum(possible_items.values())\n",
    "        if sum(possible_items.values())>=n:\n",
    "            possible_items[item]+=remaining\n",
    "            break    \n",
    "\n",
    "    total = 0\n",
    "    if sum(possible_items.values())<n:\n",
    "        total = -1\n",
    "    else:\n",
    "        for item in s_d:\n",
    "            try:\n",
    "                total = total+(item_price[item]*possible_items[item])\n",
    "            except:\n",
    "                pass    \n",
    "\n",
    "    print(total)"
   ]
  },
  {
   "cell_type": "code",
   "execution_count": null,
   "metadata": {},
   "outputs": [],
   "source": []
  }
 ],
 "metadata": {
  "kernelspec": {
   "display_name": "Python 3",
   "language": "python",
   "name": "python3"
  },
  "language_info": {
   "codemirror_mode": {
    "name": "ipython",
    "version": 3
   },
   "file_extension": ".py",
   "mimetype": "text/x-python",
   "name": "python",
   "nbconvert_exporter": "python",
   "pygments_lexer": "ipython3",
   "version": "3.8.3"
  }
 },
 "nbformat": 4,
 "nbformat_minor": 4
}
