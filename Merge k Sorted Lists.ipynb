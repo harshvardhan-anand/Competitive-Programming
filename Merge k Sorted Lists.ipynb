{
 "cells": [
  {
   "cell_type": "code",
   "execution_count": 14,
   "metadata": {},
   "outputs": [],
   "source": [
    "from heapq import heapify, heappush as push, heappop as pop"
   ]
  },
  {
   "cell_type": "code",
   "execution_count": 18,
   "metadata": {},
   "outputs": [
    {
     "name": "stdout",
     "output_type": "stream",
     "text": [
      "[(1, 0), (10, 1)]\n"
     ]
    },
    {
     "data": {
      "text/plain": [
       "[1, 2, 3, 10, 20, 30, 40]"
      ]
     },
     "execution_count": 18,
     "metadata": {},
     "output_type": "execute_result"
    }
   ],
   "source": [
    "n1 = [1,2,3]\n",
    "n2 = [10,20,30,40]\n",
    "\n",
    "k = [n1, n2]\n",
    "\n",
    "heap = []\n",
    "heapify(heap)\n",
    "ans = []\n",
    "for i in range(len(k)):\n",
    "    push(heap, (k[i].pop(0), i))\n",
    "\n",
    "print(heap)\n",
    "\n",
    "while heap:\n",
    "    val, array = pop(heap)\n",
    "    ans.append(val)\n",
    "    try:\n",
    "        push(heap, (k[array].pop(0), array))\n",
    "    except:\n",
    "        pass\n",
    "    \n",
    "ans   "
   ]
  },
  {
   "cell_type": "code",
   "execution_count": null,
   "metadata": {},
   "outputs": [],
   "source": []
  }
 ],
 "metadata": {
  "kernelspec": {
   "display_name": "Python 3",
   "language": "python",
   "name": "python3"
  },
  "language_info": {
   "codemirror_mode": {
    "name": "ipython",
    "version": 3
   },
   "file_extension": ".py",
   "mimetype": "text/x-python",
   "name": "python",
   "nbconvert_exporter": "python",
   "pygments_lexer": "ipython3",
   "version": "3.8.3"
  }
 },
 "nbformat": 4,
 "nbformat_minor": 4
}
