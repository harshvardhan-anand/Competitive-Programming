{
 "cells": [
  {
   "cell_type": "markdown",
   "metadata": {},
   "source": [
    "# Warning:\n",
    "you might get error when you call str(). This is because if u have defined str as variable. so just do {del str}"
   ]
  },
  {
   "cell_type": "code",
   "execution_count": 61,
   "metadata": {},
   "outputs": [],
   "source": [
    "import time\n",
    "start=time.time()"
   ]
  },
  {
   "cell_type": "code",
   "execution_count": 62,
   "metadata": {},
   "outputs": [],
   "source": [
    "t='07:05:45PM'"
   ]
  },
  {
   "cell_type": "code",
   "execution_count": 63,
   "metadata": {},
   "outputs": [],
   "source": [
    "am=0"
   ]
  },
  {
   "cell_type": "code",
   "execution_count": 64,
   "metadata": {},
   "outputs": [],
   "source": [
    "if t[8:]=='am' or t[8:]=='AM':\n",
    "    am=1    "
   ]
  },
  {
   "cell_type": "code",
   "execution_count": 65,
   "metadata": {},
   "outputs": [],
   "source": [
    "if am==1:\n",
    "    if int(t[0:2])==12:\n",
    "        #print(f'00{t[2:8]}')\n",
    "        returned_val='00'+t[2:8]\n",
    "    else:\n",
    "        #print(t[0:8])\n",
    "        returned_val=t[0:8]\n",
    "else:\n",
    "    if t[0:2]=='12':\n",
    "        #print(t[0:8])\n",
    "        returned_val=t[0:8]\n",
    "    else:\n",
    "        twelve_hr=int(t[0:2])\n",
    "        hrs=12+twelve_hr\n",
    "        #print(f'{hrs}{t[2:8]}')\n",
    "        returned_val=str(hrs)+t[2:8]"
   ]
  },
  {
   "cell_type": "code",
   "execution_count": 66,
   "metadata": {},
   "outputs": [
    {
     "name": "stdout",
     "output_type": "stream",
     "text": [
      "19:05:45\n"
     ]
    }
   ],
   "source": [
    "print(returned_val)"
   ]
  },
  {
   "cell_type": "code",
   "execution_count": 67,
   "metadata": {},
   "outputs": [
    {
     "name": "stdout",
     "output_type": "stream",
     "text": [
      "My execution speed: 0.13599228858947754\n"
     ]
    }
   ],
   "source": [
    "end=time.time()\n",
    "print(f\"My execution speed: {end-start}\")"
   ]
  },
  {
   "cell_type": "code",
   "execution_count": 68,
   "metadata": {},
   "outputs": [
    {
     "name": "stdout",
     "output_type": "stream",
     "text": [
      "19:05:45\n",
      "Editorial solution execution time: 0.005000591278076172\n"
     ]
    }
   ],
   "source": [
    "start=time.time()\n",
    "s = '07:05:45PM'\n",
    "zn = s[-2:]\n",
    "if zn == \"PM\" and s[:2] != \"12\":\n",
    "    s = str(12 + int(s[:2])) + s[2:]\n",
    "if zn == \"AM\" and s[:2] == \"12\":\n",
    "    s = \"00\" + s[2:]\n",
    "print (s[:-2])\n",
    "end=time.time()\n",
    "print(f\"Editorial solution execution time: {end-start}\")"
   ]
  },
  {
   "cell_type": "code",
   "execution_count": 69,
   "metadata": {},
   "outputs": [
    {
     "ename": "KeyError",
     "evalue": "'OUTPUT_PATH'",
     "output_type": "error",
     "traceback": [
      "\u001b[1;31m---------------------------------------------------------------------------\u001b[0m",
      "\u001b[1;31mKeyError\u001b[0m                                  Traceback (most recent call last)",
      "\u001b[1;32m<ipython-input-69-4aa7bf0d98f3>\u001b[0m in \u001b[0;36m<module>\u001b[1;34m\u001b[0m\n\u001b[0;32m     32\u001b[0m \u001b[1;33m\u001b[0m\u001b[0m\n\u001b[0;32m     33\u001b[0m \u001b[1;32mif\u001b[0m \u001b[0m__name__\u001b[0m \u001b[1;33m==\u001b[0m \u001b[1;34m'__main__'\u001b[0m\u001b[1;33m:\u001b[0m\u001b[1;33m\u001b[0m\u001b[1;33m\u001b[0m\u001b[0m\n\u001b[1;32m---> 34\u001b[1;33m     \u001b[0mf\u001b[0m \u001b[1;33m=\u001b[0m \u001b[0mopen\u001b[0m\u001b[1;33m(\u001b[0m\u001b[0mos\u001b[0m\u001b[1;33m.\u001b[0m\u001b[0menviron\u001b[0m\u001b[1;33m[\u001b[0m\u001b[1;34m'OUTPUT_PATH'\u001b[0m\u001b[1;33m]\u001b[0m\u001b[1;33m,\u001b[0m \u001b[1;34m'w'\u001b[0m\u001b[1;33m)\u001b[0m\u001b[1;33m\u001b[0m\u001b[1;33m\u001b[0m\u001b[0m\n\u001b[0m\u001b[0;32m     35\u001b[0m \u001b[1;33m\u001b[0m\u001b[0m\n\u001b[0;32m     36\u001b[0m     \u001b[0ms\u001b[0m \u001b[1;33m=\u001b[0m \u001b[0minput\u001b[0m\u001b[1;33m(\u001b[0m\u001b[1;33m)\u001b[0m\u001b[1;33m\u001b[0m\u001b[1;33m\u001b[0m\u001b[0m\n",
      "\u001b[1;32m~\\Anaconda3\\lib\\os.py\u001b[0m in \u001b[0;36m__getitem__\u001b[1;34m(self, key)\u001b[0m\n\u001b[0;32m    676\u001b[0m         \u001b[1;32mexcept\u001b[0m \u001b[0mKeyError\u001b[0m\u001b[1;33m:\u001b[0m\u001b[1;33m\u001b[0m\u001b[1;33m\u001b[0m\u001b[0m\n\u001b[0;32m    677\u001b[0m             \u001b[1;31m# raise KeyError with the original key value\u001b[0m\u001b[1;33m\u001b[0m\u001b[1;33m\u001b[0m\u001b[1;33m\u001b[0m\u001b[0m\n\u001b[1;32m--> 678\u001b[1;33m             \u001b[1;32mraise\u001b[0m \u001b[0mKeyError\u001b[0m\u001b[1;33m(\u001b[0m\u001b[0mkey\u001b[0m\u001b[1;33m)\u001b[0m \u001b[1;32mfrom\u001b[0m \u001b[1;32mNone\u001b[0m\u001b[1;33m\u001b[0m\u001b[1;33m\u001b[0m\u001b[0m\n\u001b[0m\u001b[0;32m    679\u001b[0m         \u001b[1;32mreturn\u001b[0m \u001b[0mself\u001b[0m\u001b[1;33m.\u001b[0m\u001b[0mdecodevalue\u001b[0m\u001b[1;33m(\u001b[0m\u001b[0mvalue\u001b[0m\u001b[1;33m)\u001b[0m\u001b[1;33m\u001b[0m\u001b[1;33m\u001b[0m\u001b[0m\n\u001b[0;32m    680\u001b[0m \u001b[1;33m\u001b[0m\u001b[0m\n",
      "\u001b[1;31mKeyError\u001b[0m: 'OUTPUT_PATH'"
     ]
    }
   ],
   "source": [
    "#!/bin/python3\n",
    "\n",
    "import os\n",
    "import sys\n",
    "\n",
    "#\n",
    "# Complete the timeConversion function below.\n",
    "#\n",
    "def timeConversion(s):\n",
    "    # Write your code here.\n",
    "    time=s\n",
    "    am=0\n",
    "    if time[8:]=='am' or time[8:]=='AM':\n",
    "        am=1  \n",
    "    if am==1:\n",
    "        if int(time[0:2])==12:\n",
    "            #print(f'00{time[2:8]}')\n",
    "            returned_val='00'+time[2:8]\n",
    "        else:\n",
    "            #print(time[0:8])\n",
    "            returned_val=time[0:8]\n",
    "    else:\n",
    "        if time[0:2]=='12':\n",
    "            #print(time[0:8])\n",
    "            returned_val=time[0:8]\n",
    "        else:\n",
    "            twelve_hr=int(time[0:2])\n",
    "            hrs=12+twelve_hr\n",
    "            #print(f'{hrs}{time[2:8]}')\n",
    "            returned_val=str(hrs)+time[2:8]\n",
    "    return returned_val\n",
    "\n",
    "if __name__ == '__main__':\n",
    "    f = open(os.environ['OUTPUT_PATH'], 'w')\n",
    "\n",
    "    s = input()\n",
    "\n",
    "    result = timeConversion(s)\n",
    "\n",
    "    f.write(result + '\\n')\n",
    "\n",
    "    f.close()\n"
   ]
  },
  {
   "cell_type": "code",
   "execution_count": 70,
   "metadata": {},
   "outputs": [
    {
     "ename": "IndentationError",
     "evalue": "unexpected indent (<ipython-input-70-f95dd7eb6f11>, line 4)",
     "output_type": "error",
     "traceback": [
      "\u001b[1;36m  File \u001b[1;32m\"<ipython-input-70-f95dd7eb6f11>\"\u001b[1;36m, line \u001b[1;32m4\u001b[0m\n\u001b[1;33m    time=s\u001b[0m\n\u001b[1;37m    ^\u001b[0m\n\u001b[1;31mIndentationError\u001b[0m\u001b[1;31m:\u001b[0m unexpected indent\n"
     ]
    }
   ],
   "source": [
    "\n",
    "\n",
    "# Write your code here.\n",
    "    time=s\n",
    "    am=0\n",
    "    if time[8:]=='am' or time[8:]=='AM':\n",
    "        am=1  \n",
    "    if am==1:\n",
    "        if int(time[0:2])==12:\n",
    "            #print(f'00{time[2:8]}')\n",
    "            returned_val='00'+time[2:8]\n",
    "        else:\n",
    "            #print(time[0:8])\n",
    "            returned_val=time[0:8]\n",
    "    else:\n",
    "        if time[0:2]=='12':\n",
    "            #print(time[0:8])\n",
    "            returned_val=time[0:8]\n",
    "        else:\n",
    "            twelve_hr=int(time[0:2])\n",
    "            hrs=12+twelve_hr\n",
    "            #print(f'{hrs}{time[2:8]}')\n",
    "            returned_val=str(hrs)+time[2:8]\n",
    "    print(returned_val)\n",
    "\n",
    "\n",
    "\n",
    "    s = input()\n",
    "\n"
   ]
  },
  {
   "cell_type": "code",
   "execution_count": null,
   "metadata": {},
   "outputs": [],
   "source": []
  }
 ],
 "metadata": {
  "kernelspec": {
   "display_name": "Python 3",
   "language": "python",
   "name": "python3"
  },
  "language_info": {
   "codemirror_mode": {
    "name": "ipython",
    "version": 3
   },
   "file_extension": ".py",
   "mimetype": "text/x-python",
   "name": "python",
   "nbconvert_exporter": "python",
   "pygments_lexer": "ipython3",
   "version": "3.7.1"
  }
 },
 "nbformat": 4,
 "nbformat_minor": 2
}
