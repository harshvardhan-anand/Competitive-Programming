{
 "cells": [
  {
   "cell_type": "code",
   "execution_count": 41,
   "metadata": {},
   "outputs": [
    {
     "name": "stdout",
     "output_type": "stream",
     "text": [
      "5\n",
      "3\n"
     ]
    }
   ],
   "source": [
    "from tcase.tcase import input, create_input\n",
    "create_input()\n",
    "\n",
    "import bisect as b\n",
    "\n",
    "table = {}\n",
    "\n",
    "def get_right(idx, x, toys, k, p):\n",
    "    global table\n",
    "    step = 0\n",
    "    total_toys = 0\n",
    "    rgt = x[idx:]\n",
    "    for i in rgt:\n",
    "        step += i\n",
    "        if step>=k:break\n",
    "        total_toys += toys[idx]\n",
    "        table[i] = total_toys\n",
    "        idx+=1\n",
    "    return total_toys, rgt\n",
    "\n",
    "print\n",
    "def get_left(idx, x, toys, k, p):\n",
    "    global table\n",
    "    idx-=1\n",
    "    step = 0\n",
    "    total_toys = 0\n",
    "    revx = x[:idx+1]\n",
    "    revx = revx[::-1][:-1]\n",
    "    for i in revx[:idx+1]:\n",
    "        step += abs(i)\n",
    "        if step>=k:break\n",
    "        total_toys += toys[idx]\n",
    "        table[i] = total_toys\n",
    "        idx-=1\n",
    "    return total_toys, revx\n",
    "\n",
    "def get_both(idx, x, toys, k, right, left):\n",
    "    step = 0\n",
    "    maxt = 0\n",
    "    for l in left:\n",
    "        r = max(k,l)-abs(min(k,l))\n",
    "        r = x[r]\n",
    "        print(r)\n",
    "        try:\n",
    "            if abs(r)>k:\n",
    "                break\n",
    "        except:break\n",
    "        if maxt<table[r]+table[l]:\n",
    "            maxt = table[r]+table[l]\n",
    "            print(table[r]+table[l])\n",
    "    return maxt\n",
    "\n",
    "\n",
    "def getMaxToys (N, P, k, x, toys):\n",
    "    idx = b.bisect(x, P)\n",
    "\n",
    "    t_toys_right, right = get_right(idx, x, toys, k, P)\n",
    "    t_toys_left, left = get_left(idx, x, toys, k, P)\n",
    "    maxt = get_both(idx, x, toys, k, right, left)\n",
    "    return max(t_toys_left, t_toys_right, maxt)\n",
    "\n",
    "T = int(input())\n",
    "for _ in range(T):\n",
    "    N ,P, k = map(int, input().split())\n",
    "    x = list(map(int, input().split()))\n",
    "    toys = list(map(int, input().split()))\n",
    "\n",
    "    out_ = getMaxToys(N, P, k, x, toys)\n",
    "    print (out_)"
   ]
  },
  {
   "cell_type": "code",
   "execution_count": 13,
   "metadata": {},
   "outputs": [
    {
     "data": {
      "text/plain": [
       "{2: 3, -1: 2}"
      ]
     },
     "execution_count": 13,
     "metadata": {},
     "output_type": "execute_result"
    }
   ],
   "source": [
    "table"
   ]
  },
  {
   "cell_type": "code",
   "execution_count": null,
   "metadata": {},
   "outputs": [],
   "source": []
  }
 ],
 "metadata": {
  "kernelspec": {
   "display_name": "Python 3",
   "language": "python",
   "name": "python3"
  },
  "language_info": {
   "codemirror_mode": {
    "name": "ipython",
    "version": 3
   },
   "file_extension": ".py",
   "mimetype": "text/x-python",
   "name": "python",
   "nbconvert_exporter": "python",
   "pygments_lexer": "ipython3",
   "version": "3.8.3"
  }
 },
 "nbformat": 4,
 "nbformat_minor": 4
}
