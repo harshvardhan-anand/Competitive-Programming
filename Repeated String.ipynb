{
 "cells": [
  {
   "cell_type": "code",
   "execution_count": 54,
   "metadata": {},
   "outputs": [
    {
     "data": {
      "text/plain": [
       "50"
      ]
     },
     "execution_count": 54,
     "metadata": {},
     "output_type": "execute_result"
    }
   ],
   "source": [
    "# Algorithm\n",
    "\n",
    "given_string = 'abca' #4\n",
    "n = 100 #100\n",
    "n_by_givstring = int(n/len(given_string)) #25 - Possible number of original string in new string () if completely divisible\n",
    "extra_string_required = n%len(given_string) \n",
    "extra_string = given_string[:extra_string_required]\n",
    "char_count_in_orig_str = given_string.count('a')\n",
    "extra_count = extra_string.count('a')\n",
    "output = n_by_givstring*char_count_in_orig_str # 25*2 - In one original substring we have 2 'a' so in 25 such substring we will have 2*25 'a'\n",
    "output+=extra_count\n",
    "output"
   ]
  },
  {
   "cell_type": "code",
   "execution_count": 44,
   "metadata": {},
   "outputs": [
    {
     "name": "stdout",
     "output_type": "stream",
     "text": [
      "a\n",
      "1000000000000\n",
      "1000000000000\n",
      "time 3.463027238845825\n"
     ]
    }
   ],
   "source": [
    "# To check how much time is taken\n",
    "def x():\n",
    "    s = time.time()\n",
    "    given_string = input()\n",
    "    n = int(input())\n",
    "    n_by_givstring = math.ceil(n/len(given_string)) \n",
    "    char_count_in_orig_str = given_string.count('a')\n",
    "    output = n_by_givstring*char_count_in_orig_str \n",
    "    print(output)\n",
    "    e = time.time()\n",
    "    print('time',e-s)\n",
    "\n",
    "x()"
   ]
  },
  {
   "cell_type": "code",
   "execution_count": 56,
   "metadata": {},
   "outputs": [
    {
     "name": "stdout",
     "output_type": "stream",
     "text": [
      "a\n",
      "1000000000000\n"
     ]
    },
    {
     "data": {
      "text/plain": [
       "1000000000000"
      ]
     },
     "execution_count": 56,
     "metadata": {},
     "output_type": "execute_result"
    }
   ],
   "source": [
    "# for submission\n",
    "\n",
    "given_string = input()\n",
    "n = int(input())\n",
    "n_by_givstring = int(n/len(given_string)) \n",
    "extra_string_required = n%len(given_string) \n",
    "extra_string = given_string[:extra_string_required]\n",
    "char_count_in_orig_str = given_string.count('a')\n",
    "extra_count = extra_string.count('a')\n",
    "output = n_by_givstring*char_count_in_orig_str \n",
    "output+=extra_count\n",
    "output"
   ]
  }
 ],
 "metadata": {
  "kernelspec": {
   "display_name": "Python 3",
   "language": "python",
   "name": "python3"
  },
  "language_info": {
   "codemirror_mode": {
    "name": "ipython",
    "version": 3
   },
   "file_extension": ".py",
   "mimetype": "text/x-python",
   "name": "python",
   "nbconvert_exporter": "python",
   "pygments_lexer": "ipython3",
   "version": "3.8.3"
  }
 },
 "nbformat": 4,
 "nbformat_minor": 4
}
