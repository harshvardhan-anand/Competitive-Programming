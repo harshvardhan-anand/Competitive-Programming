{
 "cells": [
  {
   "cell_type": "code",
   "execution_count": 81,
   "metadata": {},
   "outputs": [],
   "source": [
    "i=0\n",
    "j=1\n",
    "arr=[1,5,3,4,4]"
   ]
  },
  {
   "cell_type": "code",
   "execution_count": 84,
   "metadata": {},
   "outputs": [
    {
     "name": "stdout",
     "output_type": "stream",
     "text": [
      "[1, 3, 4, 4, 5]\n"
     ]
    }
   ],
   "source": [
    "while(i <len(arr)):# or while(i != len(arr))\n",
    "        while(j<(len(arr)-i)):\n",
    "            if(arr[j]<arr[j-1]):\n",
    "                #print(f'Inside if I: {i}, j: {j}')\n",
    "                k=arr[j-1]\n",
    "                arr[j-1]=arr[j]\n",
    "                arr[j]=k\n",
    "            j+=1\n",
    "            #print(arr)\n",
    "        i+=1\n",
    "        j=1\n",
    "print(arr)"
   ]
  },
  {
   "cell_type": "markdown",
   "metadata": {},
   "source": [
    "# Mini Max"
   ]
  },
  {
   "cell_type": "code",
   "execution_count": 12,
   "metadata": {},
   "outputs": [],
   "source": [
    "s=0\n",
    "sr=0"
   ]
  },
  {
   "cell_type": "code",
   "execution_count": 19,
   "metadata": {},
   "outputs": [
    {
     "name": "stdout",
     "output_type": "stream",
     "text": [
      "10 14\n"
     ]
    }
   ],
   "source": [
    "def miniMaxSum(arr):\n",
    "    i=0\n",
    "    j=1\n",
    "    s=0\n",
    "    sr=0\n",
    "    c=1\n",
    "    k=0\n",
    "    while(i!=len(arr)-1):\n",
    "        while(j<len(arr)-i):\n",
    "            if(arr[j]<arr[j-1]):\n",
    "                k=arr[j-1]\n",
    "                arr[j-1]=arr[j]\n",
    "                arr[j]=k\n",
    "            j+=1\n",
    "        i+=1\n",
    "        j=1\n",
    "    i=0\n",
    "    n=len(arr)\n",
    "    n=n-2#taking it to last second element\n",
    "    while (i<=n):\n",
    "        if(c==1):\n",
    "            s+=arr[i]\n",
    "            if(i==n):\n",
    "                c=0\n",
    "                i=1\n",
    "                n=len(arr)-1\n",
    "                continue\n",
    "        else:\n",
    "            #print('--------------',sr,'-----------------')\n",
    "            sr+=arr[i]\n",
    "            #print(i, sr, arr[i])\n",
    "        i+=1\n",
    "    print(s, sr)\n",
    "arr=[1,2,3,4,5]\n",
    "miniMaxSum(arr)"
   ]
  },
  {
   "cell_type": "code",
   "execution_count": null,
   "metadata": {},
   "outputs": [],
   "source": []
  }
 ],
 "metadata": {
  "kernelspec": {
   "display_name": "Python 3",
   "language": "python",
   "name": "python3"
  },
  "language_info": {
   "codemirror_mode": {
    "name": "ipython",
    "version": 3
   },
   "file_extension": ".py",
   "mimetype": "text/x-python",
   "name": "python",
   "nbconvert_exporter": "python",
   "pygments_lexer": "ipython3",
   "version": "3.7.1"
  }
 },
 "nbformat": 4,
 "nbformat_minor": 2
}
