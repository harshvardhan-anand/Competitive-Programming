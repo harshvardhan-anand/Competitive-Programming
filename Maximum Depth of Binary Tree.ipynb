{
 "cells": [
  {
   "cell_type": "code",
   "execution_count": 30,
   "metadata": {
    "ExecuteTime": {
     "end_time": "2022-03-14T10:51:48.522994Z",
     "start_time": "2022-03-14T10:51:48.501344Z"
    }
   },
   "outputs": [],
   "source": [
    "class Node:\n",
    "    def __init__(self, val=None, left=None, right=None):\n",
    "        self.val = val\n",
    "        self.right = right\n",
    "        self.left = left\n",
    "        \n",
    "class Tree:\n",
    "    def __init__(self):\n",
    "        self.root = None\n",
    "    def insert(self,val):\n",
    "        node = Node(val)\n",
    "        if not self.root:\n",
    "            self.root = node\n",
    "            return\n",
    "            \n",
    "        ptr = self.root\n",
    "        while True:\n",
    "            if val<ptr.val:\n",
    "                if ptr.left:\n",
    "                    ptr = ptr.left\n",
    "                else:\n",
    "                    ptr.left = node\n",
    "                    break\n",
    "            elif val>ptr.val:\n",
    "                if ptr.right:\n",
    "                    ptr = ptr.right\n",
    "                else:\n",
    "                    ptr.right = node\n",
    "                    break\n",
    "            else:\n",
    "                break\n",
    "                \n",
    "    def BFS(self):\n",
    "        ans = []\n",
    "        q = []\n",
    "        if self.root:\n",
    "            ptr = self.root\n",
    "        else: return 0\n",
    "        q.append({ptr:1})\n",
    "        depth = 0\n",
    "        while q:\n",
    "            item = q.pop(0)\n",
    "            for i in item.items(): ptr, curdep = i\n",
    "            if curdep>depth: depth=curdep\n",
    "            if ptr.left:q.append({ptr.left:curdep+1})\n",
    "            if ptr.right:q.append({ptr.right:curdep+1})\n",
    "                \n",
    "        return depth"
   ]
  },
  {
   "cell_type": "code",
   "execution_count": 31,
   "metadata": {
    "ExecuteTime": {
     "end_time": "2022-03-14T10:51:48.757293Z",
     "start_time": "2022-03-14T10:51:48.738294Z"
    }
   },
   "outputs": [
    {
     "data": {
      "text/plain": [
       "0"
      ]
     },
     "execution_count": 31,
     "metadata": {},
     "output_type": "execute_result"
    }
   ],
   "source": [
    "tree = Tree()\n",
    "\n",
    "a = []\n",
    "\n",
    "for i in a:\n",
    "    tree.insert(i)\n",
    "    \n",
    "\n",
    "tree.BFS()"
   ]
  },
  {
   "cell_type": "code",
   "execution_count": null,
   "metadata": {},
   "outputs": [],
   "source": []
  }
 ],
 "metadata": {
  "kernelspec": {
   "display_name": "Python 3 (ipykernel)",
   "language": "python",
   "name": "python3"
  },
  "language_info": {
   "codemirror_mode": {
    "name": "ipython",
    "version": 3
   },
   "file_extension": ".py",
   "mimetype": "text/x-python",
   "name": "python",
   "nbconvert_exporter": "python",
   "pygments_lexer": "ipython3",
   "version": "3.9.7"
  },
  "varInspector": {
   "cols": {
    "lenName": 16,
    "lenType": 16,
    "lenVar": 40
   },
   "kernels_config": {
    "python": {
     "delete_cmd_postfix": "",
     "delete_cmd_prefix": "del ",
     "library": "var_list.py",
     "varRefreshCmd": "print(var_dic_list())"
    },
    "r": {
     "delete_cmd_postfix": ") ",
     "delete_cmd_prefix": "rm(",
     "library": "var_list.r",
     "varRefreshCmd": "cat(var_dic_list()) "
    }
   },
   "position": {
    "height": "179.825px",
    "left": "1015.36px",
    "right": "20px",
    "top": "120px",
    "width": "416px"
   },
   "types_to_exclude": [
    "module",
    "function",
    "builtin_function_or_method",
    "instance",
    "_Feature"
   ],
   "window_display": true
  }
 },
 "nbformat": 4,
 "nbformat_minor": 4
}
