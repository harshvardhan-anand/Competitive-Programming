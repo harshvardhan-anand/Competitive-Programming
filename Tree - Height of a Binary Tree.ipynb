{
 "cells": [
  {
   "cell_type": "code",
   "execution_count": 57,
   "metadata": {},
   "outputs": [],
   "source": [
    "from collections import deque"
   ]
  },
  {
   "cell_type": "code",
   "execution_count": 58,
   "metadata": {},
   "outputs": [],
   "source": [
    "class Node:\n",
    "    def __init__(self, data):\n",
    "        self.data = data\n",
    "        self.right = None\n",
    "        self.left = None\n",
    "        \n",
    "class BinaryTree:\n",
    "    \n",
    "    def __init__(self):\n",
    "        self.root = None\n",
    "        self.search_step_count = 0\n",
    "    \n",
    "    def insert(self, *args):\n",
    "        for data in args:\n",
    "            if self.root==None:\n",
    "                self.root = Node(data)\n",
    "            else:\n",
    "                self.insert_child(data, self.root)\n",
    "            \n",
    "    def insert_child(self, data, node):\n",
    "        if data<node.data:\n",
    "            # left tree\n",
    "            if node.left == None:\n",
    "                node.left = Node(data)\n",
    "            else:\n",
    "                node = node.left\n",
    "                self.insert_child(data, node)\n",
    "        elif data>node.data:\n",
    "            # right tree\n",
    "            if node.right == None:\n",
    "                node.right = Node(data)\n",
    "            else:\n",
    "                node = node.right\n",
    "                self.insert_child(data, node)"
   ]
  },
  {
   "cell_type": "code",
   "execution_count": 59,
   "metadata": {},
   "outputs": [],
   "source": [
    "def find_height(root):\n",
    "    stack = deque()\n",
    "    temp = deque()\n",
    "    \n",
    "    stack.append(root)\n",
    "\n",
    "    first_entry = 1\n",
    "    \n",
    "    max_len = 0\n",
    "    \n",
    "    while stack:\n",
    "        try:\n",
    "            cnode = stack[-1]\n",
    "            check_cond = (temp[-1].right==cnode or temp[-1].left==cnode)\n",
    "        except Exception as e:\n",
    "            check_cond = 1\n",
    "            \n",
    "        if check_cond:\n",
    "            cnode = stack.pop()\n",
    "            temp.append(cnode)\n",
    "            \n",
    "            if cnode.right:\n",
    "                stack.append(cnode.right)\n",
    "\n",
    "            if cnode.left:\n",
    "                stack.append(cnode.left)  \n",
    "                \n",
    "            if (not (cnode.left or cnode.right)) and (len(temp)>max_len):\n",
    "                max_len = len(temp)-1\n",
    "                \n",
    "        else:\n",
    "            temp.pop()\n",
    "        \n",
    "    print(max_len)"
   ]
  },
  {
   "cell_type": "code",
   "execution_count": 60,
   "metadata": {},
   "outputs": [],
   "source": [
    "bt = BinaryTree()"
   ]
  },
  {
   "cell_type": "code",
   "execution_count": 61,
   "metadata": {},
   "outputs": [],
   "source": [
    "bt.insert(4, 2, 6, 1, 3, 5, 7, 9, 0, 1.5, -1, 0.5, -7, -0.5)"
   ]
  },
  {
   "cell_type": "code",
   "execution_count": 62,
   "metadata": {},
   "outputs": [
    {
     "data": {
      "text/plain": [
       "6"
      ]
     },
     "execution_count": 62,
     "metadata": {},
     "output_type": "execute_result"
    }
   ],
   "source": [
    "bt.root.right.data"
   ]
  },
  {
   "cell_type": "code",
   "execution_count": 63,
   "metadata": {},
   "outputs": [
    {
     "name": "stdout",
     "output_type": "stream",
     "text": [
      "5\n"
     ]
    }
   ],
   "source": [
    "find_height(bt.root)"
   ]
  }
 ],
 "metadata": {
  "kernelspec": {
   "display_name": "Python 3",
   "language": "python",
   "name": "python3"
  },
  "language_info": {
   "codemirror_mode": {
    "name": "ipython",
    "version": 3
   },
   "file_extension": ".py",
   "mimetype": "text/x-python",
   "name": "python",
   "nbconvert_exporter": "python",
   "pygments_lexer": "ipython3",
   "version": "3.8.3"
  }
 },
 "nbformat": 4,
 "nbformat_minor": 4
}
