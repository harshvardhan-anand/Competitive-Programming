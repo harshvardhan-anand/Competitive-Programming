{
 "cells": [
  {
   "cell_type": "code",
   "execution_count": 1,
   "metadata": {},
   "outputs": [],
   "source": [
    "ar=[18, 90, 90, 13, 90, 75, 90, 8, 90, 43]"
   ]
  },
  {
   "cell_type": "code",
   "execution_count": 2,
   "metadata": {},
   "outputs": [],
   "source": [
    "    max=ar[0]\n",
    "    count=0\n",
    "    i=0\n",
    "    c=1\n",
    "    while(i<len(ar)):\n",
    "        if(c):\n",
    "            if(ar[i]>max):\n",
    "                max=ar[i]\n",
    "            if i==(len(ar)-1):\n",
    "                c=0\n",
    "                i=0\n",
    "        if(c==0):\n",
    "            if(max==ar[i]):\n",
    "                count+=1\n",
    "                #print(f\"max: {max},i: {i}\")\n",
    "        i+=1\n",
    "   #print(count)"
   ]
  }
 ],
 "metadata": {
  "kernelspec": {
   "display_name": "Python 3",
   "language": "python",
   "name": "python3"
  },
  "language_info": {
   "codemirror_mode": {
    "name": "ipython",
    "version": 3
   },
   "file_extension": ".py",
   "mimetype": "text/x-python",
   "name": "python",
   "nbconvert_exporter": "python",
   "pygments_lexer": "ipython3",
   "version": "3.7.1"
  }
 },
 "nbformat": 4,
 "nbformat_minor": 2
}
