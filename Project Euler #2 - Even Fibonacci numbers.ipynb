{
 "cells": [
  {
   "cell_type": "code",
   "execution_count": 19,
   "metadata": {},
   "outputs": [
    {
     "name": "stdout",
     "output_type": "stream",
     "text": [
      "2\n",
      "10\n",
      "10\n",
      "100\n",
      "44\n"
     ]
    }
   ],
   "source": [
    "test_cases = int(input())\n",
    "for i in range(test_cases):\n",
    "    N = int(input())\n",
    "    a = 0\n",
    "    b = 1\n",
    "    res = 0\n",
    "    summed = 0\n",
    "    while a+b<N:\n",
    "        res = a+b\n",
    "        a,b = b, res\n",
    "        if not(res%2):\n",
    "            summed = res+summed\n",
    "    print(summed)"
   ]
  },
  {
   "cell_type": "markdown",
   "metadata": {},
   "source": [
    "# iPost"
   ]
  },
  {
   "cell_type": "code",
   "execution_count": 22,
   "metadata": {},
   "outputs": [
    {
     "name": "stdout",
     "output_type": "stream",
     "text": [
      "44\n"
     ]
    }
   ],
   "source": [
    "# Example of Fibonacci series: 0, 1, 1, 2, 3, 5, 8...\n",
    "# In generalisation series looks like this a, b, c=a+b, d=b+c...\n",
    "\n",
    "N = 100\n",
    "a = 0\n",
    "b = 1\n",
    "result = 0\n",
    "summed = 0\n",
    "while a+b<N:\n",
    "    result = a+b\n",
    "    a, b = b, result\n",
    "    if not(result%2):\n",
    "        summed = result+summed\n",
    "print(summed)"
   ]
  },
  {
   "cell_type": "code",
   "execution_count": null,
   "metadata": {},
   "outputs": [],
   "source": []
  }
 ],
 "metadata": {
  "kernelspec": {
   "display_name": "Python 3",
   "language": "python",
   "name": "python3"
  },
  "language_info": {
   "codemirror_mode": {
    "name": "ipython",
    "version": 3
   },
   "file_extension": ".py",
   "mimetype": "text/x-python",
   "name": "python",
   "nbconvert_exporter": "python",
   "pygments_lexer": "ipython3",
   "version": "3.7.6"
  }
 },
 "nbformat": 4,
 "nbformat_minor": 4
}
