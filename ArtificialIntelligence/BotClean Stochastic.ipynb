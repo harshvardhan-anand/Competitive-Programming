{
 "cells": [
  {
   "cell_type": "code",
   "execution_count": 9,
   "metadata": {},
   "outputs": [
    {
     "name": "stdout",
     "output_type": "stream",
     "text": [
      "0 0\n",
      "b---d\n",
      "--d--\n",
      "-----\n",
      "-----\n",
      "-----\n"
     ]
    }
   ],
   "source": [
    "r, c = ((input()).strip().split())\n",
    "board = [input() for i in range(5)]"
   ]
  },
  {
   "cell_type": "code",
   "execution_count": 23,
   "metadata": {},
   "outputs": [],
   "source": [
    "def get_dirt():\n",
    "    loc = []\n",
    "    row = 0\n",
    "    for i in board:\n",
    "        col=0\n",
    "        for j in i:\n",
    "            if j=='d':\n",
    "                loc.append([row, col])\n",
    "            col+=1\n",
    "        row+=1\n",
    "    return loc  "
   ]
  },
  {
   "cell_type": "code",
   "execution_count": 24,
   "metadata": {},
   "outputs": [
    {
     "data": {
      "text/plain": [
       "[[0, 4], [1, 2]]"
      ]
     },
     "execution_count": 24,
     "metadata": {},
     "output_type": "execute_result"
    }
   ],
   "source": [
    "get_dirt()"
   ]
  },
  {
   "cell_type": "code",
   "execution_count": 28,
   "metadata": {},
   "outputs": [],
   "source": [
    "def find_path(a, b, r, c):\n",
    "    # a and b are dirt location, r and c are the location of bot:\n",
    "    path = []\n",
    "    flag = 0\n",
    "    if r<a:\n",
    "        path.append('DOWN')\n",
    "    if r>a:\n",
    "        path.append('UP')\n",
    "    if c>b:\n",
    "        path.append('LEFT')\n",
    "    if c<b:\n",
    "        path.append('RIGHT')\n",
    "    if (a==r) and (b==c):\n",
    "        flag = 1\n",
    "        \n",
    "    if flag:\n",
    "        print('CLEAN')\n",
    "        flag = 0\n",
    "    else:\n",
    "        print(path[0])"
   ]
  },
  {
   "cell_type": "code",
   "execution_count": 29,
   "metadata": {},
   "outputs": [],
   "source": [
    "def bot_ops(r, c):\n",
    "    r = int(r)\n",
    "    c = int(c)\n",
    "    loc = get_dirt()\n",
    "    for i, j in loc:\n",
    "        find_path(i, j, r, c)\n",
    "        break\n",
    "    loc.pop(0)"
   ]
  },
  {
   "cell_type": "code",
   "execution_count": 30,
   "metadata": {},
   "outputs": [
    {
     "name": "stdout",
     "output_type": "stream",
     "text": [
      "RIGHT\n"
     ]
    }
   ],
   "source": [
    "bot_ops(r, c)"
   ]
  },
  {
   "cell_type": "code",
   "execution_count": null,
   "metadata": {},
   "outputs": [],
   "source": []
  }
 ],
 "metadata": {
  "kernelspec": {
   "display_name": "Python 3",
   "language": "python",
   "name": "python3"
  },
  "language_info": {
   "codemirror_mode": {
    "name": "ipython",
    "version": 3
   },
   "file_extension": ".py",
   "mimetype": "text/x-python",
   "name": "python",
   "nbconvert_exporter": "python",
   "pygments_lexer": "ipython3",
   "version": "3.7.1"
  }
 },
 "nbformat": 4,
 "nbformat_minor": 4
}
