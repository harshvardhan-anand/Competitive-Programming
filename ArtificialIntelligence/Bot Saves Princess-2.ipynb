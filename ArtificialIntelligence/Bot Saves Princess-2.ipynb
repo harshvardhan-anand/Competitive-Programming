{
 "cells": [
  {
   "cell_type": "code",
   "execution_count": 6,
   "metadata": {},
   "outputs": [
    {
     "name": "stdout",
     "output_type": "stream",
     "text": [
      "5\n",
      "2 3\n",
      "-----\n",
      "-----\n",
      "p--m-\n",
      "-----\n",
      "-----\n"
     ]
    }
   ],
   "source": [
    "n = int(input())\n",
    "r,c = [int(i) for i in input().strip().split()]\n",
    "grid = []\n",
    "for i in range(0, n):\n",
    "    grid.append(input())"
   ]
  },
  {
   "cell_type": "code",
   "execution_count": 7,
   "metadata": {},
   "outputs": [],
   "source": [
    "def getpos(bot):\n",
    "    flag = 0\n",
    "    row=0\n",
    "    for i in grid:\n",
    "        col=0\n",
    "        for j in i:\n",
    "            if j==bot:\n",
    "                pos = [row, col]\n",
    "                flag=1\n",
    "                break\n",
    "            col+=1\n",
    "        if flag:\n",
    "            break\n",
    "        row+=1\n",
    "        \n",
    "    return pos  "
   ]
  },
  {
   "cell_type": "code",
   "execution_count": 13,
   "metadata": {},
   "outputs": [],
   "source": [
    "def next_step(r, c):\n",
    "    row, col = r, c\n",
    "    path = []\n",
    "    pos_p = getpos('p')\n",
    "    a = pos_p[0]  \n",
    "    b = pos_p[1] \n",
    "    c = row\n",
    "    d = col\n",
    "    if c<a:path.append('DOWN')\n",
    "    if c>a:path.append('UP')\n",
    "    if d>b:path.append('left')\n",
    "    if d<b:path.append('RIGHT')\n",
    "    print(path[0])"
   ]
  },
  {
   "cell_type": "code",
   "execution_count": 19,
   "metadata": {},
   "outputs": [
    {
     "name": "stdout",
     "output_type": "stream",
     "text": [
      "left\n"
     ]
    }
   ],
   "source": [
    "next_step(2, 1)"
   ]
  },
  {
   "cell_type": "code",
   "execution_count": null,
   "metadata": {},
   "outputs": [],
   "source": []
  }
 ],
 "metadata": {
  "kernelspec": {
   "display_name": "Python 3",
   "language": "python",
   "name": "python3"
  },
  "language_info": {
   "codemirror_mode": {
    "name": "ipython",
    "version": 3
   },
   "file_extension": ".py",
   "mimetype": "text/x-python",
   "name": "python",
   "nbconvert_exporter": "python",
   "pygments_lexer": "ipython3",
   "version": "3.7.1"
  }
 },
 "nbformat": 4,
 "nbformat_minor": 4
}
