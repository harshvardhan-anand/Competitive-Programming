{
 "cells": [
  {
   "cell_type": "markdown",
   "metadata": {},
   "source": [
    "grid size - n\n",
    "\n",
    "bot position - m\n",
    "\n",
    "princes position - p"
   ]
  },
  {
   "cell_type": "code",
   "execution_count": 30,
   "metadata": {},
   "outputs": [
    {
     "name": "stdout",
     "output_type": "stream",
     "text": [
      "3\n",
      "---\n",
      "m--\n",
      "--p\n"
     ]
    }
   ],
   "source": [
    "m = int(input())\n",
    "grid = [] \n",
    "for i in range(0, m): \n",
    "    grid.append(input().strip())"
   ]
  },
  {
   "cell_type": "code",
   "execution_count": 44,
   "metadata": {},
   "outputs": [
    {
     "data": {
      "text/plain": [
       "['---', 'm--', '--p']"
      ]
     },
     "execution_count": 44,
     "metadata": {},
     "output_type": "execute_result"
    }
   ],
   "source": [
    "grid"
   ]
  },
  {
   "cell_type": "code",
   "execution_count": 34,
   "metadata": {},
   "outputs": [],
   "source": [
    "def findM():\n",
    "    m = [0, 0]\n",
    "    row = 0\n",
    "    init_break = 0\n",
    "    for i in grid:\n",
    "        col = 0\n",
    "        for j in i:\n",
    "            if j == 'm':\n",
    "                m = [row, col]\n",
    "                init_break = 1\n",
    "                break\n",
    "            col+=1\n",
    "        if init_break:\n",
    "            break\n",
    "        row+=1\n",
    "    return m"
   ]
  },
  {
   "cell_type": "code",
   "execution_count": 35,
   "metadata": {},
   "outputs": [],
   "source": [
    "def findP():\n",
    "    p = [0, 0]\n",
    "    row = 0\n",
    "    init_break = 0\n",
    "    for i in grid:\n",
    "        col = 0\n",
    "        for j in i:\n",
    "            if j == 'p':\n",
    "                p = [row, col]\n",
    "                init_break = 1\n",
    "                break\n",
    "            col+=1\n",
    "        if init_break:\n",
    "            break\n",
    "        row+=1\n",
    "    return p"
   ]
  },
  {
   "cell_type": "code",
   "execution_count": 36,
   "metadata": {},
   "outputs": [
    {
     "data": {
      "text/plain": [
       "[1, 0]"
      ]
     },
     "execution_count": 36,
     "metadata": {},
     "output_type": "execute_result"
    }
   ],
   "source": [
    "findM()"
   ]
  },
  {
   "cell_type": "code",
   "execution_count": 37,
   "metadata": {},
   "outputs": [
    {
     "data": {
      "text/plain": [
       "[2, 2]"
      ]
     },
     "execution_count": 37,
     "metadata": {},
     "output_type": "execute_result"
    }
   ],
   "source": [
    "findP()"
   ]
  },
  {
   "cell_type": "code",
   "execution_count": 42,
   "metadata": {},
   "outputs": [],
   "source": [
    "def save_princes(n, grid):\n",
    "    path = ''\n",
    "    # bot location is (a, b)\n",
    "    a = findM()[0]\n",
    "    b = findM()[1]\n",
    "    # princess location is (c, d)\n",
    "    c = findP()[0]\n",
    "    d = findP()[1]\n",
    "#     print(a, b, c, d)\n",
    "    if a>c:\n",
    "        path = path+('UP\\n'*(a-c))\n",
    "    if a<c:\n",
    "        path = path+('DOWN\\n'*(c-a))\n",
    "    if b<d:\n",
    "        path = path+('RIGHT\\n'*(d-b))\n",
    "    if b>d:\n",
    "        path = path+('LEFT\\n'*(b-d))\n",
    "    \n",
    "    print(path)"
   ]
  },
  {
   "cell_type": "code",
   "execution_count": 43,
   "metadata": {},
   "outputs": [
    {
     "name": "stdout",
     "output_type": "stream",
     "text": [
      "DOWN\n",
      "RIGHT\n",
      "RIGHT\n",
      "\n"
     ]
    }
   ],
   "source": [
    "save_princes(m, grid)"
   ]
  }
 ],
 "metadata": {
  "kernelspec": {
   "display_name": "Python 3",
   "language": "python",
   "name": "python3"
  },
  "language_info": {
   "codemirror_mode": {
    "name": "ipython",
    "version": 3
   },
   "file_extension": ".py",
   "mimetype": "text/x-python",
   "name": "python",
   "nbconvert_exporter": "python",
   "pygments_lexer": "ipython3",
   "version": "3.7.1"
  }
 },
 "nbformat": 4,
 "nbformat_minor": 4
}
