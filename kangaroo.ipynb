{
 "cells": [
  {
   "cell_type": "code",
   "execution_count": 7,
   "metadata": {},
   "outputs": [
    {
     "name": "stdout",
     "output_type": "stream",
     "text": [
      "0 2 5 3\n",
      "NO\n"
     ]
    }
   ],
   "source": [
    "k1_pos, v1, k2_pos, v2=map(int, input().split())\n",
    "c=0\n",
    "if (k1_pos>k2_pos and v1<v2) or (k1_pos<k2_pos and v1>v2) or (k1_pos==k2_pos and v1==v2):\n",
    "    for i in range(10000):\n",
    "        k1_pos+=v1\n",
    "        k2_pos+=v2\n",
    "        if k1_pos==k2_pos:\n",
    "            print('YES')\n",
    "            c=1\n",
    "            break\n",
    "    if c==0:\n",
    "        print('NO')\n",
    "else:\n",
    "    print('NO')"
   ]
  },
  {
   "cell_type": "code",
   "execution_count": null,
   "metadata": {},
   "outputs": [],
   "source": []
  }
 ],
 "metadata": {
  "kernelspec": {
   "display_name": "Python 3",
   "language": "python",
   "name": "python3"
  },
  "language_info": {
   "codemirror_mode": {
    "name": "ipython",
    "version": 3
   },
   "file_extension": ".py",
   "mimetype": "text/x-python",
   "name": "python",
   "nbconvert_exporter": "python",
   "pygments_lexer": "ipython3",
   "version": "3.7.1"
  }
 },
 "nbformat": 4,
 "nbformat_minor": 2
}
