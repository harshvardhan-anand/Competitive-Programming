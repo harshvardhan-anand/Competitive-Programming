{
 "cells": [
  {
   "cell_type": "code",
   "execution_count": null,
   "metadata": {},
   "outputs": [],
   "source": [
    "# 365days 5hours 48minutes 46seconds to be precise"
   ]
  },
  {
   "cell_type": "code",
   "execution_count": 87,
   "metadata": {},
   "outputs": [],
   "source": [
    "def exe(p_day, year):\n",
    "    leap=0\n",
    "    if (year%4==0 and (year>=1700 and year<=1917)):\n",
    "        leap=1\n",
    "    if ((year>1918 and year<=2700) and (year%400==0 or (year%4==0 and year%100 !=0))):\n",
    "        leap=1\n",
    "    count=0\n",
    "    month=0\n",
    "    date=0\n",
    "    counter=0\n",
    "    if year==1918:\n",
    "        p_day=p_day-13\n",
    "        \n",
    "        \n",
    "    for i in range(1, 13):\n",
    "        counter+=1\n",
    "        breaker=0\n",
    "        s=i%2\n",
    "    \n",
    "        if i==2 and leap==1:\n",
    "            p_day=p_day-29\n",
    "            count+=1\n",
    "            continue\n",
    "\n",
    "        if i==2 and leap==0:\n",
    "            if year != 1918:\n",
    "                p_day=p_day-28\n",
    "                count+=1\n",
    "                continue\n",
    "            else:\n",
    "                p_day=p_day-15\n",
    "                count+=1\n",
    "                continue\n",
    "        \n",
    "        if i<=7:\n",
    "            condition=(s!=0 and (p_day>30))   #s=odd\n",
    "        else:\n",
    "            condition=(s==0 and (p_day>30))   #s=even\n",
    "        \n",
    "        if condition:\n",
    "            p_day=p_day-31\n",
    "            count+=1\n",
    "            if p_day==0:\n",
    "                p_day=p_day+31\n",
    "                breaker=1\n",
    "                count=count-1\n",
    "        else:\n",
    "            if p_day>30:\n",
    "                p_day=p_day-30\n",
    "                count+=1\n",
    "                if p_day==0:\n",
    "                    p_day=p_day+30\n",
    "                    breaker=1\n",
    "                    count=count-1\n",
    "            \n",
    "        no_leap_activator=(leap==0 and i==1 and p_day==29)\n",
    "        leap_activator=(leap==1 and i==1 and p_day==29)\n",
    "        \n",
    "        if ((p_day<=30 and p_day>=0) and ((no_leap_activator==False) or (leap_activator==True))) or breaker:\n",
    "                if year==1918:\n",
    "                    date=13+p_day\n",
    "                else:\n",
    "                    date=p_day\n",
    "                month=count+1\n",
    "                break\n",
    "\n",
    "    print(f\"{date}.0{month}.{year}\")"
   ]
  },
  {
   "cell_type": "code",
   "execution_count": 88,
   "metadata": {},
   "outputs": [
    {
     "name": "stdout",
     "output_type": "stream",
     "text": [
      "13.09.2200\n"
     ]
    }
   ],
   "source": [
    "p_day=256\n",
    "#year=int(input())\n",
    "year=2200\n",
    "exe(p_day, year)"
   ]
  },
  {
   "cell_type": "code",
   "execution_count": null,
   "metadata": {},
   "outputs": [],
   "source": []
  }
 ],
 "metadata": {
  "kernelspec": {
   "display_name": "Python 3",
   "language": "python",
   "name": "python3"
  },
  "language_info": {
   "codemirror_mode": {
    "name": "ipython",
    "version": 3
   },
   "file_extension": ".py",
   "mimetype": "text/x-python",
   "name": "python",
   "nbconvert_exporter": "python",
   "pygments_lexer": "ipython3",
   "version": "3.7.1"
  }
 },
 "nbformat": 4,
 "nbformat_minor": 2
}
