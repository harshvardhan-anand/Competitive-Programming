{
 "cells": [
  {
   "cell_type": "code",
   "execution_count": 13,
   "metadata": {},
   "outputs": [],
   "source": [
    "def check_status(amin, bmin, cmin, tmin, a, b, c):\n",
    "    if ((a>=amin) and (b>=bmin) and (c>=cmin) and ((a+b+c)>=tmin)):\n",
    "        print('YES')\n",
    "    else:\n",
    "        print('NO')"
   ]
  },
  {
   "cell_type": "code",
   "execution_count": 14,
   "metadata": {},
   "outputs": [
    {
     "name": "stdout",
     "output_type": "stream",
     "text": [
      "1\n",
      "1 1 1 300 2 2 2\n",
      "NO\n"
     ]
    }
   ],
   "source": [
    "for i in range(int(input())):\n",
    "    amin, bmin, cmin, tmin, a, b, c = [int(x) for x in input().split()]\n",
    "    check_status(amin, bmin, cmin, tmin, a, b, c)"
   ]
  }
 ],
 "metadata": {
  "kernelspec": {
   "display_name": "Python 3",
   "language": "python",
   "name": "python3"
  },
  "language_info": {
   "codemirror_mode": {
    "name": "ipython",
    "version": 3
   },
   "file_extension": ".py",
   "mimetype": "text/x-python",
   "name": "python",
   "nbconvert_exporter": "python",
   "pygments_lexer": "ipython3",
   "version": "3.8.3"
  }
 },
 "nbformat": 4,
 "nbformat_minor": 4
}
