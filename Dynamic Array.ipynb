{
 "cells": [
  {
   "cell_type": "code",
   "execution_count": 13,
   "metadata": {},
   "outputs": [],
   "source": [
    "ans = []\n",
    "arr = []\n",
    "query = []\n",
    "la = 0"
   ]
  },
  {
   "cell_type": "code",
   "execution_count": null,
   "metadata": {},
   "outputs": [],
   "source": [
    "n, q = list(map(int, input()))\n",
    "\n",
    "for _ in range(q):\n",
    "    query.append(input())"
   ]
  },
  {
   "cell_type": "code",
   "execution_count": null,
   "metadata": {},
   "outputs": [],
   "source": [
    "# n, q = 2, 5\n",
    "# query = [\n",
    "#     \"1 0 5\",\n",
    "#     \"1 1 7\",\n",
    "#     \"1 0 3\",\n",
    "#     \"2 1 0\",\n",
    "#     \"2 1 1\"\n",
    "# ]"
   ]
  },
  {
   "cell_type": "code",
   "execution_count": 15,
   "metadata": {},
   "outputs": [],
   "source": [
    "for _ in range(n):\n",
    "    arr.append([])"
   ]
  },
  {
   "cell_type": "code",
   "execution_count": 16,
   "metadata": {},
   "outputs": [
    {
     "name": "stdout",
     "output_type": "stream",
     "text": [
      "7\n",
      "3\n"
     ]
    }
   ],
   "source": [
    "for q in query:\n",
    "    qt, x, y = list(map(int, q.split()))\n",
    "    idx = (x^la)%n\n",
    "    if qt==1:\n",
    "        arr[idx].append(y)\n",
    "    else:\n",
    "        la = arr[idx][y%len(arr[idx])]\n",
    "        ans.append(la)\n",
    "        \n",
    "for i in ans:\n",
    "    print(i)"
   ]
  }
 ],
 "metadata": {
  "kernelspec": {
   "display_name": "Python 3",
   "language": "python",
   "name": "python3"
  },
  "language_info": {
   "codemirror_mode": {
    "name": "ipython",
    "version": 3
   },
   "file_extension": ".py",
   "mimetype": "text/x-python",
   "name": "python",
   "nbconvert_exporter": "python",
   "pygments_lexer": "ipython3",
   "version": "3.8.3"
  }
 },
 "nbformat": 4,
 "nbformat_minor": 4
}
