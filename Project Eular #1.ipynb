{
 "cells": [
  {
   "cell_type": "markdown",
   "metadata": {},
   "source": [
    "# Basic Approach"
   ]
  },
  {
   "cell_type": "code",
   "execution_count": 2,
   "metadata": {},
   "outputs": [
    {
     "output_type": "stream",
     "name": "stdout",
     "text": "23\n"
    }
   ],
   "source": [
    "test_cases = int(input())\n",
    "for test_case in range(test_cases):\n",
    "    N = int(input())\n",
    "    print(sum([number for number in range(N) \n",
    "               if ((number%3==0) or (number%5==0))]))"
   ]
  },
  {
   "cell_type": "markdown",
   "metadata": {},
   "source": [
    "# Efficient Simplified Approach"
   ]
  },
  {
   "cell_type": "code",
   "execution_count": 4,
   "metadata": {},
   "outputs": [
    {
     "output_type": "stream",
     "name": "stdout",
     "text": "23\n2318\n"
    }
   ],
   "source": [
    "test_cases = int(input())  # number of test_cases\n",
    "\n",
    "for test_case in range(test_cases):\n",
    "    \n",
    "    N = int(input())-1 # End point, and our problem says less than N so -1.\n",
    "\n",
    "    # we are using floor division\n",
    "    nd3 = N//3 # num_divisible_by_3\n",
    "    nd5 = N//5 # num_divisible_by_5\n",
    "    nd15 = N//15 # num_divisible_by_15\n",
    "\n",
    "    # formula for sum of AP is (n/2)*(2*a1 + (n-1)*d).\n",
    "    # where n is the number of elements in AP having a1 as first element and d as difference.\n",
    "    sn_3 = (nd3/2)*(2*3 + (nd3-1)*3) # Sum of AP having d=3, a1=3\n",
    "    sn_5 = (nd5/2)*(2*5 + (nd5-1)*5) # Sum of AP having d=5, a1=5\n",
    "\n",
    "    # we need to subtract the sum of common multiple once so we will find LCM of 3 and 5 which is 15\n",
    "    # find the sum of numbers multiple of 15\n",
    "    sn_15 = (nd15/2)*(2*15 + (nd15-1)*15) # Sum of AP having d=15, a1=15\n",
    "\n",
    "    # subtract sn_15 once, we will subtract it from sn_5\n",
    "    sn_5 = sn_5 - sn_15\n",
    "\n",
    "    # final answer\n",
    "    result = int(sn_3 + sn_5)\n",
    "\n",
    "    print(result)"
   ]
  },
  {
   "cell_type": "markdown",
   "metadata": {},
   "source": [
    "# Efficient Consise Approach"
   ]
  },
  {
   "cell_type": "code",
   "execution_count": 27,
   "metadata": {},
   "outputs": [
    {
     "output_type": "stream",
     "name": "stdout",
     "text": "0\n1.6509106159210205\n"
    }
   ],
   "source": [
    "import time\n",
    "\n",
    "start = time.time()\n",
    "\n",
    "def find_sn(n, a1, d):\n",
    "    return((n/2)*(2*a1 + (n-1)*d))\n",
    "\n",
    "test_cases = int(input())  # number of test_cases\n",
    "\n",
    "for test_case in range(test_cases):\n",
    "\n",
    "    N = int(input())-1 # End point, and our problem says less than N so -1.\n",
    "\n",
    "    # we are using floor division\n",
    "    nd3 = N//3 # num_divisible_by_3\n",
    "    nd5 = N//5 # num_divisible_by_5\n",
    "    nd15 = N//15 # num_divisible_by_15\n",
    "    \n",
    "    result = int(find_sn(nd3, 3, 3) + (find_sn(nd5, 5, 5) - find_sn(nd15, 15, 15)))\n",
    "    print(result)\n",
    "\n",
    "end = time.time()\n",
    "print(end-start)"
   ]
  },
  {
   "cell_type": "code",
   "execution_count": 23,
   "metadata": {},
   "outputs": [
    {
     "output_type": "stream",
     "name": "stdout",
     "text": "135.0\n225.0\n675.0\n585\n"
    }
   ],
   "source": [
    "# Algo is correct but programming is wrong\n",
    "\n",
    "test_cases = int(input())\n",
    "\n",
    "for i in range(test_cases):\n",
    "    N = int(input())-1\n",
    "\n",
    "    ns_3 = ((N*(N+1))/2)*3\n",
    "    print(ns_3)\n",
    "    ns_5 = ((N*(N+1))/2)*5\n",
    "    print(ns_5)\n",
    "    ns_15 = ((N*(N+1))/2)*15\n",
    "    print(ns_15)\n",
    "\n",
    "    print(int(ns_3 + (ns_15-ns_5)))"
   ]
  },
  {
   "cell_type": "code",
   "execution_count": 28,
   "metadata": {},
   "outputs": [
    {
     "output_type": "stream",
     "name": "stdout",
     "text": "60\n"
    }
   ],
   "source": [
    "for i in range(31):\n",
    "    i = i+i\n",
    "print(i)"
   ]
  },
  {
   "cell_type": "code",
   "execution_count": null,
   "metadata": {},
   "outputs": [],
   "source": []
  }
 ],
 "metadata": {
  "kernelspec": {
   "display_name": "Python 3",
   "language": "python",
   "name": "python3"
  },
  "language_info": {
   "codemirror_mode": {
    "name": "ipython",
    "version": 3
   },
   "file_extension": ".py",
   "mimetype": "text/x-python",
   "name": "python",
   "nbconvert_exporter": "python",
   "pygments_lexer": "ipython3",
   "version": "3.7.6-final"
  }
 },
 "nbformat": 4,
 "nbformat_minor": 4
}