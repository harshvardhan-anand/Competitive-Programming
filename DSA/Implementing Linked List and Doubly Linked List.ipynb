{
 "cells": [
  {
   "cell_type": "markdown",
   "metadata": {},
   "source": [
    "# Implementation of LinkedList by dictionary"
   ]
  },
  {
   "cell_type": "code",
   "execution_count": 1,
   "metadata": {},
   "outputs": [],
   "source": [
    "class LinkedListByDict:\n",
    "    def __init__(self, value):\n",
    "        self.head = {\n",
    "            'value':value,\n",
    "            'next':None\n",
    "        }\n",
    "        self.tail = self.head\n",
    "    def append(self, value):\n",
    "        self.tail['next']={\n",
    "            'value':value,\n",
    "            'next':None\n",
    "        }\n",
    "        self.tail = self.tail['next']\n",
    "        \n",
    "    def traverse(self):\n",
    "        linked_list_data = []\n",
    "        ptr = self.head\n",
    "        while (ptr):\n",
    "            linked_list_data.append(ptr['value'])\n",
    "            ptr = ptr['next']\n",
    "        return linked_list_data"
   ]
  },
  {
   "cell_type": "code",
   "execution_count": 2,
   "metadata": {},
   "outputs": [],
   "source": [
    "ll = LinkedListByDict(10)"
   ]
  },
  {
   "cell_type": "code",
   "execution_count": 3,
   "metadata": {},
   "outputs": [
    {
     "data": {
      "text/plain": [
       "10"
      ]
     },
     "execution_count": 3,
     "metadata": {},
     "output_type": "execute_result"
    }
   ],
   "source": [
    "ll.head.get('value')"
   ]
  },
  {
   "cell_type": "code",
   "execution_count": 4,
   "metadata": {},
   "outputs": [
    {
     "data": {
      "text/plain": [
       "{'value': 10, 'next': None}"
      ]
     },
     "execution_count": 4,
     "metadata": {},
     "output_type": "execute_result"
    }
   ],
   "source": [
    "ll.head"
   ]
  },
  {
   "cell_type": "code",
   "execution_count": 5,
   "metadata": {},
   "outputs": [
    {
     "data": {
      "text/plain": [
       "{'value': 10, 'next': None}"
      ]
     },
     "execution_count": 5,
     "metadata": {},
     "output_type": "execute_result"
    }
   ],
   "source": [
    "ll.tail"
   ]
  },
  {
   "cell_type": "code",
   "execution_count": 6,
   "metadata": {},
   "outputs": [],
   "source": [
    "ll.append(51)\n",
    "\n",
    "ll.append(5)\n",
    "\n",
    "ll.append(513)"
   ]
  },
  {
   "cell_type": "code",
   "execution_count": 7,
   "metadata": {},
   "outputs": [
    {
     "data": {
      "text/plain": [
       "[10, 51, 5, 513]"
      ]
     },
     "execution_count": 7,
     "metadata": {},
     "output_type": "execute_result"
    }
   ],
   "source": [
    "ll.traverse()"
   ]
  },
  {
   "cell_type": "code",
   "execution_count": 8,
   "metadata": {},
   "outputs": [
    {
     "data": {
      "text/plain": [
       "{'value': 513, 'next': None}"
      ]
     },
     "execution_count": 8,
     "metadata": {},
     "output_type": "execute_result"
    }
   ],
   "source": [
    "ll.tail"
   ]
  },
  {
   "cell_type": "code",
   "execution_count": null,
   "metadata": {},
   "outputs": [],
   "source": []
  },
  {
   "cell_type": "markdown",
   "metadata": {},
   "source": [
    "# Implementation of LinkedList by OOP"
   ]
  },
  {
   "cell_type": "code",
   "execution_count": 20,
   "metadata": {},
   "outputs": [],
   "source": [
    "class LinkedList:\n",
    "    def __init__(self, value):\n",
    "        self.length = 1\n",
    "        self.head = Node(value)\n",
    "        self.tail = self.head\n",
    "        \n",
    "    def append(self, value):\n",
    "        currNode = Node(value)\n",
    "        self.tail.next = currNode\n",
    "        self.tail = currNode # Tail of Linked List\n",
    "        self.length+=1\n",
    "        \n",
    "    def prepend(self, value):\n",
    "        currNode = Node(value)\n",
    "        currNode.next = self.head\n",
    "        self.head = currNode\n",
    "        self.length+=1\n",
    "        \n",
    "    def insert(self, idx, value):\n",
    "        if (not idx): # for case idx=0\n",
    "            self.prepend(value) # If user want to insert at index 0 i.e prepend\n",
    "            return\n",
    "        elif (idx>=self.length):\n",
    "            self.append(value)\n",
    "            return\n",
    "            \n",
    "        currNode = Node(value)\n",
    "        nodeIdx = 0\n",
    "        ptr = self.head\n",
    "        while (ptr):\n",
    "            if (nodeIdx==idx): #Index is 2 but position is third\n",
    "                break\n",
    "            prev_node = ptr\n",
    "            ptr = ptr.next\n",
    "            nodeIdx+=1\n",
    "        \n",
    "        prev_node.next = currNode\n",
    "        currNode.next = ptr\n",
    "        self.length+=1\n",
    "        \n",
    "    def delete(self, idx):\n",
    "        set_tail = False\n",
    "        if (not idx):\n",
    "            self.head = self.head.next\n",
    "            self.length-=1\n",
    "            return\n",
    "        elif (idx>=self.length):\n",
    "            idx = self.length-1\n",
    "            set_tail = True\n",
    "        ptr = self.head\n",
    "        nodeCount = 0\n",
    "        while(ptr):\n",
    "            if (nodeCount==idx):\n",
    "                break\n",
    "            prev_node = ptr\n",
    "            ptr = ptr.next\n",
    "            nodeCount+=1\n",
    "        next_node = ptr.next\n",
    "        prev_node.next = next_node\n",
    "        if set_tail:\n",
    "            self.tail = prev_node\n",
    "        self.length-=1\n",
    "        \n",
    "    def reverse(self):\n",
    "        ptr = self.head\n",
    "        nxt = ptr.next\n",
    "        nxt2 = nxt.next\n",
    "        while True:\n",
    "            nxt.next = ptr\n",
    "            ptr = nxt\n",
    "            nxt = nxt2\n",
    "            if not nxt : break\n",
    "            nxt2 = nxt.next\n",
    "        self.tail = self.head\n",
    "        self.tail.next = None\n",
    "        self.head = ptr\n",
    "        \n",
    "        \n",
    "    def traverse(self):\n",
    "        linked_list_data = {\n",
    "            'length':self.length,\n",
    "            'data':[]\n",
    "        }\n",
    "        ptr = self.head\n",
    "        while(ptr):\n",
    "            linked_list_data['data'].append(ptr.value)\n",
    "            ptr = ptr.next\n",
    "        return linked_list_data\n",
    "    \n",
    "class Node:\n",
    "    def __init__(self, value):\n",
    "        self.value = value\n",
    "        self.next = None"
   ]
  },
  {
   "cell_type": "code",
   "execution_count": 42,
   "metadata": {},
   "outputs": [],
   "source": [
    "ll = LinkedList(5)"
   ]
  },
  {
   "cell_type": "code",
   "execution_count": 43,
   "metadata": {},
   "outputs": [
    {
     "data": {
      "text/plain": [
       "5"
      ]
     },
     "execution_count": 43,
     "metadata": {},
     "output_type": "execute_result"
    }
   ],
   "source": [
    "ll.head.value"
   ]
  },
  {
   "cell_type": "code",
   "execution_count": 44,
   "metadata": {},
   "outputs": [],
   "source": [
    "ll.append(10)\n",
    "\n",
    "ll.append(15)"
   ]
  },
  {
   "cell_type": "code",
   "execution_count": 45,
   "metadata": {},
   "outputs": [
    {
     "data": {
      "text/plain": [
       "{'length': 3, 'data': [5, 10, 15]}"
      ]
     },
     "execution_count": 45,
     "metadata": {},
     "output_type": "execute_result"
    }
   ],
   "source": [
    "ll.traverse()"
   ]
  },
  {
   "cell_type": "code",
   "execution_count": 46,
   "metadata": {},
   "outputs": [],
   "source": [
    "ll.prepend(50)"
   ]
  },
  {
   "cell_type": "code",
   "execution_count": 47,
   "metadata": {},
   "outputs": [
    {
     "data": {
      "text/plain": [
       "{'length': 4, 'data': [50, 5, 10, 15]}"
      ]
     },
     "execution_count": 47,
     "metadata": {},
     "output_type": "execute_result"
    }
   ],
   "source": [
    "ll.traverse()"
   ]
  },
  {
   "cell_type": "code",
   "execution_count": 48,
   "metadata": {},
   "outputs": [],
   "source": [
    "ll.insert(2, 432)"
   ]
  },
  {
   "cell_type": "code",
   "execution_count": 49,
   "metadata": {},
   "outputs": [
    {
     "data": {
      "text/plain": [
       "{'length': 5, 'data': [50, 5, 432, 10, 15]}"
      ]
     },
     "execution_count": 49,
     "metadata": {},
     "output_type": "execute_result"
    }
   ],
   "source": [
    "ll.traverse()"
   ]
  },
  {
   "cell_type": "code",
   "execution_count": 50,
   "metadata": {},
   "outputs": [],
   "source": [
    "ll.insert(3423423, 501)"
   ]
  },
  {
   "cell_type": "code",
   "execution_count": 51,
   "metadata": {},
   "outputs": [
    {
     "data": {
      "text/plain": [
       "{'length': 6, 'data': [50, 5, 432, 10, 15, 501]}"
      ]
     },
     "execution_count": 51,
     "metadata": {},
     "output_type": "execute_result"
    }
   ],
   "source": [
    "ll.traverse()"
   ]
  },
  {
   "cell_type": "code",
   "execution_count": 52,
   "metadata": {},
   "outputs": [
    {
     "data": {
      "text/plain": [
       "{'length': 5, 'data': [50, 432, 10, 15, 501]}"
      ]
     },
     "execution_count": 52,
     "metadata": {},
     "output_type": "execute_result"
    }
   ],
   "source": [
    "ll.delete(1)\n",
    "\n",
    "ll.traverse()"
   ]
  },
  {
   "cell_type": "code",
   "execution_count": 53,
   "metadata": {},
   "outputs": [
    {
     "data": {
      "text/plain": [
       "{'length': 4, 'data': [432, 10, 15, 501]}"
      ]
     },
     "execution_count": 53,
     "metadata": {},
     "output_type": "execute_result"
    }
   ],
   "source": [
    "ll.delete(0)\n",
    "\n",
    "ll.traverse()"
   ]
  },
  {
   "cell_type": "code",
   "execution_count": 54,
   "metadata": {},
   "outputs": [
    {
     "data": {
      "text/plain": [
       "{'length': 3, 'data': [432, 10, 15]}"
      ]
     },
     "execution_count": 54,
     "metadata": {},
     "output_type": "execute_result"
    }
   ],
   "source": [
    "ll.delete(20)\n",
    "\n",
    "ll.traverse()"
   ]
  },
  {
   "cell_type": "code",
   "execution_count": 55,
   "metadata": {},
   "outputs": [
    {
     "data": {
      "text/plain": [
       "15"
      ]
     },
     "execution_count": 55,
     "metadata": {},
     "output_type": "execute_result"
    }
   ],
   "source": [
    "ll.tail.value"
   ]
  },
  {
   "cell_type": "code",
   "execution_count": 56,
   "metadata": {},
   "outputs": [],
   "source": [
    "ll.append(1)\n",
    "ll.append(12)\n",
    "ll.append(13)\n",
    "ll.append(14)\n",
    "ll.append(15)"
   ]
  },
  {
   "cell_type": "code",
   "execution_count": 57,
   "metadata": {},
   "outputs": [
    {
     "data": {
      "text/plain": [
       "{'length': 8, 'data': [432, 10, 15, 1, 12, 13, 14, 15]}"
      ]
     },
     "execution_count": 57,
     "metadata": {},
     "output_type": "execute_result"
    }
   ],
   "source": [
    "ll.traverse()"
   ]
  },
  {
   "cell_type": "code",
   "execution_count": 58,
   "metadata": {},
   "outputs": [],
   "source": [
    "ll.reverse()"
   ]
  },
  {
   "cell_type": "code",
   "execution_count": 59,
   "metadata": {},
   "outputs": [
    {
     "data": {
      "text/plain": [
       "{'length': 8, 'data': [15, 14, 13, 12, 1, 15, 10, 432]}"
      ]
     },
     "execution_count": 59,
     "metadata": {},
     "output_type": "execute_result"
    }
   ],
   "source": [
    "ll.traverse()"
   ]
  },
  {
   "cell_type": "markdown",
   "metadata": {},
   "source": [
    "# Implementation of Doubly Linked List by OOP"
   ]
  },
  {
   "cell_type": "code",
   "execution_count": 54,
   "metadata": {},
   "outputs": [],
   "source": [
    "class Node:\n",
    "    def __init__(self, value):\n",
    "        self.value = value\n",
    "        self.next = None\n",
    "        self.previous = None\n",
    "\n",
    "class DoublyLinkedList:\n",
    "    def __init__(self, value):\n",
    "        self.length = 1\n",
    "        self.head = Node(value)\n",
    "        self.tail = self.head\n",
    "        \n",
    "    def append(self, value):\n",
    "        currNode = Node(value)\n",
    "        self.tail.next = currNode\n",
    "        currNode.previous = self.tail\n",
    "        self.tail = currNode # Tail of Linked List\n",
    "        self.length+=1\n",
    "        \n",
    "    def prepend(self, value):\n",
    "        currNode = Node(value)\n",
    "        currNode.next = self.head\n",
    "        self.head.previous = currNode\n",
    "        self.head = currNode\n",
    "        self.length+=1\n",
    "        \n",
    "    def insert(self, idx, value):\n",
    "        if (not idx): # for case idx=0\n",
    "            self.prepend(value) # If user want to insert at index 0 i.e prepend\n",
    "            return\n",
    "        elif (idx>=self.length):\n",
    "            self.append(value)\n",
    "            return\n",
    "            \n",
    "        currNode = Node(value)\n",
    "        nodeIdx = 0\n",
    "        ptr = self.head\n",
    "        while (ptr):\n",
    "            if (nodeIdx==idx): #Index is 2 but position is third\n",
    "                break\n",
    "            prev_node = ptr\n",
    "            ptr = ptr.next\n",
    "            nodeIdx+=1\n",
    "        \n",
    "        prev_node.next = currNode\n",
    "        currNode.previous = prev_node\n",
    "        currNode.next = ptr\n",
    "        ptr.previous = currNode\n",
    "        self.length+=1\n",
    "        \n",
    "    def delete(self, idx):\n",
    "        if (not idx):\n",
    "            self.head = self.head.next\n",
    "            self.head.previous = None\n",
    "            self.length-=1\n",
    "            return\n",
    "        elif (idx>=self.length):\n",
    "            idx = self.length-1\n",
    "        ptr = self.head\n",
    "        nodeCount = 0\n",
    "        while(ptr):\n",
    "            if (nodeCount==idx):\n",
    "                break\n",
    "            prev_node = ptr\n",
    "            ptr = ptr.next\n",
    "            nodeCount+=1\n",
    "        next_node = ptr.next\n",
    "        prev_node.next = next_node\n",
    "        try:\n",
    "            next_node.previous = prev_node\n",
    "        except:\n",
    "            self.tail = prev_node\n",
    "        self.length-=1\n",
    "        \n",
    "        \n",
    "    def traverse(self):\n",
    "        linked_list_data = {\n",
    "            'length':self.length,\n",
    "            'data':[]\n",
    "        }\n",
    "        ptr = self.head\n",
    "        while(ptr):\n",
    "            linked_list_data['data'].append(ptr.value)\n",
    "            ptr = ptr.next\n",
    "        return linked_list_data\n",
    "    \n",
    "    def traverse_back(self):\n",
    "        linked_list_data = {\n",
    "            'length':self.length,\n",
    "            'data':[]\n",
    "        }\n",
    "        ptr = self.tail\n",
    "        while(ptr):\n",
    "            linked_list_data['data'].append(ptr.value)\n",
    "            ptr = ptr.previous\n",
    "        return linked_list_data"
   ]
  },
  {
   "cell_type": "code",
   "execution_count": 55,
   "metadata": {},
   "outputs": [],
   "source": [
    "ll = DoublyLinkedList(5)"
   ]
  },
  {
   "cell_type": "code",
   "execution_count": 56,
   "metadata": {},
   "outputs": [
    {
     "data": {
      "text/plain": [
       "5"
      ]
     },
     "execution_count": 56,
     "metadata": {},
     "output_type": "execute_result"
    }
   ],
   "source": [
    "ll.head.value"
   ]
  },
  {
   "cell_type": "code",
   "execution_count": 57,
   "metadata": {},
   "outputs": [],
   "source": [
    "ll.append(10)\n",
    "\n",
    "ll.append(15)"
   ]
  },
  {
   "cell_type": "code",
   "execution_count": 58,
   "metadata": {},
   "outputs": [
    {
     "data": {
      "text/plain": [
       "{'length': 3, 'data': [5, 10, 15]}"
      ]
     },
     "execution_count": 58,
     "metadata": {},
     "output_type": "execute_result"
    }
   ],
   "source": [
    "ll.traverse()"
   ]
  },
  {
   "cell_type": "code",
   "execution_count": 59,
   "metadata": {},
   "outputs": [],
   "source": [
    "ll.prepend(50)"
   ]
  },
  {
   "cell_type": "code",
   "execution_count": 60,
   "metadata": {},
   "outputs": [
    {
     "data": {
      "text/plain": [
       "{'length': 4, 'data': [50, 5, 10, 15]}"
      ]
     },
     "execution_count": 60,
     "metadata": {},
     "output_type": "execute_result"
    }
   ],
   "source": [
    "ll.traverse()"
   ]
  },
  {
   "cell_type": "code",
   "execution_count": 61,
   "metadata": {},
   "outputs": [],
   "source": [
    "ll.insert(2, 432)"
   ]
  },
  {
   "cell_type": "code",
   "execution_count": 62,
   "metadata": {},
   "outputs": [
    {
     "data": {
      "text/plain": [
       "{'length': 5, 'data': [50, 5, 432, 10, 15]}"
      ]
     },
     "execution_count": 62,
     "metadata": {},
     "output_type": "execute_result"
    }
   ],
   "source": [
    "ll.traverse()"
   ]
  },
  {
   "cell_type": "code",
   "execution_count": 63,
   "metadata": {},
   "outputs": [],
   "source": [
    "ll.insert(3423423, 501)"
   ]
  },
  {
   "cell_type": "code",
   "execution_count": 64,
   "metadata": {},
   "outputs": [
    {
     "data": {
      "text/plain": [
       "{'length': 6, 'data': [50, 5, 432, 10, 15, 501]}"
      ]
     },
     "execution_count": 64,
     "metadata": {},
     "output_type": "execute_result"
    }
   ],
   "source": [
    "ll.traverse()"
   ]
  },
  {
   "cell_type": "code",
   "execution_count": 65,
   "metadata": {},
   "outputs": [
    {
     "data": {
      "text/plain": [
       "{'length': 5, 'data': [50, 432, 10, 15, 501]}"
      ]
     },
     "execution_count": 65,
     "metadata": {},
     "output_type": "execute_result"
    }
   ],
   "source": [
    "ll.delete(1)\n",
    "\n",
    "ll.traverse()"
   ]
  },
  {
   "cell_type": "code",
   "execution_count": 66,
   "metadata": {},
   "outputs": [
    {
     "data": {
      "text/plain": [
       "{'length': 4, 'data': [432, 10, 15, 501]}"
      ]
     },
     "execution_count": 66,
     "metadata": {},
     "output_type": "execute_result"
    }
   ],
   "source": [
    "ll.delete(0)\n",
    "\n",
    "ll.traverse()"
   ]
  },
  {
   "cell_type": "code",
   "execution_count": 67,
   "metadata": {},
   "outputs": [
    {
     "data": {
      "text/plain": [
       "{'length': 3, 'data': [432, 10, 15]}"
      ]
     },
     "execution_count": 67,
     "metadata": {},
     "output_type": "execute_result"
    }
   ],
   "source": [
    "ll.delete(20)\n",
    "\n",
    "ll.traverse()"
   ]
  },
  {
   "cell_type": "code",
   "execution_count": 68,
   "metadata": {},
   "outputs": [
    {
     "data": {
      "text/plain": [
       "{'length': 3, 'data': [15, 10, 432]}"
      ]
     },
     "execution_count": 68,
     "metadata": {},
     "output_type": "execute_result"
    }
   ],
   "source": [
    "ll.traverse_back()"
   ]
  },
  {
   "cell_type": "code",
   "execution_count": 72,
   "metadata": {},
   "outputs": [
    {
     "data": {
      "text/plain": [
       "15"
      ]
     },
     "execution_count": 72,
     "metadata": {},
     "output_type": "execute_result"
    }
   ],
   "source": [
    "ll.tail.value"
   ]
  },
  {
   "cell_type": "code",
   "execution_count": null,
   "metadata": {},
   "outputs": [],
   "source": []
  }
 ],
 "metadata": {
  "kernelspec": {
   "display_name": "Python 3",
   "language": "python",
   "name": "python3"
  },
  "language_info": {
   "codemirror_mode": {
    "name": "ipython",
    "version": 3
   },
   "file_extension": ".py",
   "mimetype": "text/x-python",
   "name": "python",
   "nbconvert_exporter": "python",
   "pygments_lexer": "ipython3",
   "version": "3.8.3"
  }
 },
 "nbformat": 4,
 "nbformat_minor": 4
}
