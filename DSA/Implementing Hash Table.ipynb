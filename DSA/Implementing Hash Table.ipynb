{
 "cells": [
  {
   "cell_type": "code",
   "execution_count": 336,
   "metadata": {},
   "outputs": [],
   "source": [
    "class Hash:\n",
    "    def __init__(self, length):\n",
    "        self.length = length\n",
    "        self.data = [None]*self.length\n",
    "        \n",
    "    def _address(self, key):\n",
    "        created_hash = hash(key)\n",
    "        address = created_hash%self.length\n",
    "        return address\n",
    "    \n",
    "    def get(self, key):\n",
    "        address = self._address(key)\n",
    "        for i in self.data[address]:\n",
    "            if(i[0]==key):\n",
    "                return i\n",
    "        else:\n",
    "            raise Exception(\"Error: Key does not exists.\")\n",
    "            \n",
    "    def update(self, key, value):\n",
    "        address = self._address(key)\n",
    "        if (not self.data[address]):\n",
    "            self.data[address] = [[key, value]]\n",
    "        else:\n",
    "            for i in range(len(self.data[address])):\n",
    "                if (self.data[address][i][0]==key):\n",
    "                    self.data[address][i][1] = value\n",
    "                    return\n",
    "            else:\n",
    "                self.data[address].append([key, value])\n",
    "            \n",
    "        \n",
    "    def delete(self, key):\n",
    "        address = self._address(key)\n",
    "        for i in range(len(self.data[address])):\n",
    "            if (self.data[address][i][0]==key):\n",
    "                del self.data[address][i]\n",
    "                \n",
    "    def keys(self):\n",
    "        keys = []\n",
    "        for i in self.data:\n",
    "            if i:\n",
    "                for j in i:\n",
    "                    keys.append(j[0])\n",
    "        return keys\n",
    "    def clength(self):\n",
    "        return len(d.data)"
   ]
  },
  {
   "cell_type": "code",
   "execution_count": 351,
   "metadata": {},
   "outputs": [],
   "source": [
    "d = Hash(5)"
   ]
  },
  {
   "cell_type": "code",
   "execution_count": 352,
   "metadata": {},
   "outputs": [],
   "source": [
    "d.update(\"ponty\", 51)"
   ]
  },
  {
   "cell_type": "code",
   "execution_count": 353,
   "metadata": {},
   "outputs": [],
   "source": [
    "d.update(1, 51)"
   ]
  },
  {
   "cell_type": "code",
   "execution_count": 354,
   "metadata": {
    "scrolled": true
   },
   "outputs": [
    {
     "data": {
      "text/plain": [
       "[None, [[1, 51]], None, [['ponty', 51]], None]"
      ]
     },
     "execution_count": 354,
     "metadata": {},
     "output_type": "execute_result"
    }
   ],
   "source": [
    "d.data"
   ]
  },
  {
   "cell_type": "code",
   "execution_count": 355,
   "metadata": {},
   "outputs": [
    {
     "data": {
      "text/plain": [
       "5"
      ]
     },
     "execution_count": 355,
     "metadata": {},
     "output_type": "execute_result"
    }
   ],
   "source": [
    "len(d.data)"
   ]
  },
  {
   "cell_type": "code",
   "execution_count": 356,
   "metadata": {},
   "outputs": [
    {
     "data": {
      "text/plain": [
       "[1, 51]"
      ]
     },
     "execution_count": 356,
     "metadata": {},
     "output_type": "execute_result"
    }
   ],
   "source": [
    "d.get(1)"
   ]
  },
  {
   "cell_type": "code",
   "execution_count": 357,
   "metadata": {},
   "outputs": [
    {
     "data": {
      "text/plain": [
       "['ponty', 51]"
      ]
     },
     "execution_count": 357,
     "metadata": {},
     "output_type": "execute_result"
    }
   ],
   "source": [
    "d.get('ponty')"
   ]
  },
  {
   "cell_type": "code",
   "execution_count": 358,
   "metadata": {},
   "outputs": [],
   "source": [
    "d.delete(1)"
   ]
  },
  {
   "cell_type": "code",
   "execution_count": 359,
   "metadata": {
    "scrolled": true
   },
   "outputs": [
    {
     "data": {
      "text/plain": [
       "[None, [], None, [['ponty', 51]], None]"
      ]
     },
     "execution_count": 359,
     "metadata": {},
     "output_type": "execute_result"
    }
   ],
   "source": [
    "d.data"
   ]
  },
  {
   "cell_type": "code",
   "execution_count": 360,
   "metadata": {},
   "outputs": [],
   "source": [
    "d.update(51, 55)"
   ]
  },
  {
   "cell_type": "code",
   "execution_count": 361,
   "metadata": {},
   "outputs": [],
   "source": [
    "d.update(1, 55)"
   ]
  },
  {
   "cell_type": "code",
   "execution_count": 362,
   "metadata": {
    "scrolled": true
   },
   "outputs": [
    {
     "data": {
      "text/plain": [
       "[None, [[51, 55], [1, 55]], None, [['ponty', 51]], None]"
      ]
     },
     "execution_count": 362,
     "metadata": {},
     "output_type": "execute_result"
    }
   ],
   "source": [
    "d.data"
   ]
  },
  {
   "cell_type": "code",
   "execution_count": 363,
   "metadata": {},
   "outputs": [
    {
     "data": {
      "text/plain": [
       "5"
      ]
     },
     "execution_count": 363,
     "metadata": {},
     "output_type": "execute_result"
    }
   ],
   "source": [
    "d.clength()"
   ]
  },
  {
   "cell_type": "code",
   "execution_count": 364,
   "metadata": {},
   "outputs": [
    {
     "data": {
      "text/plain": [
       "[51, 1, 'ponty']"
      ]
     },
     "execution_count": 364,
     "metadata": {},
     "output_type": "execute_result"
    }
   ],
   "source": [
    "d.keys()"
   ]
  }
 ],
 "metadata": {
  "kernelspec": {
   "display_name": "Python 3",
   "language": "python",
   "name": "python3"
  },
  "language_info": {
   "codemirror_mode": {
    "name": "ipython",
    "version": 3
   },
   "file_extension": ".py",
   "mimetype": "text/x-python",
   "name": "python",
   "nbconvert_exporter": "python",
   "pygments_lexer": "ipython3",
   "version": "3.8.3"
  }
 },
 "nbformat": 4,
 "nbformat_minor": 4
}
