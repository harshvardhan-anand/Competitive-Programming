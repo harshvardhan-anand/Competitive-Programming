{
 "cells": [
  {
   "cell_type": "markdown",
   "metadata": {},
   "source": [
    "150 = 60+30*3\n",
    "210"
   ]
  },
  {
   "cell_type": "code",
   "execution_count": 1,
   "metadata": {
    "ExecuteTime": {
     "end_time": "2022-03-14T08:25:58.230765Z",
     "start_time": "2022-03-14T08:25:58.222765Z"
    }
   },
   "outputs": [],
   "source": [
    "class Node:\n",
    "    def __init__(self, val=None, left=None, right=None):\n",
    "        self.val = val\n",
    "        self.left = left\n",
    "        self.right = right"
   ]
  },
  {
   "cell_type": "code",
   "execution_count": 6,
   "metadata": {
    "ExecuteTime": {
     "end_time": "2022-03-14T08:25:58.487156Z",
     "start_time": "2022-03-14T08:25:58.470143Z"
    }
   },
   "outputs": [],
   "source": [
    "class Tree:\n",
    "    def __init__(self):\n",
    "        self.root = None\n",
    "        self.max = self.root\n",
    "        \n",
    "    def insert(self, val):\n",
    "        node = Node(val)\n",
    "        if not self.root:\n",
    "            self.root = node\n",
    "        else:\n",
    "            ptr = self.root\n",
    "            while(True):\n",
    "                if val<ptr.val:\n",
    "                    if ptr.left:\n",
    "                        ptr = ptr.left\n",
    "                    else:\n",
    "                        ptr.left = node\n",
    "                        break\n",
    "                elif val>ptr.val:\n",
    "                    if ptr.right:\n",
    "                        ptr = ptr.right\n",
    "                    else:\n",
    "                        ptr.right = node\n",
    "                        break\n",
    "                else:\n",
    "                    break\n",
    "    def BFS(self):\n",
    "        ptr = self.root\n",
    "        q = []\n",
    "        ans = []\n",
    "        q.append(ptr)\n",
    "        while q:\n",
    "            node = q.pop(0)\n",
    "            ans.append(node.val)\n",
    "            if node.left:q.append(node.left)\n",
    "            if node.right: q.append(node.right)\n",
    "        return ans\n",
    "    \n",
    "    def inorder(self):\n",
    "        ptr = self.root\n",
    "        s = []\n",
    "        ans = []\n",
    "        while True:\n",
    "            if ptr:\n",
    "                s.append(ptr)\n",
    "                ptr = ptr.left\n",
    "            elif s:\n",
    "                ptr = s.pop()\n",
    "                ans.append(ptr.val)\n",
    "                ptr = ptr.right\n",
    "            else: break\n",
    "\n",
    "        return ans\n",
    "        "
   ]
  },
  {
   "cell_type": "code",
   "execution_count": 7,
   "metadata": {
    "ExecuteTime": {
     "end_time": "2022-03-14T08:25:58.814593Z",
     "start_time": "2022-03-14T08:25:58.800591Z"
    }
   },
   "outputs": [],
   "source": [
    "tree = Tree()\n",
    "\n",
    "a = [8,6,9,5,7,10]\n",
    "\n",
    "for i in a:\n",
    "    tree.insert(i)"
   ]
  },
  {
   "cell_type": "code",
   "execution_count": 8,
   "metadata": {
    "ExecuteTime": {
     "end_time": "2022-03-14T08:25:59.543321Z",
     "start_time": "2022-03-14T08:25:59.521332Z"
    }
   },
   "outputs": [
    {
     "data": {
      "text/plain": [
       "[8, 6, 9, 5, 7, 10]"
      ]
     },
     "execution_count": 8,
     "metadata": {},
     "output_type": "execute_result"
    }
   ],
   "source": [
    "tree.BFS()"
   ]
  },
  {
   "cell_type": "code",
   "execution_count": 9,
   "metadata": {
    "ExecuteTime": {
     "end_time": "2022-03-14T08:26:00.682372Z",
     "start_time": "2022-03-14T08:26:00.664369Z"
    }
   },
   "outputs": [
    {
     "data": {
      "text/plain": [
       "[5, 6, 7, 8, 9, 10]"
      ]
     },
     "execution_count": 9,
     "metadata": {},
     "output_type": "execute_result"
    }
   ],
   "source": [
    "tree.inorder()"
   ]
  },
  {
   "cell_type": "code",
   "execution_count": null,
   "metadata": {},
   "outputs": [],
   "source": []
  },
  {
   "cell_type": "code",
   "execution_count": null,
   "metadata": {},
   "outputs": [],
   "source": []
  }
 ],
 "metadata": {
  "kernelspec": {
   "display_name": "Python 3 (ipykernel)",
   "language": "python",
   "name": "python3"
  },
  "language_info": {
   "codemirror_mode": {
    "name": "ipython",
    "version": 3
   },
   "file_extension": ".py",
   "mimetype": "text/x-python",
   "name": "python",
   "nbconvert_exporter": "python",
   "pygments_lexer": "ipython3",
   "version": "3.9.7"
  },
  "varInspector": {
   "cols": {
    "lenName": 16,
    "lenType": 16,
    "lenVar": 40
   },
   "kernels_config": {
    "python": {
     "delete_cmd_postfix": "",
     "delete_cmd_prefix": "del ",
     "library": "var_list.py",
     "varRefreshCmd": "print(var_dic_list())"
    },
    "r": {
     "delete_cmd_postfix": ") ",
     "delete_cmd_prefix": "rm(",
     "library": "var_list.r",
     "varRefreshCmd": "cat(var_dic_list()) "
    }
   },
   "types_to_exclude": [
    "module",
    "function",
    "builtin_function_or_method",
    "instance",
    "_Feature"
   ],
   "window_display": false
  }
 },
 "nbformat": 4,
 "nbformat_minor": 4
}
