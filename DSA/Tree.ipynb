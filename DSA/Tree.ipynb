{
 "cells": [
  {
   "cell_type": "markdown",
   "metadata": {},
   "source": [
    "# In DFS we have 3 types of traversal - InOrder, PreOrder, PostOrder\n",
    "\n",
    "<code>\n",
    "InOrder = [Left, root, right]\n",
    "PreOrder = [root, left, right] --> top to bottom - root then left leaf then right leaf\n",
    "PostOrder = [left, right, root] --> bottom to top i.e left leaf then right leaf then root\n",
    "</code>\n",
    "\n",
    "So, in any of 3 cases the name depends on where root node is placed. For ex - in Preorder root is before left and right where as in PostOrder root is at the end or left or right"
   ]
  },
  {
   "cell_type": "code",
   "execution_count": 318,
   "metadata": {},
   "outputs": [],
   "source": [
    "class Node:\n",
    "    def __init__(self, value):\n",
    "        self.value = value\n",
    "        self.left = None\n",
    "        self.right = None\n",
    "\n",
    "class BST:\n",
    "    def __init__(self):\n",
    "        self.root = None\n",
    "        self.max_node = self.root\n",
    "        self.data = []\n",
    "    \n",
    "    def reset(self):\n",
    "        self.data = []\n",
    "        \n",
    "    def insert(self, value):\n",
    "        node = Node(value)\n",
    "        if (not self.root):\n",
    "            self.root = node\n",
    "            \n",
    "        ptr = self.root\n",
    "        while (True):\n",
    "            if (value<ptr.value):#less\n",
    "                if (not ptr.left):\n",
    "                    ptr.left = node\n",
    "                    break                \n",
    "                ptr = ptr.left\n",
    "            elif (value>ptr.value):#more\n",
    "                if (not ptr.right):\n",
    "                    ptr.right = node\n",
    "                    break                \n",
    "                ptr = ptr.right\n",
    "            else:\n",
    "                break\n",
    "                \n",
    "    def traverse_preorder(self, root):\n",
    "        if root:\n",
    "            self.data.append(root.value),\n",
    "            self.traverse_preorder(root.left)\n",
    "            self.traverse_preorder(root.right)\n",
    "            \n",
    "    def traverse(self):\n",
    "        nodes = []\n",
    "        data = []\n",
    "        ptr = self.root\n",
    "        while True:\n",
    "            if ((not ptr) and (not len(nodes))):break\n",
    "            if (not ptr):\n",
    "                ptr = nodes.pop()\n",
    "                data.append(ptr.value)\n",
    "                ptr = ptr.right\n",
    "                continue\n",
    "            nodes.append(ptr)\n",
    "            ptr = ptr.left\n",
    "\n",
    "        return data\n",
    "    \n",
    "    def BFS(self):\n",
    "        ans = []\n",
    "        queue = []\n",
    "        if not self.root:\n",
    "            return\n",
    "        queue.append(self.root)\n",
    "        while(True):\n",
    "            currNode = queue.pop(0)\n",
    "            ans.append(currNode.value)\n",
    "            if currNode.left:\n",
    "                queue.append(currNode.left)\n",
    "            if currNode.right:\n",
    "                queue.append(currNode.right)\n",
    "            if not len(queue):\n",
    "                return ans\n",
    "            \n",
    "    def DFSInOrder(self):\n",
    "        s = []\n",
    "        ans = []\n",
    "        curr = self.root\n",
    "        while True:\n",
    "            if (not curr):\n",
    "                curr = s.pop()\n",
    "                ans.append(curr.value)\n",
    "                curr = curr.right\n",
    "            else:\n",
    "                s.append(curr)\n",
    "                curr = curr.left\n",
    "            if (not len(s) and not curr):\n",
    "                return ans\n",
    "            \n",
    "    def DFSPreOrder(self):\n",
    "        stack = []\n",
    "        ans = []\n",
    "        stack.append(self.root)\n",
    "        while True:\n",
    "            curr = stack.pop()\n",
    "            ans.append(curr.value)\n",
    "            if curr.right:\n",
    "                stack.append(curr.right)\n",
    "            if curr.left:\n",
    "                stack.append(curr.left)\n",
    "            if not len(stack):\n",
    "                return ans\n",
    "    def DFSPostOrder(self):\n",
    "        ans = []\n",
    "        stack = []\n",
    "        curr = self.root\n",
    "#         stack.append(curr)\n",
    "        while True:\n",
    "            if curr:\n",
    "                stack.append(curr.value)\n",
    "                curr = curr.left\n",
    "            else:\n",
    "                stack = stack[-1]\n",
    "                if curr.right:\n",
    "                    curr = curr.right\n",
    "                    stack.append(curr.value)\n",
    "                    curr = curr.left\n",
    "                else:\n",
    "                    curr = stack.pop()\n",
    "                    ans.append(curr)\n",
    "                    curr = stack.pop()\n",
    "            if not len(stack):\n",
    "                return ans\n",
    "                \n",
    "                "
   ]
  },
  {
   "cell_type": "code",
   "execution_count": 319,
   "metadata": {},
   "outputs": [
    {
     "data": {
      "text/plain": [
       "[9, 4, 1]"
      ]
     },
     "execution_count": 319,
     "metadata": {},
     "output_type": "execute_result"
    }
   ],
   "source": [
    "bst = BST()\n",
    "\n",
    "insert = [9,4,20,1,6,15,170]+[3,5,2]\n",
    "for i in insert:\n",
    "    bst.insert(i)\n",
    "    \n",
    "bst.DFSPostOrder()"
   ]
  },
  {
   "cell_type": "markdown",
   "metadata": {},
   "source": [
    "[9,4,20,1,6,15,170]"
   ]
  },
  {
   "cell_type": "code",
   "execution_count": 307,
   "metadata": {},
   "outputs": [],
   "source": [
    "bst = BST()"
   ]
  },
  {
   "cell_type": "code",
   "execution_count": 308,
   "metadata": {},
   "outputs": [],
   "source": [
    "bst.root"
   ]
  },
  {
   "cell_type": "code",
   "execution_count": 309,
   "metadata": {},
   "outputs": [],
   "source": [
    "insert = [9,4,20,1,6,15,170]+[3,5,2]\n",
    "for i in insert:\n",
    "    bst.insert(i)\n",
    "\n",
    "# bst.insert(9)\n",
    "# bst.insert(4)\n",
    "# bst.insert(20)\n",
    "# bst.insert(1)\n",
    "# bst.insert(6)\n",
    "# bst.insert(15)\n",
    "# bst.insert(170)"
   ]
  },
  {
   "cell_type": "code",
   "execution_count": 310,
   "metadata": {},
   "outputs": [
    {
     "data": {
      "text/plain": [
       "6"
      ]
     },
     "execution_count": 310,
     "metadata": {},
     "output_type": "execute_result"
    }
   ],
   "source": [
    "bst.root.left.right.value"
   ]
  },
  {
   "cell_type": "code",
   "execution_count": 311,
   "metadata": {},
   "outputs": [],
   "source": [
    "bst.traverse_preorder(bst.root)"
   ]
  },
  {
   "cell_type": "code",
   "execution_count": 312,
   "metadata": {},
   "outputs": [
    {
     "data": {
      "text/plain": [
       "[1, 2, 3, 4, 5, 6, 9, 15, 20, 170]"
      ]
     },
     "execution_count": 312,
     "metadata": {},
     "output_type": "execute_result"
    }
   ],
   "source": [
    "bst.traverse()"
   ]
  },
  {
   "cell_type": "code",
   "execution_count": 313,
   "metadata": {},
   "outputs": [
    {
     "data": {
      "text/plain": [
       "[9, 4, 20, 1, 6, 15, 170, 3, 5, 2]"
      ]
     },
     "execution_count": 313,
     "metadata": {},
     "output_type": "execute_result"
    }
   ],
   "source": [
    "bst.BFS()"
   ]
  },
  {
   "cell_type": "code",
   "execution_count": 314,
   "metadata": {},
   "outputs": [
    {
     "data": {
      "text/plain": [
       "[1, 2, 3, 4, 5, 6, 9, 15, 20, 170]"
      ]
     },
     "execution_count": 314,
     "metadata": {},
     "output_type": "execute_result"
    }
   ],
   "source": [
    "bst.DFSInOrder()"
   ]
  },
  {
   "cell_type": "code",
   "execution_count": 315,
   "metadata": {},
   "outputs": [
    {
     "data": {
      "text/plain": [
       "[9, 4, 1, 3, 2, 6, 5, 20, 15, 170]"
      ]
     },
     "execution_count": 315,
     "metadata": {},
     "output_type": "execute_result"
    }
   ],
   "source": [
    "bst.DFSPreOrder()"
   ]
  },
  {
   "cell_type": "code",
   "execution_count": 316,
   "metadata": {},
   "outputs": [
    {
     "data": {
      "text/plain": [
       "[<__main__.Node at 0x20633350bb0>,\n",
       " <__main__.Node at 0x20633350ac0>,\n",
       " <__main__.Node at 0x2063399fe50>]"
      ]
     },
     "execution_count": 316,
     "metadata": {},
     "output_type": "execute_result"
    }
   ],
   "source": [
    "bst.DFSPostOrder()"
   ]
  },
  {
   "cell_type": "code",
   "execution_count": null,
   "metadata": {},
   "outputs": [],
   "source": []
  },
  {
   "cell_type": "code",
   "execution_count": null,
   "metadata": {},
   "outputs": [],
   "source": []
  }
 ],
 "metadata": {
  "kernelspec": {
   "display_name": "Python 3 (ipykernel)",
   "language": "python",
   "name": "python3"
  },
  "language_info": {
   "codemirror_mode": {
    "name": "ipython",
    "version": 3
   },
   "file_extension": ".py",
   "mimetype": "text/x-python",
   "name": "python",
   "nbconvert_exporter": "python",
   "pygments_lexer": "ipython3",
   "version": "3.9.7"
  }
 },
 "nbformat": 4,
 "nbformat_minor": 4
}
