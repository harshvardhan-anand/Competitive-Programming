{
 "cells": [
  {
   "cell_type": "code",
   "execution_count": 2,
   "id": "2c4472c3",
   "metadata": {},
   "outputs": [],
   "source": [
    "class Node:\n",
    "    def __init__(self, value):\n",
    "        self.val = value\n",
    "        self.left = None\n",
    "        self.right = None"
   ]
  },
  {
   "cell_type": "code",
   "execution_count": 5,
   "id": "f5281b8b",
   "metadata": {},
   "outputs": [],
   "source": [
    "class Tree:\n",
    "    def __init__(self):\n",
    "        self.root = None\n",
    "        \n",
    "    def insert(self, val):\n",
    "        n = Node(val)\n",
    "        if not self.root:\n",
    "            self.root = n\n",
    "        \n",
    "        curr = self.root\n",
    "        while True:\n",
    "            if val<curr.val:\n",
    "                if not curr.left:\n",
    "                    curr.left = n\n",
    "                    break\n",
    "                curr = curr.left\n",
    "            elif val>curr.val:\n",
    "                if not curr.right:\n",
    "                    curr.right = n\n",
    "                    break\n",
    "                curr = curr.right\n",
    "            else:\n",
    "                break\n",
    "    def traverseio(self): # io-inorder\n",
    "        curr = self.root\n",
    "        stack = []\n",
    "        res = []\n",
    "        while True:\n",
    "            if curr is not None:\n",
    "                stack.append(curr)\n",
    "                curr = curr.left\n",
    "            elif stack:\n",
    "                curr = stack.pop()\n",
    "                res.append(curr.val)\n",
    "                curr = curr.right\n",
    "            else:\n",
    "                return res"
   ]
  },
  {
   "cell_type": "code",
   "execution_count": 8,
   "id": "23a863ef",
   "metadata": {},
   "outputs": [],
   "source": [
    "t = Tree()\n",
    "\n",
    "for i in range(10):\n",
    "    t.insert(i)"
   ]
  },
  {
   "cell_type": "code",
   "execution_count": 10,
   "id": "cb89bb29",
   "metadata": {},
   "outputs": [
    {
     "data": {
      "text/plain": [
       "[0, 1, 2, 3, 4, 5, 6, 7, 8, 9]"
      ]
     },
     "execution_count": 10,
     "metadata": {},
     "output_type": "execute_result"
    }
   ],
   "source": [
    "t.traverseio()"
   ]
  }
 ],
 "metadata": {
  "kernelspec": {
   "display_name": "Python 3 (ipykernel)",
   "language": "python",
   "name": "python3"
  },
  "language_info": {
   "codemirror_mode": {
    "name": "ipython",
    "version": 3
   },
   "file_extension": ".py",
   "mimetype": "text/x-python",
   "name": "python",
   "nbconvert_exporter": "python",
   "pygments_lexer": "ipython3",
   "version": "3.9.7"
  }
 },
 "nbformat": 4,
 "nbformat_minor": 5
}
