{
 "cells": [
  {
   "cell_type": "code",
   "execution_count": null,
   "metadata": {},
   "outputs": [],
   "source": [
    "n, k= map(int, input().split())\n",
    "bill=input().split()\n",
    "charged=int(input())\n",
    "bill.pop(k)\n",
    "net=0\n",
    "for i in bill:\n",
    "    i=int(i)\n",
    "    net=net+i\n",
    "net=net/2\n",
    "charged=charged-net\n",
    "if charged==0:\n",
    "    print(\"Bon Appetit\")\n",
    "else:\n",
    "    print(int(charged))"
   ]
  },
  {
   "cell_type": "code",
   "execution_count": null,
   "metadata": {},
   "outputs": [],
   "source": []
  }
 ],
 "metadata": {
  "kernelspec": {
   "display_name": "Python 3",
   "language": "python",
   "name": "python3"
  },
  "language_info": {
   "codemirror_mode": {
    "name": "ipython",
    "version": 3
   },
   "file_extension": ".py",
   "mimetype": "text/x-python",
   "name": "python",
   "nbconvert_exporter": "python",
   "pygments_lexer": "ipython3",
   "version": "3.7.1"
  }
 },
 "nbformat": 4,
 "nbformat_minor": 2
}
