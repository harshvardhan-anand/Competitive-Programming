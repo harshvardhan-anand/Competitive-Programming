{
 "cells": [
  {
   "cell_type": "code",
   "execution_count": 57,
   "metadata": {},
   "outputs": [],
   "source": [
    "class Solution:\n",
    "    def coinChange(self, coins, amount):\n",
    "        # binary search will save first elements less than remaining amount\n",
    "        combination = -1\n",
    "        # coins = sorted(coins) #ascending order # remove since coins.len<=12\n",
    "        i, coins = self.linearSearch(coins, amount)\n",
    "        while amount and (i!=-1):\n",
    "            combination += (amount//i)\n",
    "            amount %= i\n",
    "            print(amount, combination)\n",
    "            \n",
    "            if amount==0:\n",
    "                combination+=1\n",
    "                break\n",
    "                \n",
    "            i, coins = self.linearSearch(coins, amount)\n",
    "            \n",
    "            if i == -1:\n",
    "                return -1\n",
    "            \n",
    "        return combination\n",
    "    \n",
    "    def linearSearch(self, coins, amount):\n",
    "        # search for largest value less than amount\n",
    "        mini = -1\n",
    "        idx = -1\n",
    "        found = False\n",
    "        for coin in coins:\n",
    "            idx+=1\n",
    "            if coin==amount:\n",
    "                mini = coin\n",
    "                coins.pop(idx)\n",
    "                found=True\n",
    "                break\n",
    "            elif coin<amount:\n",
    "                if coin>mini:\n",
    "                    mini = coin\n",
    "                    minid = idx\n",
    "        if (not found) and (mini!=-1):\n",
    "            coins.pop(minid)\n",
    "                \n",
    "        return mini, coins"
   ]
  },
  {
   "cell_type": "code",
   "execution_count": 58,
   "metadata": {},
   "outputs": [],
   "source": [
    "sol = Solution()"
   ]
  },
  {
   "cell_type": "code",
   "execution_count": 59,
   "metadata": {},
   "outputs": [
    {
     "name": "stdout",
     "output_type": "stream",
     "text": [
      "383 13\n",
      "11 15\n"
     ]
    },
    {
     "data": {
      "text/plain": [
       "-1"
      ]
     },
     "execution_count": 59,
     "metadata": {},
     "output_type": "execute_result"
    }
   ],
   "source": [
    "coins = [186,419,83,408]\n",
    "amount = 6249\n",
    "sol.coinChange(coins,  amount)"
   ]
  },
  {
   "cell_type": "code",
   "execution_count": null,
   "metadata": {},
   "outputs": [],
   "source": []
  }
 ],
 "metadata": {
  "kernelspec": {
   "display_name": "Python 3",
   "language": "python",
   "name": "python3"
  },
  "language_info": {
   "codemirror_mode": {
    "name": "ipython",
    "version": 3
   },
   "file_extension": ".py",
   "mimetype": "text/x-python",
   "name": "python",
   "nbconvert_exporter": "python",
   "pygments_lexer": "ipython3",
   "version": "3.8.3"
  }
 },
 "nbformat": 4,
 "nbformat_minor": 4
}
