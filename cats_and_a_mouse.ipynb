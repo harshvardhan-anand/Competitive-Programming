{
 "cells": [
  {
   "cell_type": "code",
   "execution_count": 5,
   "metadata": {},
   "outputs": [],
   "source": [
    "def catAndMouse():\n",
    "    cat1,cat2,mouse=list(map(int,input().split()))\n",
    "    dc1=mouse-cat1\n",
    "    dc2=mouse-cat2\n",
    "    dc1=abs(dc1)\n",
    "    dc2=abs(dc2)\n",
    "    if dc1>dc2:\n",
    "        return 'Cat B'\n",
    "    if dc1<dc2:\n",
    "        return 'Cat A'\n",
    "    if dc1==dc2:\n",
    "        return 'Mouse C'"
   ]
  },
  {
   "cell_type": "code",
   "execution_count": null,
   "metadata": {},
   "outputs": [],
   "source": [
    "queries=int(input())\n",
    "ans=[]\n",
    "for i in range(queries):\n",
    "    ans.append(catAndMouse(i))\n",
    "for i in ans:\n",
    "    print(i)"
   ]
  }
 ],
 "metadata": {
  "kernelspec": {
   "display_name": "Python 3",
   "language": "python",
   "name": "python3"
  },
  "language_info": {
   "codemirror_mode": {
    "name": "ipython",
    "version": 3
   },
   "file_extension": ".py",
   "mimetype": "text/x-python",
   "name": "python",
   "nbconvert_exporter": "python",
   "pygments_lexer": "ipython3",
   "version": "3.7.1"
  }
 },
 "nbformat": 4,
 "nbformat_minor": 2
}
