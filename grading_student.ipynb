{
 "cells": [
  {
   "cell_type": "code",
   "execution_count": 10,
   "metadata": {},
   "outputs": [
    {
     "name": "stdout",
     "output_type": "stream",
     "text": [
      "45\n",
      "67\n",
      "40\n",
      "33\n",
      "My Execution time: 0.0010008811950683594\n"
     ]
    }
   ],
   "source": [
    "import time\n",
    "start=time.time()\n",
    "#n=int(input())\n",
    "n=4\n",
    "marks=[43,67,38,33]\n",
    "#for i in range(n):\n",
    "    #marks.append(int(input()))\n",
    "for i in marks:\n",
    "    mul=((int(i/5)+1)*5)\n",
    "    if (mul-i)<3 and i>37:\n",
    "        i=mul\n",
    "    print(i)\n",
    "end=time.time()\n",
    "print(f\"My Execution time: {end-start}\")"
   ]
  },
  {
   "cell_type": "code",
   "execution_count": 44,
   "metadata": {},
   "outputs": [
    {
     "name": "stdout",
     "output_type": "stream",
     "text": [
      "3\n",
      "2\n",
      "55\n",
      "68\n",
      "2\n",
      "55\n",
      "70\n"
     ]
    }
   ],
   "source": [
    "#submitted to hackerank\n",
    "n=int(input())\n",
    "marks=[]\n",
    "for i in range(n):\n",
    "    marks.append(int(input()))\n",
    "for i in marks:\n",
    "    mul=((int(i/5)+1)*5)\n",
    "    if (mul-i)<3 and i>37:\n",
    "        i=mul\n",
    "    print(i)"
   ]
  },
  {
   "cell_type": "code",
   "execution_count": null,
   "metadata": {},
   "outputs": [],
   "source": []
  }
 ],
 "metadata": {
  "kernelspec": {
   "display_name": "Python 3",
   "language": "python",
   "name": "python3"
  },
  "language_info": {
   "codemirror_mode": {
    "name": "ipython",
    "version": 3
   },
   "file_extension": ".py",
   "mimetype": "text/x-python",
   "name": "python",
   "nbconvert_exporter": "python",
   "pygments_lexer": "ipython3",
   "version": "3.7.1"
  }
 },
 "nbformat": 4,
 "nbformat_minor": 2
}
