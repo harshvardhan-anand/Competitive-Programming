{
 "cells": [
  {
   "cell_type": "code",
   "execution_count": 8,
   "metadata": {},
   "outputs": [
    {
     "name": "stdout",
     "output_type": "stream",
     "text": [
      "2\n"
     ]
    }
   ],
   "source": [
    "# Solved with TC - O(n) and SC - O(1)\n",
    "prices = [7,1,1,5,3,6,4]\n",
    "prices = [7,8,9,2,1,12]\n",
    "prices = [2,4,1]\n",
    "\n",
    "buy_price = prices[0]\n",
    "net_profit = 0\n",
    "\n",
    "for sell_price in prices[1:]:\n",
    "    if sell_price<buy_price: # will make loss so its a buy time\n",
    "        buy_price = sell_price\n",
    "        continue\n",
    "    current_profit = sell_price-buy_price\n",
    "    if current_profit>net_profit:\n",
    "        net_profit=current_profit\n",
    "        \n",
    "print(net_profit)"
   ]
  },
  {
   "cell_type": "code",
   "execution_count": null,
   "metadata": {},
   "outputs": [],
   "source": []
  }
 ],
 "metadata": {
  "kernelspec": {
   "display_name": "Python 3",
   "language": "python",
   "name": "python3"
  },
  "language_info": {
   "codemirror_mode": {
    "name": "ipython",
    "version": 3
   },
   "file_extension": ".py",
   "mimetype": "text/x-python",
   "name": "python",
   "nbconvert_exporter": "python",
   "pygments_lexer": "ipython3",
   "version": "3.8.3"
  }
 },
 "nbformat": 4,
 "nbformat_minor": 4
}
