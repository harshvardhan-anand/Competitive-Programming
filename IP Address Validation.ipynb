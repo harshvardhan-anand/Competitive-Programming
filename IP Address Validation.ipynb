{
 "cells": [
  {
   "cell_type": "code",
   "execution_count": 1,
   "metadata": {},
   "outputs": [],
   "source": [
    "import re"
   ]
  },
  {
   "cell_type": "code",
   "execution_count": 2,
   "metadata": {},
   "outputs": [],
   "source": [
    "def check(pattern, string):\n",
    "    regex = re.compile(pattern)\n",
    "    \n",
    "    return re.findall(regex, string)"
   ]
  },
  {
   "cell_type": "code",
   "execution_count": 9,
   "metadata": {
    "scrolled": true
   },
   "outputs": [
    {
     "data": {
      "text/plain": [
       "[]"
      ]
     },
     "execution_count": 9,
     "metadata": {},
     "output_type": "execute_result"
    }
   ],
   "source": [
    "# https://regex101.com/r/hzluqn/1/\n",
    "IPv4pattern = r'((([0-1][0-9][0-9])|([2][0-5][0-5])):){3}(([0-1][0-9][0-9])|([2][0-5][0-5]))'\n",
    "# https://regex101.com/r/PcjR3d/1\n",
    "IPv6pattern = r'(([0-9a-f][0-9a-f][0-9a-f][0-9a-f]:)+[0-9a-f][0-9a-f][0-9a-f][0-9a-f])'\n",
    "string = '121.18.19.20'\n",
    "\n",
    "check(IPv4pattern, string)"
   ]
  },
  {
   "cell_type": "code",
   "execution_count": null,
   "metadata": {},
   "outputs": [],
   "source": []
  },
  {
   "cell_type": "code",
   "execution_count": 5,
   "metadata": {},
   "outputs": [
    {
     "name": "stdout",
     "output_type": "stream",
     "text": [
      "3\n",
      "This is an \n",
      "Neither\n",
      "121.18.19.20 \n",
      "Neither\n",
      "2001:0db8:0000:0000:0000:ff00:0042:8329  \n",
      "Neither\n"
     ]
    }
   ],
   "source": [
    "# Enter your code here. Read input from STDIN. Print output to STDOUT\n",
    "import re\n",
    "\n",
    "def check(pattern, string):\n",
    "    regex = re.compile(pattern)\n",
    "    \n",
    "    return re.findall(regex, string)\n",
    "\n",
    "# https://regex101.com/r/hzluqn/1/\n",
    "IPv4pattern = r'((([0-1][0-9][0-9])|([2][0-5][0-5])):){3}(([0-1][0-9][0-9])|([2][0-5][0-5]))'\n",
    "IPv6pattern = r'(([0-9a-f][0-9a-f][0-9a-f][0-9a-f]:)+[0-9a-f][0-9a-f][0-9a-f][0-9a-f])'\n",
    "\n",
    "\n",
    "N = int(input())\n",
    "for i in range(N):\n",
    "    string = input()\n",
    "    try:\n",
    "        if check(IPv4pattern, string)[0][0]==string:\n",
    "            print('IPv4')\n",
    "    except:\n",
    "        try:\n",
    "            if check(IPv4pattern, string)[0][0]==string:\n",
    "                print('IPv6')\n",
    "        except:\n",
    "            print('Neither')"
   ]
  },
  {
   "cell_type": "code",
   "execution_count": null,
   "metadata": {},
   "outputs": [],
   "source": []
  }
 ],
 "metadata": {
  "kernelspec": {
   "display_name": "Python 3",
   "language": "python",
   "name": "python3"
  },
  "language_info": {
   "codemirror_mode": {
    "name": "ipython",
    "version": 3
   },
   "file_extension": ".py",
   "mimetype": "text/x-python",
   "name": "python",
   "nbconvert_exporter": "python",
   "pygments_lexer": "ipython3",
   "version": "3.7.6"
  }
 },
 "nbformat": 4,
 "nbformat_minor": 4
}
