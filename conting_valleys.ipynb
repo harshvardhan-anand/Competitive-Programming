{
 "cells": [
  {
   "cell_type": "code",
   "execution_count": 47,
   "metadata": {},
   "outputs": [],
   "source": [
    "def executioner(a):\n",
    "    step=0\n",
    "    count=0\n",
    "    m=0\n",
    "    v=0\n",
    "    for i in a:\n",
    "        if i=='U' and step==0:\n",
    "            m=1\n",
    "            v=0\n",
    "        if i=='D' and step==0:\n",
    "            v=1\n",
    "            m=0\n",
    "        if(m):\n",
    "            if i=='U':\n",
    "                step+=1\n",
    "            else:\n",
    "                step-=1\n",
    "        if(v):\n",
    "            if i=='U':\n",
    "                step+=1\n",
    "            else:\n",
    "                step-=1\n",
    "            if not step:\n",
    "                count+=1\n",
    "    print(count)"
   ]
  },
  {
   "cell_type": "code",
   "execution_count": 53,
   "metadata": {},
   "outputs": [
    {
     "name": "stdout",
     "output_type": "stream",
     "text": [
      "3\n"
     ]
    }
   ],
   "source": [
    "#x=input()\n",
    "#a=input()\n",
    "a='DUUDDDUDUUUUDDDU'\n",
    "executioner(a)"
   ]
  },
  {
   "cell_type": "code",
   "execution_count": null,
   "metadata": {},
   "outputs": [],
   "source": []
  },
  {
   "cell_type": "code",
   "execution_count": null,
   "metadata": {},
   "outputs": [],
   "source": []
  }
 ],
 "metadata": {
  "kernelspec": {
   "display_name": "Python 3",
   "language": "python",
   "name": "python3"
  },
  "language_info": {
   "codemirror_mode": {
    "name": "ipython",
    "version": 3
   },
   "file_extension": ".py",
   "mimetype": "text/x-python",
   "name": "python",
   "nbconvert_exporter": "python",
   "pygments_lexer": "ipython3",
   "version": "3.7.1"
  }
 },
 "nbformat": 4,
 "nbformat_minor": 2
}
