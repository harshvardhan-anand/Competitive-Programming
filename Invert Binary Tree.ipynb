{
 "cells": [
  {
   "cell_type": "code",
   "execution_count": 13,
   "id": "80a4cfff",
   "metadata": {
    "ExecuteTime": {
     "end_time": "2022-03-14T13:57:39.284322Z",
     "start_time": "2022-03-14T13:57:39.263301Z"
    }
   },
   "outputs": [],
   "source": [
    "class Node:\n",
    "    def __init__(self, val=None, left=None, right=None):\n",
    "        self.val = val\n",
    "        self.left = left\n",
    "        self.right = right\n",
    "        \n",
    "class Tree:\n",
    "    def __init__(self):\n",
    "        self.root = None\n",
    "    def insert(self, val):\n",
    "        node = Node(val)\n",
    "        if not self.root:\n",
    "            self.root = node\n",
    "            return\n",
    "        ptr = self.root\n",
    "        while True:\n",
    "            if val<ptr.val:\n",
    "                if ptr.left:\n",
    "                    ptr = ptr.left\n",
    "                else:\n",
    "                    ptr.left = node\n",
    "                    break\n",
    "            elif val > ptr.val:\n",
    "                if ptr.right:\n",
    "                    ptr = ptr.right\n",
    "                else:\n",
    "                    ptr.right = node\n",
    "                    break\n",
    "            else:\n",
    "                break\n",
    "                \n",
    "    def bfs(self):\n",
    "        q = []\n",
    "        ptr = self.root\n",
    "        q.append(ptr)\n",
    "        while q:\n",
    "            ptr = q.pop(0)\n",
    "            try: \n",
    "                ptr.val\n",
    "            except:\n",
    "                return self.root\n",
    "            ptr.right, ptr.left = ptr.left, ptr.right\n",
    "            if ptr.left:\n",
    "                q.append(ptr.left) \n",
    "            if ptr.right:\n",
    "                q.append(ptr.right)                \n",
    "        return self.root              "
   ]
  },
  {
   "cell_type": "code",
   "execution_count": 14,
   "id": "fca2fd35",
   "metadata": {
    "ExecuteTime": {
     "end_time": "2022-03-14T13:57:39.454139Z",
     "start_time": "2022-03-14T13:57:39.451137Z"
    }
   },
   "outputs": [],
   "source": [
    "tree = Tree()\n",
    "\n",
    "a = [8,6,9,5,7,10]\n",
    "\n",
    "for i in a:\n",
    "    tree.insert(i)"
   ]
  },
  {
   "cell_type": "code",
   "execution_count": 15,
   "id": "067d919c",
   "metadata": {
    "ExecuteTime": {
     "end_time": "2022-03-14T13:57:39.660075Z",
     "start_time": "2022-03-14T13:57:39.647076Z"
    }
   },
   "outputs": [
    {
     "data": {
      "text/plain": [
       "[8, 9, 6, 10, 7, 5]"
      ]
     },
     "execution_count": 15,
     "metadata": {},
     "output_type": "execute_result"
    }
   ],
   "source": [
    "tree.bfs()"
   ]
  },
  {
   "cell_type": "code",
   "execution_count": null,
   "id": "a6d10b97",
   "metadata": {},
   "outputs": [],
   "source": []
  }
 ],
 "metadata": {
  "kernelspec": {
   "display_name": "Python 3 (ipykernel)",
   "language": "python",
   "name": "python3"
  },
  "language_info": {
   "codemirror_mode": {
    "name": "ipython",
    "version": 3
   },
   "file_extension": ".py",
   "mimetype": "text/x-python",
   "name": "python",
   "nbconvert_exporter": "python",
   "pygments_lexer": "ipython3",
   "version": "3.9.7"
  },
  "varInspector": {
   "cols": {
    "lenName": 16,
    "lenType": 16,
    "lenVar": 40
   },
   "kernels_config": {
    "python": {
     "delete_cmd_postfix": "",
     "delete_cmd_prefix": "del ",
     "library": "var_list.py",
     "varRefreshCmd": "print(var_dic_list())"
    },
    "r": {
     "delete_cmd_postfix": ") ",
     "delete_cmd_prefix": "rm(",
     "library": "var_list.r",
     "varRefreshCmd": "cat(var_dic_list()) "
    }
   },
   "types_to_exclude": [
    "module",
    "function",
    "builtin_function_or_method",
    "instance",
    "_Feature"
   ],
   "window_display": false
  }
 },
 "nbformat": 4,
 "nbformat_minor": 5
}
