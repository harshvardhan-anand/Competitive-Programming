{
 "cells": [
  {
   "cell_type": "code",
   "execution_count": 2,
   "metadata": {},
   "outputs": [],
   "source": [
    "#factor always means remainder will be zero"
   ]
  },
  {
   "cell_type": "code",
   "execution_count": 25,
   "metadata": {},
   "outputs": [],
   "source": [
    "a=[2]\n",
    "b=[20, 30, 12]"
   ]
  },
  {
   "cell_type": "code",
   "execution_count": 20,
   "metadata": {},
   "outputs": [],
   "source": [
    "a=[2, 4]\n",
    "b=[16, 32, 96]"
   ]
  },
  {
   "cell_type": "code",
   "execution_count": 26,
   "metadata": {},
   "outputs": [
    {
     "name": "stdout",
     "output_type": "stream",
     "text": [
      "2\n"
     ]
    }
   ],
   "source": [
    "#x=input()\n",
    "#a=input().split()\n",
    "#b=input().split()\n",
    "maxi=int(a[0])\n",
    "mini=int(b[0])\n",
    "prince=0\n",
    "for i in a:\n",
    "    i=int(i)\n",
    "    if(i>maxi):\n",
    "        maxi=i\n",
    "for j in b:\n",
    "    j=int(j)\n",
    "    if(j<mini):\n",
    "        mini=j\n",
    "        \n",
    "#print(maxi, mini)\n",
    "for i in range(maxi, mini+1):\n",
    "    count=0\n",
    "    for j in a:\n",
    "        j=int(j)\n",
    "        count+=1\n",
    "        if (i%j != 0):#number is divided by number in a\n",
    "            break #if a number in a is not factor of number i range then break \n",
    "        if count==len(a):\n",
    "            count=0\n",
    "            for k in b:\n",
    "                k=int(k)\n",
    "                if (k%i == 0):\n",
    "                    count+=1\n",
    "                else:\n",
    "                    break\n",
    "            if(count==len(b)):\n",
    "                print(i)\n",
    "                prince+=1\n",
    "                #print(count)\n",
    "#print(prince)\n",
    "#print(len(b))"
   ]
  },
  {
   "cell_type": "code",
   "execution_count": null,
   "metadata": {},
   "outputs": [],
   "source": []
  }
 ],
 "metadata": {
  "kernelspec": {
   "display_name": "Python 3",
   "language": "python",
   "name": "python3"
  },
  "language_info": {
   "codemirror_mode": {
    "name": "ipython",
    "version": 3
   },
   "file_extension": ".py",
   "mimetype": "text/x-python",
   "name": "python",
   "nbconvert_exporter": "python",
   "pygments_lexer": "ipython3",
   "version": "3.7.1"
  }
 },
 "nbformat": 4,
 "nbformat_minor": 2
}
