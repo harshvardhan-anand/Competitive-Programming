{
 "cells": [
  {
   "cell_type": "code",
   "execution_count": null,
   "metadata": {},
   "outputs": [],
   "source": [
    "s1 = 'abcabcbb'\n",
    "s2 = \"bbbbb\"\n",
    "s3 = \"pwwkew\"\n",
    "s4 = \"abcabcbb\"\n",
    "s4 = ' '"
   ]
  },
  {
   "cell_type": "code",
   "execution_count": 33,
   "metadata": {},
   "outputs": [
    {
     "name": "stdout",
     "output_type": "stream",
     "text": [
      "5\n"
     ]
    }
   ],
   "source": [
    "temp = ''\n",
    "c = 0\n",
    "maxi = 0\n",
    "\n",
    "for i in s:\n",
    "    if i in temp:\n",
    "        idx = temp.index(i)\n",
    "        try:# Out of range error\n",
    "            temp = temp[idx+1:]\n",
    "            temp+=i\n",
    "        except:\n",
    "            temp = i\n",
    "        c = len(temp)\n",
    "    else:\n",
    "        temp+=i\n",
    "        c+=1\n",
    "    if c>maxi:\n",
    "        maxi = c\n",
    "print(maxi)"
   ]
  },
  {
   "cell_type": "code",
   "execution_count": 46,
   "metadata": {},
   "outputs": [
    {
     "name": "stdout",
     "output_type": "stream",
     "text": [
      "3\n"
     ]
    }
   ],
   "source": [
    "s = s1\n",
    "d = {}\n",
    "temp = ''\n",
    "m = 0\n",
    "for i in s:\n",
    "    try:\n",
    "        d[i]+=1\n",
    "        if {d[i]==2}:\n",
    "#             print(d, temp, i)\n",
    "            for i in temp:\n",
    "                d[i]-=1\n",
    "#                 print(i, d[i])\n",
    "                if d[i]==1:\n",
    "                    temp = temp.replace(i, '')\n",
    "                    temp+=i\n",
    "                    break\n",
    "                else:\n",
    "                    temp = temp.replace(i, '')\n",
    "#             print(m)\n",
    "        else:\n",
    "            temp+=i\n",
    "    except Exception as e:\n",
    "#         print('e',e)\n",
    "        d[i] = 1\n",
    "        temp+=i\n",
    "    m = len(temp) if len(temp)>m else m\n",
    "    \n",
    "print(m)"
   ]
  },
  {
   "cell_type": "code",
   "execution_count": 88,
   "metadata": {},
   "outputs": [],
   "source": [
    "s1 = 'abcabcbb'\n",
    "s2 = \"bbbbb\"\n",
    "s3 = \"pwwkew\"\n",
    "s4 = \"abcabcbb\"\n",
    "s5 = ' '"
   ]
  },
  {
   "cell_type": "code",
   "execution_count": 91,
   "metadata": {},
   "outputs": [],
   "source": [
    "s = s5"
   ]
  },
  {
   "cell_type": "code",
   "execution_count": 92,
   "metadata": {},
   "outputs": [
    {
     "data": {
      "text/plain": [
       "1"
      ]
     },
     "execution_count": 92,
     "metadata": {},
     "output_type": "execute_result"
    }
   ],
   "source": [
    "mlen = 0\n",
    "left_ptr = 0\n",
    "\n",
    "d = {}\n",
    "\n",
    "for right_ptr in range(len(s)):\n",
    "    ch = s[right_ptr]\n",
    "    if (ch in d) and (left_ptr<=d[ch]<right_ptr):\n",
    "#         print(ch, right_ptr, left_ptr)\n",
    "        left_ptr = d[ch]+1\n",
    "        d[ch] = right_ptr\n",
    "#         print(ch, right_ptr, left_ptr)\n",
    "        \n",
    "        \n",
    "    else:\n",
    "        d[ch] = right_ptr\n",
    "    if (right_ptr-left_ptr+1)>mlen:\n",
    "        mlen = right_ptr-left_ptr+1\n",
    "        \n",
    "mlen"
   ]
  },
  {
   "cell_type": "code",
   "execution_count": 75,
   "metadata": {},
   "outputs": [
    {
     "data": {
      "text/plain": [
       "3"
      ]
     },
     "execution_count": 75,
     "metadata": {},
     "output_type": "execute_result"
    }
   ],
   "source": [
    "left_ptr"
   ]
  },
  {
   "cell_type": "code",
   "execution_count": 76,
   "metadata": {},
   "outputs": [
    {
     "data": {
      "text/plain": [
       "5"
      ]
     },
     "execution_count": 76,
     "metadata": {},
     "output_type": "execute_result"
    }
   ],
   "source": [
    "right_ptr"
   ]
  },
  {
   "cell_type": "code",
   "execution_count": 64,
   "metadata": {},
   "outputs": [
    {
     "data": {
      "text/plain": [
       "{'p': 0, 'w': 6, 'k': 3, 'e': 4}"
      ]
     },
     "execution_count": 64,
     "metadata": {},
     "output_type": "execute_result"
    }
   ],
   "source": [
    "d"
   ]
  },
  {
   "cell_type": "code",
   "execution_count": 65,
   "metadata": {},
   "outputs": [
    {
     "data": {
      "text/plain": [
       "'pwwkew'"
      ]
     },
     "execution_count": 65,
     "metadata": {},
     "output_type": "execute_result"
    }
   ],
   "source": [
    "s"
   ]
  },
  {
   "cell_type": "code",
   "execution_count": null,
   "metadata": {},
   "outputs": [],
   "source": []
  }
 ],
 "metadata": {
  "kernelspec": {
   "display_name": "Python 3",
   "language": "python",
   "name": "python3"
  },
  "language_info": {
   "codemirror_mode": {
    "name": "ipython",
    "version": 3
   },
   "file_extension": ".py",
   "mimetype": "text/x-python",
   "name": "python",
   "nbconvert_exporter": "python",
   "pygments_lexer": "ipython3",
   "version": "3.8.3"
  }
 },
 "nbformat": 4,
 "nbformat_minor": 4
}
